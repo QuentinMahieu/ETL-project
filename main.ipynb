{
 "metadata": {
  "language_info": {
   "codemirror_mode": {
    "name": "ipython",
    "version": 3
   },
   "file_extension": ".py",
   "mimetype": "text/x-python",
   "name": "python",
   "nbconvert_exporter": "python",
   "pygments_lexer": "ipython3",
   "version": "3.6.10-final"
  },
  "orig_nbformat": 2,
  "kernelspec": {
   "name": "python361064bitpythondatanewcondae7a48796120c4badafdc12c7c6175686",
   "display_name": "Python 3.6.10 64-bit ('PythonDataNew': conda)"
  }
 },
 "nbformat": 4,
 "nbformat_minor": 2,
 "cells": [
  {
   "cell_type": "markdown",
   "metadata": {},
   "source": [
    "### [Store the files in the world_criminality bucket]"
   ]
  },
  {
   "cell_type": "code",
   "execution_count": 8,
   "metadata": {},
   "outputs": [],
   "source": [
    "from google.cloud import storage \n",
    "import os\n",
    "os.environ[\"GOOGLE_APPLICATION_CREDENTIALS\"]=\"/Users/quentinmahieu/Desktop/School/Monash/Projects_Monash/13.ETL_project/credentials/crimeproject-295908-6ab56d225adb.json\""
   ]
  },
  {
   "cell_type": "code",
   "execution_count": 9,
   "metadata": {
    "tags": []
   },
   "outputs": [
    {
     "output_type": "stream",
     "name": "stdout",
     "text": "[<Bucket: world_criminality>]\n"
    }
   ],
   "source": [
    "# client library will look for credentials in the environment.\n",
    "client = storage.Client()\n",
    "# Make an authenticated API request\n",
    "buckets = list(client.list_buckets())\n",
    "print(buckets)\n",
    "bucket_name = buckets[0].name"
   ]
  },
  {
   "cell_type": "code",
   "execution_count": 10,
   "metadata": {
    "tags": []
   },
   "outputs": [],
   "source": [
    "files = os.listdir('Data')\n",
    "for file in files:\n",
    "    file_name = file\n",
    "    path = 'Data/' + file_name\n",
    "    client.get_bucket(bucket_name).blob(file_name).\\\n",
    "        upload_from_filename(path, content_type='text/csv')"
   ]
  },
  {
   "cell_type": "markdown",
   "metadata": {},
   "source": [
    "### [How to query the world_criminality bucket]"
   ]
  },
  {
   "cell_type": "code",
   "execution_count": 11,
   "metadata": {
    "tags": []
   },
   "outputs": [
    {
     "output_type": "stream",
     "name": "stdout",
     "text": "au_crimes_age\nau_crimes_nationality\nau_offenders_crimes_count\nau_offenders_crimes_rate\nau_prisoners_age\nau_prisoners_crimes\nau_prisoners_types\ncountry_gdp\ncountry_info\ncountry_names\ncrime_rate\ndrug_seizures\nhappiness\nprison_pop\n"
    }
   ],
   "source": [
    "import pandas as pd\n",
    "client = storage.Client()\n",
    "#list the available buckets \n",
    "buckets = list(client.list_buckets())\n",
    "bucket_name = buckets[0].name\n",
    "bucket = client.get_bucket(bucket_name)\n",
    "#list the available blobs/objects\n",
    "blobs = bucket.list_blobs()\n",
    "     \n",
    "dfs = {}\n",
    "for blob in blobs:\n",
    "    file_name = blob.name\n",
    "    df = pd.read_csv(f'gs://{bucket_name}/{file_name}',index_col=0)\n",
    "    dfs[file_name.split('.')[0]] = df\n",
    "    print(file_name.split('.')[0])"
   ]
  },
  {
   "cell_type": "code",
   "execution_count": 12,
   "metadata": {},
   "outputs": [],
   "source": [
    "country_gdp = dfs['country_gdp']\n",
    "country_info = dfs['country_info']\n",
    "country_names = dfs['country_names']\n",
    "crime_rate = dfs['crime_rate']\n",
    "happiness = dfs['happiness']\n",
    "prison_pop = dfs['prison_pop']\n",
    "drug_seizure = dfs['drug_seizures']"
   ]
  },
  {
   "cell_type": "code",
   "execution_count": 13,
   "metadata": {},
   "outputs": [],
   "source": [
    "crime_happiness_df = crime_rate.merge(happiness,on='country_code',how='left')"
   ]
  },
  {
   "cell_type": "code",
   "execution_count": 14,
   "metadata": {
    "tags": []
   },
   "outputs": [
    {
     "output_type": "execute_result",
     "data": {
      "text/plain": "     country_x  crime_index country_code  country_y   rank  score       GDP  \\\n0    Venezuela        84.49           VE  Venezuela   23.0  6.810  1.044240   \n1    Venezuela        84.49           VE  Venezuela   44.0  6.084  1.133670   \n2    Venezuela        84.49           VE  Venezuela   82.0  5.250  1.128431   \n3    Venezuela        84.49           VE  Venezuela  102.0  4.806  0.996000   \n4    Venezuela        84.49           VE  Venezuela  108.0  4.707  0.960000   \n..         ...          ...          ...        ...    ...    ...       ...   \n689      Qatar        11.86           QA      Qatar   28.0  6.611  1.690420   \n690      Qatar        11.86           QA      Qatar   36.0  6.375  1.824270   \n691      Qatar        11.86           QA      Qatar   35.0  6.375  1.870766   \n692      Qatar        11.86           QA      Qatar   32.0  6.374  1.649000   \n693      Qatar        11.86           QA      Qatar   29.0  6.374  1.684000   \n\n     social_support  life_expectancy   freedom  trust_governement  generosity  \\\n0          1.255960         0.720520  0.429080           0.110690    0.058410   \n1          1.033020         0.619040  0.198470           0.083040    0.042500   \n2          1.431338         0.617144  0.153997           0.065020    0.064491   \n3          1.469000         0.657000  0.133000           0.052000    0.056000   \n4          1.427000         0.805000  0.154000           0.047000    0.064000   \n..              ...              ...       ...                ...         ...   \n689        1.078600         0.797330  0.640400           0.522080    0.325730   \n690        0.879640         0.717230  0.566790           0.480490    0.323880   \n691        1.274297         0.710098  0.604131           0.330474    0.439299   \n692        1.303000         0.748000  0.654000           0.171000    0.256000   \n693        1.313000         0.871000  0.555000           0.167000    0.220000   \n\n       year  \n0    2015.0  \n1    2016.0  \n2    2017.0  \n3    2018.0  \n4    2019.0  \n..      ...  \n689  2015.0  \n690  2016.0  \n691  2017.0  \n692  2018.0  \n693  2019.0  \n\n[694 rows x 13 columns]",
      "text/html": "<div>\n<style scoped>\n    .dataframe tbody tr th:only-of-type {\n        vertical-align: middle;\n    }\n\n    .dataframe tbody tr th {\n        vertical-align: top;\n    }\n\n    .dataframe thead th {\n        text-align: right;\n    }\n</style>\n<table border=\"1\" class=\"dataframe\">\n  <thead>\n    <tr style=\"text-align: right;\">\n      <th></th>\n      <th>country_x</th>\n      <th>crime_index</th>\n      <th>country_code</th>\n      <th>country_y</th>\n      <th>rank</th>\n      <th>score</th>\n      <th>GDP</th>\n      <th>social_support</th>\n      <th>life_expectancy</th>\n      <th>freedom</th>\n      <th>trust_governement</th>\n      <th>generosity</th>\n      <th>year</th>\n    </tr>\n  </thead>\n  <tbody>\n    <tr>\n      <th>0</th>\n      <td>Venezuela</td>\n      <td>84.49</td>\n      <td>VE</td>\n      <td>Venezuela</td>\n      <td>23.0</td>\n      <td>6.810</td>\n      <td>1.044240</td>\n      <td>1.255960</td>\n      <td>0.720520</td>\n      <td>0.429080</td>\n      <td>0.110690</td>\n      <td>0.058410</td>\n      <td>2015.0</td>\n    </tr>\n    <tr>\n      <th>1</th>\n      <td>Venezuela</td>\n      <td>84.49</td>\n      <td>VE</td>\n      <td>Venezuela</td>\n      <td>44.0</td>\n      <td>6.084</td>\n      <td>1.133670</td>\n      <td>1.033020</td>\n      <td>0.619040</td>\n      <td>0.198470</td>\n      <td>0.083040</td>\n      <td>0.042500</td>\n      <td>2016.0</td>\n    </tr>\n    <tr>\n      <th>2</th>\n      <td>Venezuela</td>\n      <td>84.49</td>\n      <td>VE</td>\n      <td>Venezuela</td>\n      <td>82.0</td>\n      <td>5.250</td>\n      <td>1.128431</td>\n      <td>1.431338</td>\n      <td>0.617144</td>\n      <td>0.153997</td>\n      <td>0.065020</td>\n      <td>0.064491</td>\n      <td>2017.0</td>\n    </tr>\n    <tr>\n      <th>3</th>\n      <td>Venezuela</td>\n      <td>84.49</td>\n      <td>VE</td>\n      <td>Venezuela</td>\n      <td>102.0</td>\n      <td>4.806</td>\n      <td>0.996000</td>\n      <td>1.469000</td>\n      <td>0.657000</td>\n      <td>0.133000</td>\n      <td>0.052000</td>\n      <td>0.056000</td>\n      <td>2018.0</td>\n    </tr>\n    <tr>\n      <th>4</th>\n      <td>Venezuela</td>\n      <td>84.49</td>\n      <td>VE</td>\n      <td>Venezuela</td>\n      <td>108.0</td>\n      <td>4.707</td>\n      <td>0.960000</td>\n      <td>1.427000</td>\n      <td>0.805000</td>\n      <td>0.154000</td>\n      <td>0.047000</td>\n      <td>0.064000</td>\n      <td>2019.0</td>\n    </tr>\n    <tr>\n      <th>...</th>\n      <td>...</td>\n      <td>...</td>\n      <td>...</td>\n      <td>...</td>\n      <td>...</td>\n      <td>...</td>\n      <td>...</td>\n      <td>...</td>\n      <td>...</td>\n      <td>...</td>\n      <td>...</td>\n      <td>...</td>\n      <td>...</td>\n    </tr>\n    <tr>\n      <th>689</th>\n      <td>Qatar</td>\n      <td>11.86</td>\n      <td>QA</td>\n      <td>Qatar</td>\n      <td>28.0</td>\n      <td>6.611</td>\n      <td>1.690420</td>\n      <td>1.078600</td>\n      <td>0.797330</td>\n      <td>0.640400</td>\n      <td>0.522080</td>\n      <td>0.325730</td>\n      <td>2015.0</td>\n    </tr>\n    <tr>\n      <th>690</th>\n      <td>Qatar</td>\n      <td>11.86</td>\n      <td>QA</td>\n      <td>Qatar</td>\n      <td>36.0</td>\n      <td>6.375</td>\n      <td>1.824270</td>\n      <td>0.879640</td>\n      <td>0.717230</td>\n      <td>0.566790</td>\n      <td>0.480490</td>\n      <td>0.323880</td>\n      <td>2016.0</td>\n    </tr>\n    <tr>\n      <th>691</th>\n      <td>Qatar</td>\n      <td>11.86</td>\n      <td>QA</td>\n      <td>Qatar</td>\n      <td>35.0</td>\n      <td>6.375</td>\n      <td>1.870766</td>\n      <td>1.274297</td>\n      <td>0.710098</td>\n      <td>0.604131</td>\n      <td>0.330474</td>\n      <td>0.439299</td>\n      <td>2017.0</td>\n    </tr>\n    <tr>\n      <th>692</th>\n      <td>Qatar</td>\n      <td>11.86</td>\n      <td>QA</td>\n      <td>Qatar</td>\n      <td>32.0</td>\n      <td>6.374</td>\n      <td>1.649000</td>\n      <td>1.303000</td>\n      <td>0.748000</td>\n      <td>0.654000</td>\n      <td>0.171000</td>\n      <td>0.256000</td>\n      <td>2018.0</td>\n    </tr>\n    <tr>\n      <th>693</th>\n      <td>Qatar</td>\n      <td>11.86</td>\n      <td>QA</td>\n      <td>Qatar</td>\n      <td>29.0</td>\n      <td>6.374</td>\n      <td>1.684000</td>\n      <td>1.313000</td>\n      <td>0.871000</td>\n      <td>0.555000</td>\n      <td>0.167000</td>\n      <td>0.220000</td>\n      <td>2019.0</td>\n    </tr>\n  </tbody>\n</table>\n<p>694 rows × 13 columns</p>\n</div>"
     },
     "metadata": {},
     "execution_count": 14
    }
   ],
   "source": [
    "crime_happiness_df"
   ]
  },
  {
   "cell_type": "code",
   "execution_count": null,
   "metadata": {},
   "outputs": [],
   "source": []
  }
 ]
}