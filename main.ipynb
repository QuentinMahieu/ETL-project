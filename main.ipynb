{
 "metadata": {
  "language_info": {
   "codemirror_mode": {
    "name": "ipython",
    "version": 3
   },
   "file_extension": ".py",
   "mimetype": "text/x-python",
   "name": "python",
   "nbconvert_exporter": "python",
   "pygments_lexer": "ipython3",
   "version": "3.6.10-final"
  },
  "orig_nbformat": 2,
  "kernelspec": {
   "name": "python_defaultSpec_1605914977278",
   "display_name": "Python 3.6.10 64-bit"
  }
 },
 "nbformat": 4,
 "nbformat_minor": 2,
 "cells": [
  {
   "cell_type": "code",
   "execution_count": null,
   "metadata": {},
   "outputs": [],
   "source": [
    "from google.cloud import storage\n",
    "import os\n",
    "os.environ[\"GOOGLE_APPLICATION_CREDENTIALS\"]=\"/Users/quentinmahieu/Desktop/School/Monash/Projects_Monash/13.ETL_project/credentials/crimeproject-295908-6ab56d225adb.json\""
   ]
  },
  {
   "cell_type": "code",
   "execution_count": 13,
   "metadata": {
    "tags": []
   },
   "outputs": [
    {
     "output_type": "stream",
     "name": "stdout",
     "text": "[<Bucket: world_criminality>]\n"
    }
   ],
   "source": [
    "from google.cloud import storage\n",
    "# If you don't specify credentials when constructing the client, the\n",
    "# client library will look for credentials in the environment.\n",
    "client = storage.Client()\n",
    "# Make an authenticated API request\n",
    "buckets = list(client.list_buckets())\n",
    "print(buckets)\n",
    "bucket_name = buckets[0].name"
   ]
  },
  {
   "cell_type": "code",
   "execution_count": 15,
   "metadata": {
    "tags": []
   },
   "outputs": [
    {
     "output_type": "stream",
     "name": "stdout",
     "text": "['prison_pop.csv', 'happiness.csv', 'country_info.csv', 'country_names.csv', 'crime_rate.csv']\n"
    }
   ],
   "source": [
    "files = os.listdir('Data')\n",
    "for file in files:\n",
    "    file_name = file\n",
    "    path = 'Data' + file_name\n",
    "    gcs.get_bucket(bucket_name).blob(file_name).\\\n",
    "        upload_from_filename(path, content_type='text/csv')"
   ]
  },
  {
   "cell_type": "code",
   "execution_count": 18,
   "metadata": {
    "tags": []
   },
   "outputs": [
    {
     "output_type": "stream",
     "name": "stdout",
     "text": "prison_pop.csv Data/prison_pop.csv\nhappiness.csv Data/happiness.csv\ncountry_info.csv Data/country_info.csv\ncountry_names.csv Data/country_names.csv\ncrime_rate.csv Data/crime_rate.csv\n"
    }
   ],
   "source": [
    "files = os.listdir('Data')\n",
    "for file in files:\n",
    "    file_name = file\n",
    "    path = 'Data/' + file_name\n",
    "    print(file_name,path)"
   ]
  },
  {
   "cell_type": "code",
   "execution_count": null,
   "metadata": {},
   "outputs": [],
   "source": []
  }
 ]
}