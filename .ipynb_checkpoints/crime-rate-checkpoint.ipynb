{
 "cells": [
  {
   "cell_type": "code",
   "execution_count": 26,
   "metadata": {},
   "outputs": [],
   "source": [
    "from pyquery import PyQuery as pq\n",
    "import pandas as pd"
   ]
  },
  {
   "cell_type": "code",
   "execution_count": 27,
   "metadata": {},
   "outputs": [],
   "source": [
    "# Fetch document's HTML using the URL\n",
    "document = pq('https://www.numbeo.com/crime/rankings_by_country.jsp?title=2020&displayColumn=0')"
   ]
  },
  {
   "cell_type": "code",
   "execution_count": 28,
   "metadata": {},
   "outputs": [
    {
     "data": {
      "text/plain": [
       "130"
      ]
     },
     "execution_count": 28,
     "metadata": {},
     "output_type": "execute_result"
    }
   ],
   "source": [
    "# Find the table from HTML using classes \n",
    "table = document(\"table.stripe.row-border.order-column.compact\")"
   ]
  },
  {
   "cell_type": "code",
   "execution_count": 31,
   "metadata": {},
   "outputs": [],
   "source": [
    "# Iterate through table's TR\n",
    "# For each TR find child TDs \n",
    "# then extract country & crime rate using TD's index\n",
    "data = []\n",
    "for tr in table.find(\"tr\"):\n",
    "    row = pq(tr)\n",
    "    country = row.find(\"td\").eq(1).text()\n",
    "    crime_index = row.find(\"td\").eq(2).text()\n",
    "    _data = {}\n",
    "    _data[\"country\"] = country;\n",
    "    _data[\"crime_index\"] = crime_index;\n",
    "    data.append(_data)"
   ]
  },
  {
   "cell_type": "code",
   "execution_count": 32,
   "metadata": {},
   "outputs": [],
   "source": [
    "# Initialize our DataFrame\n",
    "crime_df = pd.DataFrame(data)"
   ]
  },
  {
   "cell_type": "code",
   "execution_count": 33,
   "metadata": {},
   "outputs": [],
   "source": [
    "# Save dataframe as a CSV file\n",
    "crime_df.to_csv(\"./crime-rate.csv\")"
   ]
  },
  {
   "cell_type": "code",
   "execution_count": null,
   "metadata": {},
   "outputs": [],
   "source": []
  }
 ],
 "metadata": {
  "kernelspec": {
   "display_name": "Python (PythonData)",
   "language": "python",
   "name": "pythondata"
  },
  "language_info": {
   "codemirror_mode": {
    "name": "ipython",
    "version": 3
   },
   "file_extension": ".py",
   "mimetype": "text/x-python",
   "name": "python",
   "nbconvert_exporter": "python",
   "pygments_lexer": "ipython3",
   "version": "3.8.3"
  }
 },
 "nbformat": 4,
 "nbformat_minor": 4
}
