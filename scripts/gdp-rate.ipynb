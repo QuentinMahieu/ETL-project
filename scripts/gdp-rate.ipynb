{
 "cells": [
  {
   "cell_type": "code",
   "execution_count": 11,
   "metadata": {},
   "outputs": [],
   "source": [
    "from pyquery import PyQuery as pq\n",
    "import pandas as pd\n",
    "from selenium import webdriver\n",
    "from selenium.webdriver.common.by import By\n",
    "from functions import country_codes"
   ]
  },
  {
   "cell_type": "code",
   "execution_count": 12,
   "metadata": {},
   "outputs": [],
   "source": [
    "# Fetch document's HTML using the URL\n",
    "browser = webdriver.Chrome()\n",
    "browser.get('https://www.imf.org/external/datamapper/NGDP_RPCH@WEO/OEMDC/ADVEC/WEOWORLD')"
   ]
  },
  {
   "cell_type": "code",
   "execution_count": 13,
   "metadata": {},
   "outputs": [],
   "source": [
    "document = pq(browser.page_source)"
   ]
  },
  {
   "cell_type": "code",
   "execution_count": 14,
   "metadata": {},
   "outputs": [],
   "source": [
    "# Find the table from HTML using classes \n",
    "list_wrapper = document(\".dm-content-panel.dm-list\").find(\".dm-ranking-rows\")"
   ]
  },
  {
   "cell_type": "code",
   "execution_count": 15,
   "metadata": {
    "tags": []
   },
   "outputs": [
    {
     "output_type": "stream",
     "name": "stdout",
     "text": "268\n"
    }
   ],
   "source": [
    "# Iterate through table's TR\n",
    "# For each TR find child TDs \n",
    "# then extract country & crime rate using TD's index\n",
    "data = []\n",
    "print(list_wrapper.children().size())\n",
    "\n",
    "for item in list_wrapper.children():\n",
    "    row = pq(item)\n",
    "    country = row.find(\"span\").eq(0).text()\n",
    "    gdp = row.find(\"span\").eq(1).text()\n",
    "    _data = {}\n",
    "    _data[\"country\"] = country;\n",
    "    _data[\"gdp\"] = gdp;\n",
    "    data.append(_data)"
   ]
  },
  {
   "cell_type": "code",
   "execution_count": 16,
   "metadata": {},
   "outputs": [],
   "source": [
    "# Initialize our DataFrame\n",
    "gdp_df = pd.DataFrame(data)"
   ]
  },
  {
   "cell_type": "code",
   "execution_count": 17,
   "metadata": {
    "tags": []
   },
   "outputs": [
    {
     "output_type": "stream",
     "name": "stdout",
     "text": "kyrgyz republic not found\npitcairn not found\nrussian federation not found\nslovak republic not found\nafrica region not found\ncaribbean not found\ncentral america not found\neast asia not found\neastern europe not found\neurope not found\nnorth africa not found\nnorth america not found\npacific islands not found\nsouth america not found\nsouth asia not found\nsoutheast asia not found\nwestern europe not found\nadvanced economies not found\nasean 5 not found\neuro area not found\neuropean union not found\nworld not found\n"
    }
   ],
   "source": [
    "gdp_df['gdp'] = gdp_df['gdp'].str.replace('no data','Nan')\n",
    "gdp_df['country'] = gdp_df['country'].str.\\\n",
    "    replace('Lao P.D.R.','Laos')\n",
    "gdp_df['country'] = gdp_df['country'].str.\\\n",
    "    replace('West Bank and Gaza','Palestine')\n",
    "gdp_df = gdp_df.drop(201)\n",
    "gdp_df = country_codes(gdp_df,'country')\n",
    "gdp_df['country_code'][gdp_df[gdp_df['country'].str.\\\n",
    "    contains('Kyrgyz')].index.values[0]] = 'KG'\n",
    "gdp_df['country_code'][gdp_df[gdp_df['country'].str.\\\n",
    "    contains('Pitcai')].index.values[0]] = 'PN'\n",
    "gdp_df['country_code'][gdp_df[gdp_df['country'].str.\\\n",
    "    contains('Russian')].index.values[0]] = 'RU'\n",
    "gdp_df['country_code'][gdp_df[gdp_df['country'].str.\\\n",
    "    contains('Slovak')].index.values[0]] = 'SK'\n",
    "gdp_df['country_code'][gdp_df[gdp_df['country'].str.\\\n",
    "    contains('Congo, Dem.')].index.values[0]] = 'CD'\n",
    "gdp_df['country_code'][gdp_df[gdp_df['country'].str.\\\n",
    "    contains('Korea, Dem.')].index.values[0]] = 'KP'\n",
    "gdp_df['country_code'][gdp_df[gdp_df['country'].str.\\\n",
    "    contains('Korea, Republic')].index.values[0]] = 'KR'\n"
   ]
  },
  {
   "cell_type": "code",
   "execution_count": 21,
   "metadata": {},
   "outputs": [],
   "source": [
    "# Save dataframe as a CSV file\n",
    "gdp_df.to_csv(\"../Data/country_gdp.csv\")"
   ]
  }
 ],
 "metadata": {
  "kernelspec": {
   "display_name": "Python 3",
   "language": "python",
   "name": "python3"
  },
  "language_info": {
   "codemirror_mode": {
    "name": "ipython",
    "version": 3
   },
   "file_extension": ".py",
   "mimetype": "text/x-python",
   "name": "python",
   "nbconvert_exporter": "python",
   "pygments_lexer": "ipython3",
   "version": "3.6.10-final"
  }
 },
 "nbformat": 4,
 "nbformat_minor": 4
}