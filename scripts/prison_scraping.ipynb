{
 "metadata": {
  "language_info": {
   "codemirror_mode": {
    "name": "ipython",
    "version": 3
   },
   "file_extension": ".py",
   "mimetype": "text/x-python",
   "name": "python",
   "nbconvert_exporter": "python",
   "pygments_lexer": "ipython3",
   "version": "3.6.10-final"
  },
  "orig_nbformat": 2,
  "kernelspec": {
   "name": "python_defaultSpec_1605773081431",
   "display_name": "Python 3.6.10 64-bit ('PythonDataNew': conda)"
  }
 },
 "nbformat": 4,
 "nbformat_minor": 2,
 "cells": [
  {
   "cell_type": "code",
   "execution_count": 1,
   "metadata": {},
   "outputs": [],
   "source": [
    "from selenium import webdriver\n",
    "from selenium.webdriver import ActionChains\n",
    "from bs4 import BeautifulSoup as bs\n",
    "import requests\n",
    "import pandas as pd\n",
    "import html5lib\n",
    "import re\n",
    "import time"
   ]
  },
  {
   "cell_type": "code",
   "execution_count": 2,
   "metadata": {
    "tags": []
   },
   "outputs": [],
   "source": [
    "#Scraping from website for prison data\n",
    "base_url = \"https://www.prisonstudies.org/world-prison-brief-data\"\n",
    "req = requests.get(base_url)\n",
    "soup = bs(req.content)\n",
    "results = soup.find_all('div', class_=\"views-field views-field-title\")\n",
    "country_url_list = [f'https://www.prisonstudies.org{country.a[\"href\"]}' for country in results]\n"
   ]
  },
  {
   "cell_type": "code",
   "execution_count": 3,
   "metadata": {
    "tags": []
   },
   "outputs": [],
   "source": [
    "labels = []\n",
    "for url in country_url_list[0:1]:\n",
    "    req = requests.get(url)\n",
    "    soup = bs(req.text,'lxml')\n",
    "    tables = soup.find_all('table')\n",
    "    table = tables[2].find_all('tr')\n",
    "    for row in table:\n",
    "        labels.append(row.th.text)"
   ]
  },
  {
   "cell_type": "code",
   "execution_count": 4,
   "metadata": {
    "tags": []
   },
   "outputs": [],
   "source": [
    "prison_df = pd.DataFrame(columns=labels)\n",
    "for url in country_url_list:\n",
    "    req = requests.get(url)\n",
    "    soup = bs(req.text,'lxml')\n",
    "    tables = soup.find_all('table')\n",
    "    dict = {}\n",
    "\n",
    "    country = tables[0].find('td',class_=\"field-content\").text\n",
    "    dict.setdefault('country', []).append(country)\n",
    "\n",
    "    table = tables[2].find_all('tr')\n",
    "    for row in table:\n",
    "        label = row.th.text\n",
    "        try:\n",
    "            number = row.find(\n",
    "                'div',class_='field field-name-field-integer field-type-number-integer field-label-hidden').\\\n",
    "                    find('div',class_=\"field-item even\").text\n",
    "            dict.setdefault(f'{label}',[]).append(number)\n",
    "        except:\n",
    "            pass\n",
    "        try:\n",
    "            percent = row.find(\n",
    "            'div',class_='field field-name-field-percentage field-type-number-decimal field-label-hidden').\\\n",
    "                find('div',class_=\"field-item even\").text\n",
    "            dict.setdefault(f'{label}',[]).append(percent)\n",
    "        except:\n",
    "            pass\n",
    "    df = pd.DataFrame.from_dict(dict)\n",
    "    prison_df = prison_df.append(df)"
   ]
  },
  {
   "cell_type": "code",
   "execution_count": 5,
   "metadata": {
    "tags": []
   },
   "outputs": [],
   "source": [
    "#clean data in df\n",
    "columns = ['prison_pop', 'prison_rate','pre_trial_detainees',\n",
    "             'women_percent', 'minors_percent','foreigns_percent',\n",
    "             'number_institution','capacity','occupancy','country']\n",
    "final_prison_df = prison_df.copy()\n",
    "for i,c in enumerate(columns[0:-1]):\n",
    "    final_prison_df.rename({final_prison_df.columns[i]:c}, axis=1,inplace=True)\n",
    "    final_prison_df[c] = final_prison_df[c].str.replace(\" \",\"\")\n",
    "    final_prison_df[c] = final_prison_df[c].str.replace(\"%\",\"\")"
   ]
  },
  {
   "cell_type": "code",
   "execution_count": 7,
   "metadata": {},
   "outputs": [],
   "source": [
    "patterns = ['[/]\\w+','\\[\\w+$','\\,\\s+\\w+\\s?\\w+\\s?\\w+',\n",
    "'^\\w+\\s+\\w+\\:\\s+','\\:\\s+\\w+','\\:\\s+\\w+\\s+\\w+']\n",
    "for country in final_prison_df['country']:\n",
    "    for pattern in patterns:\n",
    "        try:\n",
    "            new_c = re.sub(pattern,'', country)\n",
    "            final_prison_df['country'] = final_prison_df['country'].\\\n",
    "                replace(country,new_c)\n",
    "            final_prison_df['country'] = final_prison_df['country'].str.\\\n",
    "                replace(\"St\\.\",'Saint')\n",
    "            final_prison_df['country'] = final_prison_df['country'].str.\\\n",
    "                replace(\"Democratic People[']s Republic of [(]North[)] Korea\",\\\n",
    "                    'North Korea')\n",
    "            final_prison_df['country'] = final_prison_df['country'].str.\\\n",
    "                replace('Republic of [(]South[)] Korea','South Korea')\n",
    "            final_prison_df['country'] = final_prison_df['country'].str.\\\n",
    "                replace('Democratic Republic of Congo','Congo (DRC)')\n",
    "            final_prison_df['country'] = final_prison_df['country'].str.\\\n",
    "                replace('Scotland','United Kingdom')\n",
    "            final_prison_df['country'] = final_prison_df['country'].str.\\\n",
    "                replace('Russian Federation','Russia')\n",
    "            final_prison_df['country'] = final_prison_df['country'].str.\\\n",
    "                replace('Faeroe','Faroe')\n",
    "            final_prison_df['country'] = final_prison_df['country'].str.\\\n",
    "                replace('Virgin Islands (USA)','U.S Virgin Islands')\n",
    "        except:\n",
    "            continue\n"
   ]
  },
  {
   "cell_type": "code",
   "execution_count": 12,
   "metadata": {},
   "outputs": [],
   "source": [
    "#final clean\n",
    "final_prison_df = final_prison_df.fillna(0)\n",
    "final_prison_df.iloc[:,[1,6,7]] = final_prison_df.iloc[:,[1,6,7]].astype('int')\n",
    "final_prison_df.iloc[:,[2,3,4,5,8]] = final_prison_df.iloc[:,[2,3,4,5,8]].astype('float')\n",
    "final_prison_df.iloc[:,9] = final_prison_df.iloc[:,[9]].astype('string')\n",
    "final_prison_df = final_prison_df.iloc[:,[9,0,1,2,3,4,5,6,7,8]].\\\n",
    "    sort_values('country').reset_index(drop=True)\n",
    "final_prison_df = final_prison_df.drop(26)\n",
    "f = open('../Data/prison_pop.csv','w', encoding='utf-8')\n",
    "final_prison_df.to_csv(f,index=False)\n",
    "f.close()"
   ]
  },
  {
   "cell_type": "code",
   "execution_count": 14,
   "metadata": {
    "tags": []
   },
   "outputs": [
    {
     "output_type": "execute_result",
     "data": {
      "text/plain": "                 country prison_pop prison_rate pre_trial_detainees  \\\n0            Afghanistan      30748          87                31.3   \n1                Albania       4508         159                45.7   \n2                Algeria      65000         153                  12   \n3  American Samoa  (USA)        193         345                14.9   \n4                Andorra         43          55                42.2   \n\n  women_percent minors_percent foreigns_percent number_institution capacity  \\\n0           2.6              4              0.9                251    16711   \n1           1.9            0.2              1.5                 23     6236   \n2           1.5            0.8              3.8                131    68317   \n3           5.5              0             62.2                  1      142   \n4          11.1              0             88.5                  1      142   \n\n  occupancy  \n0     179.9  \n1        85  \n2      89.3  \n3     166.2  \n4      30.3  ",
      "text/html": "<div>\n<style scoped>\n    .dataframe tbody tr th:only-of-type {\n        vertical-align: middle;\n    }\n\n    .dataframe tbody tr th {\n        vertical-align: top;\n    }\n\n    .dataframe thead th {\n        text-align: right;\n    }\n</style>\n<table border=\"1\" class=\"dataframe\">\n  <thead>\n    <tr style=\"text-align: right;\">\n      <th></th>\n      <th>country</th>\n      <th>prison_pop</th>\n      <th>prison_rate</th>\n      <th>pre_trial_detainees</th>\n      <th>women_percent</th>\n      <th>minors_percent</th>\n      <th>foreigns_percent</th>\n      <th>number_institution</th>\n      <th>capacity</th>\n      <th>occupancy</th>\n    </tr>\n  </thead>\n  <tbody>\n    <tr>\n      <th>0</th>\n      <td>Afghanistan</td>\n      <td>30748</td>\n      <td>87</td>\n      <td>31.3</td>\n      <td>2.6</td>\n      <td>4</td>\n      <td>0.9</td>\n      <td>251</td>\n      <td>16711</td>\n      <td>179.9</td>\n    </tr>\n    <tr>\n      <th>1</th>\n      <td>Albania</td>\n      <td>4508</td>\n      <td>159</td>\n      <td>45.7</td>\n      <td>1.9</td>\n      <td>0.2</td>\n      <td>1.5</td>\n      <td>23</td>\n      <td>6236</td>\n      <td>85</td>\n    </tr>\n    <tr>\n      <th>2</th>\n      <td>Algeria</td>\n      <td>65000</td>\n      <td>153</td>\n      <td>12</td>\n      <td>1.5</td>\n      <td>0.8</td>\n      <td>3.8</td>\n      <td>131</td>\n      <td>68317</td>\n      <td>89.3</td>\n    </tr>\n    <tr>\n      <th>3</th>\n      <td>American Samoa  (USA)</td>\n      <td>193</td>\n      <td>345</td>\n      <td>14.9</td>\n      <td>5.5</td>\n      <td>0</td>\n      <td>62.2</td>\n      <td>1</td>\n      <td>142</td>\n      <td>166.2</td>\n    </tr>\n    <tr>\n      <th>4</th>\n      <td>Andorra</td>\n      <td>43</td>\n      <td>55</td>\n      <td>42.2</td>\n      <td>11.1</td>\n      <td>0</td>\n      <td>88.5</td>\n      <td>1</td>\n      <td>142</td>\n      <td>30.3</td>\n    </tr>\n  </tbody>\n</table>\n</div>"
     },
     "metadata": {},
     "execution_count": 14
    }
   ],
   "source": [
    "final_prison_df.head()"
   ]
  }
 ]
}