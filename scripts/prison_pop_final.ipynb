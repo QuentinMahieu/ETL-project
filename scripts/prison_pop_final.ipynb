{
 "metadata": {
  "language_info": {
   "codemirror_mode": {
    "name": "ipython",
    "version": 3
   },
   "file_extension": ".py",
   "mimetype": "text/x-python",
   "name": "python",
   "nbconvert_exporter": "python",
   "pygments_lexer": "ipython3",
   "version": "3.6.10-final"
  },
  "orig_nbformat": 2,
  "kernelspec": {
   "name": "python_defaultSpec_1605848937465",
   "display_name": "Python 3.6.10 64-bit ('PythonDataNew': conda)"
  }
 },
 "nbformat": 4,
 "nbformat_minor": 2,
 "cells": [
  {
   "cell_type": "code",
   "execution_count": 13,
   "metadata": {},
   "outputs": [],
   "source": [
    "import pandas as pd\n",
    "import re\n",
    "from functions import country_codes"
   ]
  },
  {
   "cell_type": "code",
   "execution_count": 14,
   "metadata": {},
   "outputs": [],
   "source": [
    "file1 = '../Data/country_names.csv'\n",
    "file2 = '../Data/prison_pop.csv'\n",
    "prison = pd.read_csv(file2,keep_default_na=False)\n",
    "country = pd.read_csv(file1,keep_default_na=False)"
   ]
  },
  {
   "cell_type": "code",
   "execution_count": 15,
   "metadata": {},
   "outputs": [
    {
     "output_type": "execute_result",
     "data": {
      "text/plain": "                 country  prison_pop  prison_rate  pre_trial_detainees  \\\n0            Afghanistan       30748           87                 31.3   \n1                Albania        4508          159                 45.7   \n2                Algeria       65000          153                 12.0   \n3  American Samoa  (USA)         193          345                 14.9   \n4                Andorra          43           55                 42.2   \n\n   women_percent  minors_percent  foreigns_percent  number_institution  \\\n0            2.6             4.0               0.9                 251   \n1            1.9             0.2               1.5                  23   \n2            1.5             0.8               3.8                 131   \n3            5.5             0.0              62.2                   1   \n4           11.1             0.0              88.5                   1   \n\n   capacity  occupancy country_code  \n0     16711      179.9           AF  \n1      6236       85.0           AL  \n2     68317       89.3           DZ  \n3       142      166.2           AS  \n4       142       30.3           AD  ",
      "text/html": "<div>\n<style scoped>\n    .dataframe tbody tr th:only-of-type {\n        vertical-align: middle;\n    }\n\n    .dataframe tbody tr th {\n        vertical-align: top;\n    }\n\n    .dataframe thead th {\n        text-align: right;\n    }\n</style>\n<table border=\"1\" class=\"dataframe\">\n  <thead>\n    <tr style=\"text-align: right;\">\n      <th></th>\n      <th>country</th>\n      <th>prison_pop</th>\n      <th>prison_rate</th>\n      <th>pre_trial_detainees</th>\n      <th>women_percent</th>\n      <th>minors_percent</th>\n      <th>foreigns_percent</th>\n      <th>number_institution</th>\n      <th>capacity</th>\n      <th>occupancy</th>\n      <th>country_code</th>\n    </tr>\n  </thead>\n  <tbody>\n    <tr>\n      <th>0</th>\n      <td>Afghanistan</td>\n      <td>30748</td>\n      <td>87</td>\n      <td>31.3</td>\n      <td>2.6</td>\n      <td>4.0</td>\n      <td>0.9</td>\n      <td>251</td>\n      <td>16711</td>\n      <td>179.9</td>\n      <td>AF</td>\n    </tr>\n    <tr>\n      <th>1</th>\n      <td>Albania</td>\n      <td>4508</td>\n      <td>159</td>\n      <td>45.7</td>\n      <td>1.9</td>\n      <td>0.2</td>\n      <td>1.5</td>\n      <td>23</td>\n      <td>6236</td>\n      <td>85.0</td>\n      <td>AL</td>\n    </tr>\n    <tr>\n      <th>2</th>\n      <td>Algeria</td>\n      <td>65000</td>\n      <td>153</td>\n      <td>12.0</td>\n      <td>1.5</td>\n      <td>0.8</td>\n      <td>3.8</td>\n      <td>131</td>\n      <td>68317</td>\n      <td>89.3</td>\n      <td>DZ</td>\n    </tr>\n    <tr>\n      <th>3</th>\n      <td>American Samoa  (USA)</td>\n      <td>193</td>\n      <td>345</td>\n      <td>14.9</td>\n      <td>5.5</td>\n      <td>0.0</td>\n      <td>62.2</td>\n      <td>1</td>\n      <td>142</td>\n      <td>166.2</td>\n      <td>AS</td>\n    </tr>\n    <tr>\n      <th>4</th>\n      <td>Andorra</td>\n      <td>43</td>\n      <td>55</td>\n      <td>42.2</td>\n      <td>11.1</td>\n      <td>0.0</td>\n      <td>88.5</td>\n      <td>1</td>\n      <td>142</td>\n      <td>30.3</td>\n      <td>AD</td>\n    </tr>\n  </tbody>\n</table>\n</div>"
     },
     "metadata": {},
     "execution_count": 15
    }
   ],
   "source": [
    "prison.head()"
   ]
  },
  {
   "cell_type": "code",
   "execution_count": 16,
   "metadata": {},
   "outputs": [
    {
     "output_type": "execute_result",
     "data": {
      "text/plain": "  code               country   latitude  longitude\n0   AD               Andorra  42.546245   1.601554\n1   AE  United Arab Emirates  23.424076  53.847818\n2   AF           Afghanistan  33.939110  67.709953\n3   AG   Antigua and Barbuda  17.060816 -61.796428\n4   AI              Anguilla  18.220554 -63.068615",
      "text/html": "<div>\n<style scoped>\n    .dataframe tbody tr th:only-of-type {\n        vertical-align: middle;\n    }\n\n    .dataframe tbody tr th {\n        vertical-align: top;\n    }\n\n    .dataframe thead th {\n        text-align: right;\n    }\n</style>\n<table border=\"1\" class=\"dataframe\">\n  <thead>\n    <tr style=\"text-align: right;\">\n      <th></th>\n      <th>code</th>\n      <th>country</th>\n      <th>latitude</th>\n      <th>longitude</th>\n    </tr>\n  </thead>\n  <tbody>\n    <tr>\n      <th>0</th>\n      <td>AD</td>\n      <td>Andorra</td>\n      <td>42.546245</td>\n      <td>1.601554</td>\n    </tr>\n    <tr>\n      <th>1</th>\n      <td>AE</td>\n      <td>United Arab Emirates</td>\n      <td>23.424076</td>\n      <td>53.847818</td>\n    </tr>\n    <tr>\n      <th>2</th>\n      <td>AF</td>\n      <td>Afghanistan</td>\n      <td>33.939110</td>\n      <td>67.709953</td>\n    </tr>\n    <tr>\n      <th>3</th>\n      <td>AG</td>\n      <td>Antigua and Barbuda</td>\n      <td>17.060816</td>\n      <td>-61.796428</td>\n    </tr>\n    <tr>\n      <th>4</th>\n      <td>AI</td>\n      <td>Anguilla</td>\n      <td>18.220554</td>\n      <td>-63.068615</td>\n    </tr>\n  </tbody>\n</table>\n</div>"
     },
     "metadata": {},
     "execution_count": 16
    }
   ],
   "source": [
    "country.head()"
   ]
  },
  {
   "cell_type": "code",
   "execution_count": 17,
   "metadata": {
    "tags": []
   },
   "outputs": [
    {
     "output_type": "execute_result",
     "data": {
      "text/plain": "                 country  prison_pop  prison_rate  pre_trial_detainees  \\\n0            Afghanistan       30748           87                 31.3   \n1                Albania        4508          159                 45.7   \n2                Algeria       65000          153                 12.0   \n3  American Samoa  (USA)         193          345                 14.9   \n4                Andorra          43           55                 42.2   \n\n   women_percent  minors_percent  foreigns_percent  number_institution  \\\n0            2.6             4.0               0.9                 251   \n1            1.9             0.2               1.5                  23   \n2            1.5             0.8               3.8                 131   \n3            5.5             0.0              62.2                   1   \n4           11.1             0.0              88.5                   1   \n\n   capacity  occupancy country_code  \n0     16711      179.9           AF  \n1      6236       85.0           AL  \n2     68317       89.3           DZ  \n3       142      166.2           AS  \n4       142       30.3           AD  ",
      "text/html": "<div>\n<style scoped>\n    .dataframe tbody tr th:only-of-type {\n        vertical-align: middle;\n    }\n\n    .dataframe tbody tr th {\n        vertical-align: top;\n    }\n\n    .dataframe thead th {\n        text-align: right;\n    }\n</style>\n<table border=\"1\" class=\"dataframe\">\n  <thead>\n    <tr style=\"text-align: right;\">\n      <th></th>\n      <th>country</th>\n      <th>prison_pop</th>\n      <th>prison_rate</th>\n      <th>pre_trial_detainees</th>\n      <th>women_percent</th>\n      <th>minors_percent</th>\n      <th>foreigns_percent</th>\n      <th>number_institution</th>\n      <th>capacity</th>\n      <th>occupancy</th>\n      <th>country_code</th>\n    </tr>\n  </thead>\n  <tbody>\n    <tr>\n      <th>0</th>\n      <td>Afghanistan</td>\n      <td>30748</td>\n      <td>87</td>\n      <td>31.3</td>\n      <td>2.6</td>\n      <td>4.0</td>\n      <td>0.9</td>\n      <td>251</td>\n      <td>16711</td>\n      <td>179.9</td>\n      <td>AF</td>\n    </tr>\n    <tr>\n      <th>1</th>\n      <td>Albania</td>\n      <td>4508</td>\n      <td>159</td>\n      <td>45.7</td>\n      <td>1.9</td>\n      <td>0.2</td>\n      <td>1.5</td>\n      <td>23</td>\n      <td>6236</td>\n      <td>85.0</td>\n      <td>AL</td>\n    </tr>\n    <tr>\n      <th>2</th>\n      <td>Algeria</td>\n      <td>65000</td>\n      <td>153</td>\n      <td>12.0</td>\n      <td>1.5</td>\n      <td>0.8</td>\n      <td>3.8</td>\n      <td>131</td>\n      <td>68317</td>\n      <td>89.3</td>\n      <td>DZ</td>\n    </tr>\n    <tr>\n      <th>3</th>\n      <td>American Samoa  (USA)</td>\n      <td>193</td>\n      <td>345</td>\n      <td>14.9</td>\n      <td>5.5</td>\n      <td>0.0</td>\n      <td>62.2</td>\n      <td>1</td>\n      <td>142</td>\n      <td>166.2</td>\n      <td>AS</td>\n    </tr>\n    <tr>\n      <th>4</th>\n      <td>Andorra</td>\n      <td>43</td>\n      <td>55</td>\n      <td>42.2</td>\n      <td>11.1</td>\n      <td>0.0</td>\n      <td>88.5</td>\n      <td>1</td>\n      <td>142</td>\n      <td>30.3</td>\n      <td>AD</td>\n    </tr>\n  </tbody>\n</table>\n</div>"
     },
     "metadata": {},
     "execution_count": 17
    }
   ],
   "source": [
    "#import the country codes in the df\n",
    "prison_df = country_codes(prison,'Country')\n",
    "prison_df['country'] = prison_df['country'].str.normalize('NFKD').\\\n",
    "        str.encode('ascii', errors='ignore').str.decode('utf-8')\n",
    "prison_df.head()"
   ]
  },
  {
   "cell_type": "code",
   "execution_count": 19,
   "metadata": {},
   "outputs": [],
   "source": [
    "f = open('../Data/prison_pop.csv','w')\n",
    "prison_df.to_csv(f,index=False,encoding='utf-8')\n",
    "f.close()"
   ]
  },
  {
   "cell_type": "code",
   "execution_count": null,
   "metadata": {},
   "outputs": [],
   "source": []
  }
 ]
}