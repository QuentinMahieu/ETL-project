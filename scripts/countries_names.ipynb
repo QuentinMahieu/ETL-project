{
 "metadata": {
  "language_info": {
   "codemirror_mode": {
    "name": "ipython",
    "version": 3
   },
   "file_extension": ".py",
   "mimetype": "text/x-python",
   "name": "python",
   "nbconvert_exporter": "python",
   "pygments_lexer": "ipython3",
   "version": "3.8.3-final"
  },
  "orig_nbformat": 2,
  "kernelspec": {
   "name": "python_defaultSpec_1606174950954",
   "display_name": "Python 3.8.3 64-bit ('base': conda)"
  }
 },
 "nbformat": 4,
 "nbformat_minor": 2,
 "cells": [
  {
   "cell_type": "code",
   "execution_count": 1,
   "metadata": {},
   "outputs": [],
   "source": [
    "import pandas as pd\n",
    "import re"
   ]
  },
  {
   "cell_type": "code",
   "execution_count": 2,
   "metadata": {},
   "outputs": [
    {
     "output_type": "execute_result",
     "data": {
      "text/plain": "  code               country   latitude  longitude\n0   AD               Andorra  42.546245   1.601554\n1   AE  United Arab Emirates  23.424076  53.847818\n2   AF           Afghanistan  33.939110  67.709953\n3   AG   Antigua and Barbuda  17.060816 -61.796428\n4   AI              Anguilla  18.220554 -63.068615",
      "text/html": "<div>\n<style scoped>\n    .dataframe tbody tr th:only-of-type {\n        vertical-align: middle;\n    }\n\n    .dataframe tbody tr th {\n        vertical-align: top;\n    }\n\n    .dataframe thead th {\n        text-align: right;\n    }\n</style>\n<table border=\"1\" class=\"dataframe\">\n  <thead>\n    <tr style=\"text-align: right;\">\n      <th></th>\n      <th>code</th>\n      <th>country</th>\n      <th>latitude</th>\n      <th>longitude</th>\n    </tr>\n  </thead>\n  <tbody>\n    <tr>\n      <th>0</th>\n      <td>AD</td>\n      <td>Andorra</td>\n      <td>42.546245</td>\n      <td>1.601554</td>\n    </tr>\n    <tr>\n      <th>1</th>\n      <td>AE</td>\n      <td>United Arab Emirates</td>\n      <td>23.424076</td>\n      <td>53.847818</td>\n    </tr>\n    <tr>\n      <th>2</th>\n      <td>AF</td>\n      <td>Afghanistan</td>\n      <td>33.939110</td>\n      <td>67.709953</td>\n    </tr>\n    <tr>\n      <th>3</th>\n      <td>AG</td>\n      <td>Antigua and Barbuda</td>\n      <td>17.060816</td>\n      <td>-61.796428</td>\n    </tr>\n    <tr>\n      <th>4</th>\n      <td>AI</td>\n      <td>Anguilla</td>\n      <td>18.220554</td>\n      <td>-63.068615</td>\n    </tr>\n  </tbody>\n</table>\n</div>"
     },
     "metadata": {},
     "execution_count": 2
    }
   ],
   "source": [
    "file = '../Resources/world_country.csv'\n",
    "country_df = pd.read_csv(file,keep_default_na=False,encoding='utf-8')\n",
    "country_df = country_df[['country_code','country','latitude','longitude']]\n",
    "country_df = country_df.rename({'country_code':'code'},axis=1)\n",
    "country_df.head()"
   ]
  },
  {
   "cell_type": "code",
   "execution_count": 3,
   "metadata": {},
   "outputs": [],
   "source": [
    "#cleaning countries\n",
    "for country in country_df['country']:\n",
    "    c = re.sub('\\[','(',country)\n",
    "    c = re.sub('\\]',')',c)\n",
    "    country_df['country'] = country_df['country'].replace(country,c)\n",
    "country_df['country'] = country_df['country'].str.normalize('NFKD').\\\n",
    "    str.encode('ascii', errors='ignore').str.decode('utf-8')"
   ]
  },
  {
   "cell_type": "code",
   "execution_count": 4,
   "metadata": {},
   "outputs": [],
   "source": [
    "#export to csv\n",
    "f = open('../Data/country_names.csv','w')\n",
    "country_df.to_csv(f,index=False,encoding='utf-8')\n",
    "f.close()"
   ]
  }
 ]
}