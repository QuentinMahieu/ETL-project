{
 "cells": [
  {
   "cell_type": "code",
   "execution_count": 2,
   "metadata": {},
   "outputs": [],
   "source": [
    "from pyquery import PyQuery as pq\n",
    "import pandas as pd\n",
    "from functions import country_codes"
   ]
  },
  {
   "cell_type": "code",
   "execution_count": 3,
   "metadata": {},
   "outputs": [],
   "source": [
    "# Fetch document's HTML using the URL\n",
    "document = pq('https://www.numbeo.com/crime/rankings_by_country.jsp?title=2020&displayColumn=0')"
   ]
  },
  {
   "cell_type": "code",
   "execution_count": 4,
   "metadata": {},
   "outputs": [],
   "source": [
    "# Find the table from HTML using classes \n",
    "table = document(\"table.stripe.row-border.order-column.compact\")"
   ]
  },
  {
   "cell_type": "code",
   "execution_count": 5,
   "metadata": {},
   "outputs": [],
   "source": [
    "# Iterate through table's TR\n",
    "# For each TR find child TDs \n",
    "# then extract country & crime rate using TD's index\n",
    "data = []\n",
    "for tr in table.find(\"tr\"):\n",
    "    row = pq(tr)\n",
    "    country = row.find(\"td\").eq(1).text()\n",
    "    crime_index = row.find(\"td\").eq(2).text()\n",
    "    _data = {}\n",
    "    _data[\"country\"] = country;\n",
    "    _data[\"crime_index\"] = crime_index;\n",
    "    data.append(_data)"
   ]
  },
  {
   "cell_type": "code",
   "execution_count": 6,
   "metadata": {},
   "outputs": [],
   "source": [
    "# Initialize our DataFrame\n",
    "crime_df = pd.DataFrame(data)"
   ]
  },
  {
   "cell_type": "code",
   "execution_count": 7,
   "metadata": {},
   "outputs": [],
   "source": [
    "crime_df = crime_df.drop(0)\n",
    "crime_df.reset_index(drop=True, inplace=True)\n",
    "crime_df = country_codes(crime_df,'country')"
   ]
  },
  {
   "cell_type": "code",
   "execution_count": 8,
   "metadata": {},
   "outputs": [],
   "source": [
    "# Save dataframe as a CSV file\n",
    "f = open('../Data/crime_rate.csv','w',encoding='utf-8')\n",
    "crime_df.to_csv(f)\n",
    "f.close()"
   ]
  },
  {
   "cell_type": "code",
   "execution_count": null,
   "metadata": {},
   "outputs": [],
   "source": []
  }
 ],
 "metadata": {
  "kernelspec": {
   "display_name": "Python 3.6.10 64-bit ('PythonDataNew': conda)",
   "language": "python",
   "name": "python_defaultSpec_1605918472448"
  },
  "language_info": {
   "codemirror_mode": {
    "name": "ipython",
    "version": 3
   },
   "file_extension": ".py",
   "mimetype": "text/x-python",
   "name": "python",
   "nbconvert_exporter": "python",
   "pygments_lexer": "ipython3",
   "version": "3.6.10-final"
  }
 },
 "nbformat": 4,
 "nbformat_minor": 4
}