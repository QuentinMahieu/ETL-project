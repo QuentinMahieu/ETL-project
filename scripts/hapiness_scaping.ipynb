{
 "metadata": {
  "language_info": {
   "codemirror_mode": {
    "name": "ipython",
    "version": 3
   },
   "file_extension": ".py",
   "mimetype": "text/x-python",
   "name": "python",
   "nbconvert_exporter": "python",
   "pygments_lexer": "ipython3",
   "version": "3.6.10-final"
  },
  "orig_nbformat": 2,
  "kernelspec": {
   "name": "python_defaultSpec_1605850559358",
   "display_name": "Python 3.6.10 64-bit ('PythonDataNew': conda)"
  }
 },
 "nbformat": 4,
 "nbformat_minor": 2,
 "cells": [
  {
   "cell_type": "code",
   "execution_count": 1,
   "metadata": {},
   "outputs": [],
   "source": [
    "import pandas as pd \n",
    "import numpy as np\n",
    "from functions import country_codes"
   ]
  },
  {
   "cell_type": "code",
   "execution_count": 2,
   "metadata": {
    "tags": []
   },
   "outputs": [],
   "source": [
    "dfs = {}\n",
    "for year in range(2015,2021):\n",
    "    df = pd.read_csv(f'../Resources/{year}.csv')\n",
    "    df['year'] = year\n",
    "    dfs[f'happy_{year}'] = df"
   ]
  },
  {
   "cell_type": "code",
   "execution_count": 3,
   "metadata": {},
   "outputs": [],
   "source": [
    "happy_2015_df = dfs['happy_2015']\n",
    "happy_2016_df = dfs['happy_2016']\n",
    "happy_2017_df = dfs['happy_2017']\n",
    "happy_2018_df = dfs['happy_2018']\n",
    "happy_2019_df = dfs['happy_2019']\n",
    "happy_2020_df = dfs['happy_2020']\n",
    "happy_2020_df['rank'] = np.arange(1,len(happy_2020_df)+1)"
   ]
  },
  {
   "cell_type": "code",
   "execution_count": 4,
   "metadata": {},
   "outputs": [],
   "source": [
    "happy_2017_df = happy_2017_df.iloc[:,[0,1,2,5,6,7,8,9,10,12]]\n",
    "happy_2018_df= happy_2018_df.iloc[:,[1,0,2,3,4,5,6,8,7,9]]\n",
    "happy_2019_df= happy_2019_df.iloc[:,[1,0,2,3,4,5,6,8,7,9]]\n",
    "happy_2020_df= happy_2020_df.iloc[:,[0,-1,2,-9,-8,-7,-6,-4,-5,-2]]"
   ]
  },
  {
   "cell_type": "code",
   "execution_count": 5,
   "metadata": {},
   "outputs": [],
   "source": [
    "final_df = pd.concat([happy_2015_df,happy_2016_df])\n",
    "columns = ['country', 'rank', 'score', 'GDP','social_support',\n",
    "    'life_expectancy','freedom','trust_governement','generosity',\n",
    "    'year']\n",
    "final_df = final_df[['Country','Happiness Rank', 'Happiness Score',\n",
    "    'Economy (GDP per Capita)','Family','Health (Life Expectancy)','Freedom',\n",
    "    'Trust (Government Corruption)','Generosity','year']]\n",
    "def renaming(df):\n",
    "    for i,col in enumerate(df.columns):\n",
    "        df = df.rename({col:columns[i]},axis=1)\n",
    "    return df\n",
    "final_df = renaming(final_df)\n",
    "happy_2017_df = renaming(happy_2017_df)\n",
    "happy_2018_df = renaming(happy_2018_df)\n",
    "happy_2019_df = renaming(happy_2019_df)\n",
    "happy_2020_df = renaming(happy_2020_df)"
   ]
  },
  {
   "cell_type": "code",
   "execution_count": 12,
   "metadata": {},
   "outputs": [],
   "source": [
    "happy_df = pd.concat([final_df,happy_2017_df,happy_2018_df,happy_2019_df,happy_2020_df])\n",
    "happy_df['country'] = happy_df['country'].str.\\\n",
    "    replace('Hong Kong S.A.R., China','Hong Kong')\n",
    "happy_df['country'] = happy_df['country'].str.\\\n",
    "    replace('Hong Kong S.A.R. of China','Hong Kong')\n",
    "happy_df['country'] = happy_df['country'].str.\\\n",
    "    replace('Somaliland region','Somalia')\n",
    "happy_df['country'] = happy_df['country'].str.\\\n",
    "    replace('Somaliland Region','Somalia')\n",
    "happy_df = happy_df.drop(happy_df.index[[65,219,375,857,527,689]])\n",
    "happy_df['country'] = happy_df['country'].str.\\\n",
    "    replace('North Macedonia','Macedonia')\n",
    "happy_df['country'] = happy_df['country'].str.\\\n",
    "    replace('Taiwan Province of China','Taiwan')\n",
    "happy_df['country'] = happy_df['country'].str.\\\n",
    "    replace('Trinidad & Tobago','Trinidad and Tobago')\n",
    "happy_df.reset_index(drop=True,inplace=True)"
   ]
  },
  {
   "cell_type": "code",
   "execution_count": 13,
   "metadata": {
    "tags": []
   },
   "outputs": [
    {
     "output_type": "stream",
     "name": "stdout",
     "text": "palestinian territories not found\ncongo kinshasa not found\ncongo brazzaville not found\nivory coast not found\npalestinian territories not found\ncongo kinshasa not found\ncongo brazzaville not found\nivory coast not found\npalestinian territories not found\ncongo brazzaville not found\ncongo kinshasa not found\nivory coast not found\npalestinian territories not found\nivory coast not found\ncongo brazzaville not found\ncongo kinshasa not found\nivory coast not found\ncongo brazzaville not found\npalestinian territories not found\ncongo kinshasa not found\nivory coast not found\ncongo brazzaville not found\npalestinian territories not found\ncongo kinshasa not found\n"
    }
   ],
   "source": [
    "happy_df = country_codes(happy_df,'country')"
   ]
  },
  {
   "cell_type": "code",
   "execution_count": 23,
   "metadata": {},
   "outputs": [
    {
     "output_type": "execute_result",
     "data": {
      "text/plain": "Empty DataFrame\nColumns: [country, rank, score, GDP, social_support, life_expectancy, freedom, trust_governement, generosity, year, country_code]\nIndex: []",
      "text/html": "<div>\n<style scoped>\n    .dataframe tbody tr th:only-of-type {\n        vertical-align: middle;\n    }\n\n    .dataframe tbody tr th {\n        vertical-align: top;\n    }\n\n    .dataframe thead th {\n        text-align: right;\n    }\n</style>\n<table border=\"1\" class=\"dataframe\">\n  <thead>\n    <tr style=\"text-align: right;\">\n      <th></th>\n      <th>country</th>\n      <th>rank</th>\n      <th>score</th>\n      <th>GDP</th>\n      <th>social_support</th>\n      <th>life_expectancy</th>\n      <th>freedom</th>\n      <th>trust_governement</th>\n      <th>generosity</th>\n      <th>year</th>\n      <th>country_code</th>\n    </tr>\n  </thead>\n  <tbody>\n  </tbody>\n</table>\n</div>"
     },
     "metadata": {},
     "execution_count": 23
    }
   ],
   "source": [
    "happy_df[happy_df['country_code']=='']"
   ]
  },
  {
   "cell_type": "code",
   "execution_count": 22,
   "metadata": {},
   "outputs": [],
   "source": [
    "happy_df['country_code'][[101,870,705,549,399,253]] = 'PS'\n",
    "happy_df['country_code'][[113,270,422,577,722,876]] = 'CD'\n",
    "happy_df['country_code'][[132,272,420,559,698,833]] = 'CG'\n",
    "happy_df['country_code'][[144,284,424,552,694,830]] = 'CI'"
   ]
  },
  {
   "cell_type": "code",
   "execution_count": 24,
   "metadata": {},
   "outputs": [
    {
     "output_type": "execute_result",
     "data": {
      "text/plain": "       country  rank  score      GDP  social_support  life_expectancy  \\\n0  Switzerland     1  7.587  1.39651         1.34951          0.94143   \n1      Iceland     2  7.561  1.30232         1.40223          0.94784   \n2      Denmark     3  7.527  1.32548         1.36058          0.87464   \n3       Norway     4  7.522  1.45900         1.33095          0.88521   \n4       Canada     5  7.427  1.32629         1.32261          0.90563   \n\n   freedom  trust_governement  generosity  year country_code  \n0  0.66557            0.41978     0.29678  2015           CH  \n1  0.62877            0.14145     0.43630  2015           IS  \n2  0.64938            0.48357     0.34139  2015           DK  \n3  0.66973            0.36503     0.34699  2015           NO  \n4  0.63297            0.32957     0.45811  2015           CA  ",
      "text/html": "<div>\n<style scoped>\n    .dataframe tbody tr th:only-of-type {\n        vertical-align: middle;\n    }\n\n    .dataframe tbody tr th {\n        vertical-align: top;\n    }\n\n    .dataframe thead th {\n        text-align: right;\n    }\n</style>\n<table border=\"1\" class=\"dataframe\">\n  <thead>\n    <tr style=\"text-align: right;\">\n      <th></th>\n      <th>country</th>\n      <th>rank</th>\n      <th>score</th>\n      <th>GDP</th>\n      <th>social_support</th>\n      <th>life_expectancy</th>\n      <th>freedom</th>\n      <th>trust_governement</th>\n      <th>generosity</th>\n      <th>year</th>\n      <th>country_code</th>\n    </tr>\n  </thead>\n  <tbody>\n    <tr>\n      <th>0</th>\n      <td>Switzerland</td>\n      <td>1</td>\n      <td>7.587</td>\n      <td>1.39651</td>\n      <td>1.34951</td>\n      <td>0.94143</td>\n      <td>0.66557</td>\n      <td>0.41978</td>\n      <td>0.29678</td>\n      <td>2015</td>\n      <td>CH</td>\n    </tr>\n    <tr>\n      <th>1</th>\n      <td>Iceland</td>\n      <td>2</td>\n      <td>7.561</td>\n      <td>1.30232</td>\n      <td>1.40223</td>\n      <td>0.94784</td>\n      <td>0.62877</td>\n      <td>0.14145</td>\n      <td>0.43630</td>\n      <td>2015</td>\n      <td>IS</td>\n    </tr>\n    <tr>\n      <th>2</th>\n      <td>Denmark</td>\n      <td>3</td>\n      <td>7.527</td>\n      <td>1.32548</td>\n      <td>1.36058</td>\n      <td>0.87464</td>\n      <td>0.64938</td>\n      <td>0.48357</td>\n      <td>0.34139</td>\n      <td>2015</td>\n      <td>DK</td>\n    </tr>\n    <tr>\n      <th>3</th>\n      <td>Norway</td>\n      <td>4</td>\n      <td>7.522</td>\n      <td>1.45900</td>\n      <td>1.33095</td>\n      <td>0.88521</td>\n      <td>0.66973</td>\n      <td>0.36503</td>\n      <td>0.34699</td>\n      <td>2015</td>\n      <td>NO</td>\n    </tr>\n    <tr>\n      <th>4</th>\n      <td>Canada</td>\n      <td>5</td>\n      <td>7.427</td>\n      <td>1.32629</td>\n      <td>1.32261</td>\n      <td>0.90563</td>\n      <td>0.63297</td>\n      <td>0.32957</td>\n      <td>0.45811</td>\n      <td>2015</td>\n      <td>CA</td>\n    </tr>\n  </tbody>\n</table>\n</div>"
     },
     "metadata": {},
     "execution_count": 24
    }
   ],
   "source": [
    "f = open('../Data/happiness.csv','w',encoding='utf-8')\n",
    "happy_df.to_csv(f,index=False)\n",
    "f.close()\n",
    "happy_df.head()"
   ]
  },
  {
   "cell_type": "code",
   "execution_count": null,
   "metadata": {},
   "outputs": [],
   "source": []
  }
 ]
}