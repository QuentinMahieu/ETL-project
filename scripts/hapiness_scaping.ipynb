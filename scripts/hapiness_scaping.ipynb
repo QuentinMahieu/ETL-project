{
 "metadata": {
  "language_info": {
   "codemirror_mode": {
    "name": "ipython",
    "version": 3
   },
   "file_extension": ".py",
   "mimetype": "text/x-python",
   "name": "python",
   "nbconvert_exporter": "python",
   "pygments_lexer": "ipython3",
   "version": "3.6.10-final"
  },
  "orig_nbformat": 2,
  "kernelspec": {
   "name": "python_defaultSpec_1606260060524",
   "display_name": "Python 3.6.10 64-bit ('PythonDataNew': conda)"
  }
 },
 "nbformat": 4,
 "nbformat_minor": 2,
 "cells": [
  {
   "cell_type": "code",
   "execution_count": 1,
   "metadata": {},
   "outputs": [],
   "source": [
    "import pandas as pd \n",
    "import numpy as np\n",
    "from functions import country_codes"
   ]
  },
  {
   "cell_type": "code",
   "execution_count": 2,
   "metadata": {
    "tags": []
   },
   "outputs": [],
   "source": [
    "dfs = {}\n",
    "for year in range(2015,2021):\n",
    "    df = pd.read_csv(f'../Resources/{year}.csv')\n",
    "    df['year'] = year\n",
    "    dfs[f'happy_{year}'] = df"
   ]
  },
  {
   "cell_type": "code",
   "execution_count": 3,
   "metadata": {},
   "outputs": [],
   "source": [
    "happy_2015_df = dfs['happy_2015']\n",
    "happy_2016_df = dfs['happy_2016']\n",
    "happy_2017_df = dfs['happy_2017']\n",
    "happy_2018_df = dfs['happy_2018']\n",
    "happy_2019_df = dfs['happy_2019']\n",
    "happy_2020_df = dfs['happy_2020']\n",
    "happy_2020_df['rank'] = np.arange(1,len(happy_2020_df)+1)"
   ]
  },
  {
   "cell_type": "code",
   "execution_count": 4,
   "metadata": {},
   "outputs": [],
   "source": [
    "happy_2017_df = happy_2017_df.iloc[:,[0,1,2,5,6,7,8,9,10,12]]\n",
    "happy_2018_df= happy_2018_df.iloc[:,[1,0,2,3,4,5,6,8,7,9]]\n",
    "happy_2019_df= happy_2019_df.iloc[:,[1,0,2,3,4,5,6,8,7,9]]\n",
    "happy_2020_df= happy_2020_df.iloc[:,[0,-1,2,-9,-8,-7,-6,-4,-5,-2]]"
   ]
  },
  {
   "cell_type": "code",
   "execution_count": 5,
   "metadata": {},
   "outputs": [],
   "source": [
    "final_df = pd.concat([happy_2015_df,happy_2016_df])\n",
    "columns = ['country', 'rank', 'score', 'GDP','social_support',\n",
    "    'life_expectancy','freedom','trust_governement','generosity',\n",
    "    'year']\n",
    "final_df = final_df[['Country','Happiness Rank', 'Happiness Score',\n",
    "    'Economy (GDP per Capita)','Family','Health (Life Expectancy)','Freedom',\n",
    "    'Trust (Government Corruption)','Generosity','year']]\n",
    "def renaming(df):\n",
    "    for i,col in enumerate(df.columns):\n",
    "        df = df.rename({col:columns[i]},axis=1)\n",
    "    return df\n",
    "final_df = renaming(final_df)\n",
    "happy_2017_df = renaming(happy_2017_df)\n",
    "happy_2018_df = renaming(happy_2018_df)\n",
    "happy_2019_df = renaming(happy_2019_df)\n",
    "happy_2020_df = renaming(happy_2020_df)"
   ]
  },
  {
   "cell_type": "code",
   "execution_count": 6,
   "metadata": {},
   "outputs": [],
   "source": [
    "happy_df = pd.concat([final_df,happy_2017_df,happy_2018_df,happy_2019_df,happy_2020_df])\n",
    "happy_df['country'] = happy_df['country'].str.\\\n",
    "    replace('Hong Kong S.A.R., China','Hong Kong')\n",
    "happy_df['country'] = happy_df['country'].str.\\\n",
    "    replace('Hong Kong S.A.R. of China','Hong Kong')\n",
    "happy_df['country'] = happy_df['country'].str.\\\n",
    "    replace('Somaliland region','Somalia')\n",
    "happy_df['country'] = happy_df['country'].str.\\\n",
    "    replace('Somaliland Region','Somalia')\n",
    "happy_df = happy_df.drop(happy_df.index[[65,219,375,857,527,689]])\n",
    "happy_df['country'] = happy_df['country'].str.\\\n",
    "    replace('North Macedonia','Macedonia')\n",
    "happy_df['country'] = happy_df['country'].str.\\\n",
    "    replace('Taiwan Province of China','Taiwan')\n",
    "happy_df['country'] = happy_df['country'].str.\\\n",
    "    replace('Trinidad & Tobago','Trinidad and Tobago')\n",
    "happy_df.reset_index(drop=True,inplace=True)"
   ]
  },
  {
   "cell_type": "code",
   "execution_count": 7,
   "metadata": {
    "tags": []
   },
   "outputs": [
    {
     "output_type": "stream",
     "name": "stdout",
     "text": "palestinian territories not found\ncongo kinshasa not found\ncongo brazzaville not found\nivory coast not found\npalestinian territories not found\ncongo kinshasa not found\ncongo brazzaville not found\nivory coast not found\npalestinian territories not found\ncongo brazzaville not found\ncongo kinshasa not found\nivory coast not found\npalestinian territories not found\nivory coast not found\ncongo brazzaville not found\ncongo kinshasa not found\nivory coast not found\ncongo brazzaville not found\npalestinian territories not found\ncongo kinshasa not found\nivory coast not found\ncongo brazzaville not found\npalestinian territories not found\ncongo kinshasa not found\n"
    }
   ],
   "source": [
    "happy_df = country_codes(happy_df,'country')"
   ]
  },
  {
   "cell_type": "code",
   "execution_count": 9,
   "metadata": {},
   "outputs": [
    {
     "output_type": "execute_result",
     "data": {
      "text/plain": "Empty DataFrame\nColumns: [country, rank, score, GDP, social_support, life_expectancy, freedom, trust_governement, generosity, year, country_code]\nIndex: []",
      "text/html": "<div>\n<style scoped>\n    .dataframe tbody tr th:only-of-type {\n        vertical-align: middle;\n    }\n\n    .dataframe tbody tr th {\n        vertical-align: top;\n    }\n\n    .dataframe thead th {\n        text-align: right;\n    }\n</style>\n<table border=\"1\" class=\"dataframe\">\n  <thead>\n    <tr style=\"text-align: right;\">\n      <th></th>\n      <th>country</th>\n      <th>rank</th>\n      <th>score</th>\n      <th>GDP</th>\n      <th>social_support</th>\n      <th>life_expectancy</th>\n      <th>freedom</th>\n      <th>trust_governement</th>\n      <th>generosity</th>\n      <th>year</th>\n      <th>country_code</th>\n    </tr>\n  </thead>\n  <tbody>\n  </tbody>\n</table>\n</div>"
     },
     "metadata": {},
     "execution_count": 9
    }
   ],
   "source": [
    "happy_df['country_code'][[101,870,705,549,399,253]] = 'PS'\n",
    "happy_df['country_code'][[113,270,422,577,722,876]] = 'CD'\n",
    "happy_df['country_code'][[132,272,420,559,698,833]] = 'CG'\n",
    "happy_df['country_code'][[144,284,424,552,694,830]] = 'CI'\n",
    "happy_df[happy_df['country_code']=='UK']"
   ]
  },
  {
   "cell_type": "code",
   "execution_count": 10,
   "metadata": {},
   "outputs": [],
   "source": [
    "#for PSQL\n",
    "del happy_df['country']\n",
    "happy_df = happy_df.iloc[:,[-1,0,1,2,3,4,5,6,7,8]]\n",
    "f = open('../SQL/Data/happiness.csv','w',encoding='utf-8')\n",
    "happy_df.to_csv(f)\n",
    "f.close()"
   ]
  },
  {
   "cell_type": "code",
   "execution_count": 12,
   "metadata": {},
   "outputs": [
    {
     "output_type": "execute_result",
     "data": {
      "text/plain": "    country_code  rank   score       GDP  social_support  life_expectancy  \\\n0             CH     1  7.5870  1.396510        1.349510         0.941430   \n1             IS     2  7.5610  1.302320        1.402230         0.947840   \n2             DK     3  7.5270  1.325480        1.360580         0.874640   \n3             NO     4  7.5220  1.459000        1.330950         0.885210   \n4             CA     5  7.4270  1.326290        1.322610         0.905630   \n..           ...   ...     ...       ...             ...              ...   \n894           CF   149  3.4759  0.041072        0.000000         0.000000   \n895           RW   150  3.3123  0.343243        0.522876         0.572383   \n896           ZW   151  3.2992  0.425564        1.047835         0.375038   \n897           SS   152  2.8166  0.289083        0.553279         0.208809   \n898           AF   153  2.5669  0.300706        0.356434         0.266052   \n\n      freedom  trust_governement  generosity  year  \n0    0.665570           0.419780    0.296780  2015  \n1    0.628770           0.141450    0.436300  2015  \n2    0.649380           0.483570    0.341390  2015  \n3    0.669730           0.365030    0.346990  2015  \n4    0.632970           0.329570    0.458110  2015  \n..        ...                ...         ...   ...  \n894  0.292814           0.028265    0.253513  2020  \n895  0.604088           0.485542    0.235705  2020  \n896  0.377405           0.080929    0.151349  2020  \n897  0.065609           0.111157    0.209935  2020  \n898  0.000000           0.001226    0.135235  2020  \n\n[899 rows x 10 columns]",
      "text/html": "<div>\n<style scoped>\n    .dataframe tbody tr th:only-of-type {\n        vertical-align: middle;\n    }\n\n    .dataframe tbody tr th {\n        vertical-align: top;\n    }\n\n    .dataframe thead th {\n        text-align: right;\n    }\n</style>\n<table border=\"1\" class=\"dataframe\">\n  <thead>\n    <tr style=\"text-align: right;\">\n      <th></th>\n      <th>country_code</th>\n      <th>rank</th>\n      <th>score</th>\n      <th>GDP</th>\n      <th>social_support</th>\n      <th>life_expectancy</th>\n      <th>freedom</th>\n      <th>trust_governement</th>\n      <th>generosity</th>\n      <th>year</th>\n    </tr>\n  </thead>\n  <tbody>\n    <tr>\n      <th>0</th>\n      <td>CH</td>\n      <td>1</td>\n      <td>7.5870</td>\n      <td>1.396510</td>\n      <td>1.349510</td>\n      <td>0.941430</td>\n      <td>0.665570</td>\n      <td>0.419780</td>\n      <td>0.296780</td>\n      <td>2015</td>\n    </tr>\n    <tr>\n      <th>1</th>\n      <td>IS</td>\n      <td>2</td>\n      <td>7.5610</td>\n      <td>1.302320</td>\n      <td>1.402230</td>\n      <td>0.947840</td>\n      <td>0.628770</td>\n      <td>0.141450</td>\n      <td>0.436300</td>\n      <td>2015</td>\n    </tr>\n    <tr>\n      <th>2</th>\n      <td>DK</td>\n      <td>3</td>\n      <td>7.5270</td>\n      <td>1.325480</td>\n      <td>1.360580</td>\n      <td>0.874640</td>\n      <td>0.649380</td>\n      <td>0.483570</td>\n      <td>0.341390</td>\n      <td>2015</td>\n    </tr>\n    <tr>\n      <th>3</th>\n      <td>NO</td>\n      <td>4</td>\n      <td>7.5220</td>\n      <td>1.459000</td>\n      <td>1.330950</td>\n      <td>0.885210</td>\n      <td>0.669730</td>\n      <td>0.365030</td>\n      <td>0.346990</td>\n      <td>2015</td>\n    </tr>\n    <tr>\n      <th>4</th>\n      <td>CA</td>\n      <td>5</td>\n      <td>7.4270</td>\n      <td>1.326290</td>\n      <td>1.322610</td>\n      <td>0.905630</td>\n      <td>0.632970</td>\n      <td>0.329570</td>\n      <td>0.458110</td>\n      <td>2015</td>\n    </tr>\n    <tr>\n      <th>...</th>\n      <td>...</td>\n      <td>...</td>\n      <td>...</td>\n      <td>...</td>\n      <td>...</td>\n      <td>...</td>\n      <td>...</td>\n      <td>...</td>\n      <td>...</td>\n      <td>...</td>\n    </tr>\n    <tr>\n      <th>894</th>\n      <td>CF</td>\n      <td>149</td>\n      <td>3.4759</td>\n      <td>0.041072</td>\n      <td>0.000000</td>\n      <td>0.000000</td>\n      <td>0.292814</td>\n      <td>0.028265</td>\n      <td>0.253513</td>\n      <td>2020</td>\n    </tr>\n    <tr>\n      <th>895</th>\n      <td>RW</td>\n      <td>150</td>\n      <td>3.3123</td>\n      <td>0.343243</td>\n      <td>0.522876</td>\n      <td>0.572383</td>\n      <td>0.604088</td>\n      <td>0.485542</td>\n      <td>0.235705</td>\n      <td>2020</td>\n    </tr>\n    <tr>\n      <th>896</th>\n      <td>ZW</td>\n      <td>151</td>\n      <td>3.2992</td>\n      <td>0.425564</td>\n      <td>1.047835</td>\n      <td>0.375038</td>\n      <td>0.377405</td>\n      <td>0.080929</td>\n      <td>0.151349</td>\n      <td>2020</td>\n    </tr>\n    <tr>\n      <th>897</th>\n      <td>SS</td>\n      <td>152</td>\n      <td>2.8166</td>\n      <td>0.289083</td>\n      <td>0.553279</td>\n      <td>0.208809</td>\n      <td>0.065609</td>\n      <td>0.111157</td>\n      <td>0.209935</td>\n      <td>2020</td>\n    </tr>\n    <tr>\n      <th>898</th>\n      <td>AF</td>\n      <td>153</td>\n      <td>2.5669</td>\n      <td>0.300706</td>\n      <td>0.356434</td>\n      <td>0.266052</td>\n      <td>0.000000</td>\n      <td>0.001226</td>\n      <td>0.135235</td>\n      <td>2020</td>\n    </tr>\n  </tbody>\n</table>\n<p>899 rows × 10 columns</p>\n</div>"
     },
     "metadata": {},
     "execution_count": 12
    }
   ],
   "source": [
    "happy_df"
   ]
  },
  {
   "cell_type": "code",
   "execution_count": 11,
   "metadata": {},
   "outputs": [],
   "source": [
    "import sqlite3\n",
    "path = '/Users/quentinmahieu/Desktop/School/Monash/Projects_Monash/13.ETL_project/SQL/crime.db'\n",
    "conn = sqlite3.connect(path)\n",
    "happy_df.to_sql('happiness', con = conn)"
   ]
  },
  {
   "cell_type": "code",
   "execution_count": null,
   "metadata": {},
   "outputs": [],
   "source": []
  }
 ]
}