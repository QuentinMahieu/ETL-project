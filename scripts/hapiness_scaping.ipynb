{
 "metadata": {
  "language_info": {
   "codemirror_mode": {
    "name": "ipython",
    "version": 3
   },
   "file_extension": ".py",
   "mimetype": "text/x-python",
   "name": "python",
   "nbconvert_exporter": "python",
   "pygments_lexer": "ipython3",
   "version": "3.6.10-final"
  },
  "orig_nbformat": 2,
  "kernelspec": {
   "name": "python_defaultSpec_1605918569380",
   "display_name": "Python 3.6.10 64-bit ('PythonDataNew': conda)"
  }
 },
 "nbformat": 4,
 "nbformat_minor": 2,
 "cells": [
  {
   "cell_type": "code",
   "execution_count": 1,
   "metadata": {},
   "outputs": [],
   "source": [
    "import pandas as pd \n",
    "import numpy as np\n",
    "from functions import country_codes"
   ]
  },
  {
   "cell_type": "code",
   "execution_count": 2,
   "metadata": {
    "tags": []
   },
   "outputs": [],
   "source": [
    "dfs = {}\n",
    "for year in range(2015,2021):\n",
    "    df = pd.read_csv(f'../Resources/{year}.csv')\n",
    "    df['year'] = year\n",
    "    dfs[f'happy_{year}'] = df"
   ]
  },
  {
   "cell_type": "code",
   "execution_count": 3,
   "metadata": {},
   "outputs": [],
   "source": [
    "happy_2015_df = dfs['happy_2015']\n",
    "happy_2016_df = dfs['happy_2016']\n",
    "happy_2017_df = dfs['happy_2017']\n",
    "happy_2018_df = dfs['happy_2018']\n",
    "happy_2019_df = dfs['happy_2019']\n",
    "happy_2020_df = dfs['happy_2020']\n",
    "happy_2020_df['rank'] = np.arange(1,len(happy_2020_df)+1)"
   ]
  },
  {
   "cell_type": "code",
   "execution_count": 4,
   "metadata": {},
   "outputs": [],
   "source": [
    "happy_2017_df = happy_2017_df.iloc[:,[0,1,2,5,6,7,8,9,10,12]]\n",
    "happy_2018_df= happy_2018_df.iloc[:,[1,0,2,3,4,5,6,8,7,9]]\n",
    "happy_2019_df= happy_2019_df.iloc[:,[1,0,2,3,4,5,6,8,7,9]]\n",
    "happy_2020_df= happy_2020_df.iloc[:,[0,-1,2,-9,-8,-7,-6,-4,-5,-2]]"
   ]
  },
  {
   "cell_type": "code",
   "execution_count": 5,
   "metadata": {},
   "outputs": [],
   "source": [
    "final_df = pd.concat([happy_2015_df,happy_2016_df])\n",
    "columns = ['country', 'rank', 'score', 'GDP','social_support',\n",
    "    'life_expectancy','freedom','trust_governement','generosity',\n",
    "    'year']\n",
    "final_df = final_df[['Country','Happiness Rank', 'Happiness Score',\n",
    "    'Economy (GDP per Capita)','Family','Health (Life Expectancy)','Freedom',\n",
    "    'Trust (Government Corruption)','Generosity','year']]\n",
    "def renaming(df):\n",
    "    for i,col in enumerate(df.columns):\n",
    "        df = df.rename({col:columns[i]},axis=1)\n",
    "    return df\n",
    "final_df = renaming(final_df)\n",
    "happy_2017_df = renaming(happy_2017_df)\n",
    "happy_2018_df = renaming(happy_2018_df)\n",
    "happy_2019_df = renaming(happy_2019_df)\n",
    "happy_2020_df = renaming(happy_2020_df)"
   ]
  },
  {
   "cell_type": "code",
   "execution_count": 6,
   "metadata": {},
   "outputs": [],
   "source": [
    "happy_df = pd.concat([final_df,happy_2017_df,happy_2018_df,happy_2019_df,happy_2020_df])\n",
    "happy_df['country'] = happy_df['country'].str.\\\n",
    "    replace('Hong Kong S.A.R., China','Hong Kong')\n",
    "happy_df['country'] = happy_df['country'].str.\\\n",
    "    replace('Hong Kong S.A.R. of China','Hong Kong')\n",
    "happy_df['country'] = happy_df['country'].str.\\\n",
    "    replace('Somaliland region','Somalia')\n",
    "happy_df['country'] = happy_df['country'].str.\\\n",
    "    replace('Somaliland Region','Somalia')\n",
    "happy_df = happy_df.drop(happy_df.index[[65,219,375,857,527,689]])\n",
    "happy_df['country'] = happy_df['country'].str.\\\n",
    "    replace('North Macedonia','Macedonia')\n",
    "happy_df['country'] = happy_df['country'].str.\\\n",
    "    replace('Taiwan Province of China','Taiwan')\n",
    "happy_df['country'] = happy_df['country'].str.\\\n",
    "    replace('Trinidad & Tobago','Trinidad and Tobago')\n",
    "happy_df.reset_index(drop=True,inplace=True)"
   ]
  },
  {
   "cell_type": "code",
   "execution_count": 7,
   "metadata": {
    "tags": []
   },
   "outputs": [
    {
     "output_type": "stream",
     "name": "stdout",
     "text": "palestinian territories not found\ncongo kinshasa not found\ncongo brazzaville not found\nivory coast not found\npalestinian territories not found\ncongo kinshasa not found\ncongo brazzaville not found\nivory coast not found\npalestinian territories not found\ncongo brazzaville not found\ncongo kinshasa not found\nivory coast not found\npalestinian territories not found\nivory coast not found\ncongo brazzaville not found\ncongo kinshasa not found\nivory coast not found\ncongo brazzaville not found\npalestinian territories not found\ncongo kinshasa not found\nivory coast not found\ncongo brazzaville not found\npalestinian territories not found\ncongo kinshasa not found\n"
    }
   ],
   "source": [
    "happy_df = country_codes(happy_df,'country')"
   ]
  },
  {
   "cell_type": "code",
   "execution_count": 8,
   "metadata": {},
   "outputs": [
    {
     "output_type": "execute_result",
     "data": {
      "text/plain": "                     country  rank   score       GDP  social_support  \\\n101  Palestinian Territories   108  4.7150  0.598670        0.925580   \n113         Congo (Kinshasa)   120  4.5170  0.000000        1.001200   \n132      Congo (Brazzaville)   139  3.9890  0.678660        0.662900   \n144              Ivory Coast   151  3.6550  0.465340        0.771150   \n253  Palestinian Territories   108  4.7540  0.670240        0.716290   \n270         Congo (Kinshasa)   125  4.2720  0.056610        0.806760   \n272      Congo (Brazzaville)   127  4.2360  0.771090        0.477990   \n284              Ivory Coast   139  3.9160  0.555070        0.575760   \n399  Palestinian Territories   103  4.7750  0.716249        1.155647   \n420      Congo (Brazzaville)   124  4.2910  0.808964        0.832044   \n422         Congo (Kinshasa)   126  4.2800  0.092102        1.229023   \n424              Ivory Coast   128  4.1800  0.603049        0.904780   \n549  Palestinian Territories   104  4.7430  0.642000        1.217000   \n552              Ivory Coast   107  4.6710  0.541000        0.872000   \n559      Congo (Brazzaville)   114  4.5590  0.682000        0.811000   \n577         Congo (Kinshasa)   132  4.2450  0.069000        1.136000   \n694              Ivory Coast    99  4.9440  0.569000        0.808000   \n698      Congo (Brazzaville)   103  4.8120  0.673000        0.799000   \n705  Palestinian Territories   110  4.6960  0.657000        1.247000   \n722         Congo (Kinshasa)   127  4.4180  0.094000        1.125000   \n830              Ivory Coast    85  5.2333  0.537094        0.799727   \n833      Congo (Brazzaville)    88  5.1944  0.633617        0.757636   \n870  Palestinian Territories   125  4.5528  0.587819        1.194756   \n876         Congo (Kinshasa)   131  4.3110  0.062487        0.833055   \n\n     life_expectancy   freedom  trust_governement  generosity  year  \\\n101         0.660150  0.244990           0.129050    0.112510  2015   \n113         0.098060  0.226050           0.076250    0.248340  2015   \n132         0.310510  0.414660           0.116860    0.123880  2015   \n144         0.151850  0.468660           0.179220    0.201650  2015   \n253         0.568440  0.177440           0.106130    0.111540  2016   \n270         0.188000  0.156020           0.060750    0.254580  2016   \n272         0.282120  0.379380           0.097530    0.120770  2016   \n284         0.044760  0.406630           0.155300    0.203380  2016   \n399         0.565667  0.254711           0.114173    0.089283  2017   \n420         0.289957  0.435026           0.120852    0.079618  2017   \n422         0.191407  0.235961           0.246456    0.060241  2017   \n424         0.048642  0.447706           0.201237    0.130062  2017   \n549         0.602000  0.266000           0.076000    0.086000  2018   \n552         0.080000  0.467000           0.103000    0.146000  2018   \n559         0.343000  0.514000           0.077000    0.091000  2018   \n577         0.204000  0.312000           0.052000    0.197000  2018   \n694         0.232000  0.352000           0.090000    0.154000  2019   \n698         0.508000  0.372000           0.093000    0.105000  2019   \n705         0.672000  0.225000           0.066000    0.103000  2019   \n722         0.357000  0.269000           0.053000    0.212000  2019   \n830         0.154943  0.397123           0.093496    0.169916  2020   \n833         0.458101  0.386514           0.118671    0.117216  2020   \n870         0.613827  0.298701           0.071914    0.091816  2020   \n876         0.277212  0.364623           0.081467    0.254325  2020   \n\n    country_code  \n101               \n113               \n132               \n144               \n253               \n270               \n272               \n284               \n399               \n420               \n422               \n424               \n549               \n552               \n559               \n577               \n694               \n698               \n705               \n722               \n830               \n833               \n870               \n876               ",
      "text/html": "<div>\n<style scoped>\n    .dataframe tbody tr th:only-of-type {\n        vertical-align: middle;\n    }\n\n    .dataframe tbody tr th {\n        vertical-align: top;\n    }\n\n    .dataframe thead th {\n        text-align: right;\n    }\n</style>\n<table border=\"1\" class=\"dataframe\">\n  <thead>\n    <tr style=\"text-align: right;\">\n      <th></th>\n      <th>country</th>\n      <th>rank</th>\n      <th>score</th>\n      <th>GDP</th>\n      <th>social_support</th>\n      <th>life_expectancy</th>\n      <th>freedom</th>\n      <th>trust_governement</th>\n      <th>generosity</th>\n      <th>year</th>\n      <th>country_code</th>\n    </tr>\n  </thead>\n  <tbody>\n    <tr>\n      <th>101</th>\n      <td>Palestinian Territories</td>\n      <td>108</td>\n      <td>4.7150</td>\n      <td>0.598670</td>\n      <td>0.925580</td>\n      <td>0.660150</td>\n      <td>0.244990</td>\n      <td>0.129050</td>\n      <td>0.112510</td>\n      <td>2015</td>\n      <td></td>\n    </tr>\n    <tr>\n      <th>113</th>\n      <td>Congo (Kinshasa)</td>\n      <td>120</td>\n      <td>4.5170</td>\n      <td>0.000000</td>\n      <td>1.001200</td>\n      <td>0.098060</td>\n      <td>0.226050</td>\n      <td>0.076250</td>\n      <td>0.248340</td>\n      <td>2015</td>\n      <td></td>\n    </tr>\n    <tr>\n      <th>132</th>\n      <td>Congo (Brazzaville)</td>\n      <td>139</td>\n      <td>3.9890</td>\n      <td>0.678660</td>\n      <td>0.662900</td>\n      <td>0.310510</td>\n      <td>0.414660</td>\n      <td>0.116860</td>\n      <td>0.123880</td>\n      <td>2015</td>\n      <td></td>\n    </tr>\n    <tr>\n      <th>144</th>\n      <td>Ivory Coast</td>\n      <td>151</td>\n      <td>3.6550</td>\n      <td>0.465340</td>\n      <td>0.771150</td>\n      <td>0.151850</td>\n      <td>0.468660</td>\n      <td>0.179220</td>\n      <td>0.201650</td>\n      <td>2015</td>\n      <td></td>\n    </tr>\n    <tr>\n      <th>253</th>\n      <td>Palestinian Territories</td>\n      <td>108</td>\n      <td>4.7540</td>\n      <td>0.670240</td>\n      <td>0.716290</td>\n      <td>0.568440</td>\n      <td>0.177440</td>\n      <td>0.106130</td>\n      <td>0.111540</td>\n      <td>2016</td>\n      <td></td>\n    </tr>\n    <tr>\n      <th>270</th>\n      <td>Congo (Kinshasa)</td>\n      <td>125</td>\n      <td>4.2720</td>\n      <td>0.056610</td>\n      <td>0.806760</td>\n      <td>0.188000</td>\n      <td>0.156020</td>\n      <td>0.060750</td>\n      <td>0.254580</td>\n      <td>2016</td>\n      <td></td>\n    </tr>\n    <tr>\n      <th>272</th>\n      <td>Congo (Brazzaville)</td>\n      <td>127</td>\n      <td>4.2360</td>\n      <td>0.771090</td>\n      <td>0.477990</td>\n      <td>0.282120</td>\n      <td>0.379380</td>\n      <td>0.097530</td>\n      <td>0.120770</td>\n      <td>2016</td>\n      <td></td>\n    </tr>\n    <tr>\n      <th>284</th>\n      <td>Ivory Coast</td>\n      <td>139</td>\n      <td>3.9160</td>\n      <td>0.555070</td>\n      <td>0.575760</td>\n      <td>0.044760</td>\n      <td>0.406630</td>\n      <td>0.155300</td>\n      <td>0.203380</td>\n      <td>2016</td>\n      <td></td>\n    </tr>\n    <tr>\n      <th>399</th>\n      <td>Palestinian Territories</td>\n      <td>103</td>\n      <td>4.7750</td>\n      <td>0.716249</td>\n      <td>1.155647</td>\n      <td>0.565667</td>\n      <td>0.254711</td>\n      <td>0.114173</td>\n      <td>0.089283</td>\n      <td>2017</td>\n      <td></td>\n    </tr>\n    <tr>\n      <th>420</th>\n      <td>Congo (Brazzaville)</td>\n      <td>124</td>\n      <td>4.2910</td>\n      <td>0.808964</td>\n      <td>0.832044</td>\n      <td>0.289957</td>\n      <td>0.435026</td>\n      <td>0.120852</td>\n      <td>0.079618</td>\n      <td>2017</td>\n      <td></td>\n    </tr>\n    <tr>\n      <th>422</th>\n      <td>Congo (Kinshasa)</td>\n      <td>126</td>\n      <td>4.2800</td>\n      <td>0.092102</td>\n      <td>1.229023</td>\n      <td>0.191407</td>\n      <td>0.235961</td>\n      <td>0.246456</td>\n      <td>0.060241</td>\n      <td>2017</td>\n      <td></td>\n    </tr>\n    <tr>\n      <th>424</th>\n      <td>Ivory Coast</td>\n      <td>128</td>\n      <td>4.1800</td>\n      <td>0.603049</td>\n      <td>0.904780</td>\n      <td>0.048642</td>\n      <td>0.447706</td>\n      <td>0.201237</td>\n      <td>0.130062</td>\n      <td>2017</td>\n      <td></td>\n    </tr>\n    <tr>\n      <th>549</th>\n      <td>Palestinian Territories</td>\n      <td>104</td>\n      <td>4.7430</td>\n      <td>0.642000</td>\n      <td>1.217000</td>\n      <td>0.602000</td>\n      <td>0.266000</td>\n      <td>0.076000</td>\n      <td>0.086000</td>\n      <td>2018</td>\n      <td></td>\n    </tr>\n    <tr>\n      <th>552</th>\n      <td>Ivory Coast</td>\n      <td>107</td>\n      <td>4.6710</td>\n      <td>0.541000</td>\n      <td>0.872000</td>\n      <td>0.080000</td>\n      <td>0.467000</td>\n      <td>0.103000</td>\n      <td>0.146000</td>\n      <td>2018</td>\n      <td></td>\n    </tr>\n    <tr>\n      <th>559</th>\n      <td>Congo (Brazzaville)</td>\n      <td>114</td>\n      <td>4.5590</td>\n      <td>0.682000</td>\n      <td>0.811000</td>\n      <td>0.343000</td>\n      <td>0.514000</td>\n      <td>0.077000</td>\n      <td>0.091000</td>\n      <td>2018</td>\n      <td></td>\n    </tr>\n    <tr>\n      <th>577</th>\n      <td>Congo (Kinshasa)</td>\n      <td>132</td>\n      <td>4.2450</td>\n      <td>0.069000</td>\n      <td>1.136000</td>\n      <td>0.204000</td>\n      <td>0.312000</td>\n      <td>0.052000</td>\n      <td>0.197000</td>\n      <td>2018</td>\n      <td></td>\n    </tr>\n    <tr>\n      <th>694</th>\n      <td>Ivory Coast</td>\n      <td>99</td>\n      <td>4.9440</td>\n      <td>0.569000</td>\n      <td>0.808000</td>\n      <td>0.232000</td>\n      <td>0.352000</td>\n      <td>0.090000</td>\n      <td>0.154000</td>\n      <td>2019</td>\n      <td></td>\n    </tr>\n    <tr>\n      <th>698</th>\n      <td>Congo (Brazzaville)</td>\n      <td>103</td>\n      <td>4.8120</td>\n      <td>0.673000</td>\n      <td>0.799000</td>\n      <td>0.508000</td>\n      <td>0.372000</td>\n      <td>0.093000</td>\n      <td>0.105000</td>\n      <td>2019</td>\n      <td></td>\n    </tr>\n    <tr>\n      <th>705</th>\n      <td>Palestinian Territories</td>\n      <td>110</td>\n      <td>4.6960</td>\n      <td>0.657000</td>\n      <td>1.247000</td>\n      <td>0.672000</td>\n      <td>0.225000</td>\n      <td>0.066000</td>\n      <td>0.103000</td>\n      <td>2019</td>\n      <td></td>\n    </tr>\n    <tr>\n      <th>722</th>\n      <td>Congo (Kinshasa)</td>\n      <td>127</td>\n      <td>4.4180</td>\n      <td>0.094000</td>\n      <td>1.125000</td>\n      <td>0.357000</td>\n      <td>0.269000</td>\n      <td>0.053000</td>\n      <td>0.212000</td>\n      <td>2019</td>\n      <td></td>\n    </tr>\n    <tr>\n      <th>830</th>\n      <td>Ivory Coast</td>\n      <td>85</td>\n      <td>5.2333</td>\n      <td>0.537094</td>\n      <td>0.799727</td>\n      <td>0.154943</td>\n      <td>0.397123</td>\n      <td>0.093496</td>\n      <td>0.169916</td>\n      <td>2020</td>\n      <td></td>\n    </tr>\n    <tr>\n      <th>833</th>\n      <td>Congo (Brazzaville)</td>\n      <td>88</td>\n      <td>5.1944</td>\n      <td>0.633617</td>\n      <td>0.757636</td>\n      <td>0.458101</td>\n      <td>0.386514</td>\n      <td>0.118671</td>\n      <td>0.117216</td>\n      <td>2020</td>\n      <td></td>\n    </tr>\n    <tr>\n      <th>870</th>\n      <td>Palestinian Territories</td>\n      <td>125</td>\n      <td>4.5528</td>\n      <td>0.587819</td>\n      <td>1.194756</td>\n      <td>0.613827</td>\n      <td>0.298701</td>\n      <td>0.071914</td>\n      <td>0.091816</td>\n      <td>2020</td>\n      <td></td>\n    </tr>\n    <tr>\n      <th>876</th>\n      <td>Congo (Kinshasa)</td>\n      <td>131</td>\n      <td>4.3110</td>\n      <td>0.062487</td>\n      <td>0.833055</td>\n      <td>0.277212</td>\n      <td>0.364623</td>\n      <td>0.081467</td>\n      <td>0.254325</td>\n      <td>2020</td>\n      <td></td>\n    </tr>\n  </tbody>\n</table>\n</div>"
     },
     "metadata": {},
     "execution_count": 8
    }
   ],
   "source": [
    "happy_df[happy_df['country_code']=='']"
   ]
  },
  {
   "cell_type": "code",
   "execution_count": 9,
   "metadata": {},
   "outputs": [],
   "source": [
    "happy_df['country_code'][[101,870,705,549,399,253]] = 'PS'\n",
    "happy_df['country_code'][[113,270,422,577,722,876]] = 'CD'\n",
    "happy_df['country_code'][[132,272,420,559,698,833]] = 'CG'\n",
    "happy_df['country_code'][[144,284,424,552,694,830]] = 'CI'"
   ]
  },
  {
   "cell_type": "code",
   "execution_count": 12,
   "metadata": {},
   "outputs": [
    {
     "output_type": "execute_result",
     "data": {
      "text/plain": "       country  rank  score      GDP  social_support  life_expectancy  \\\n0  Switzerland     1  7.587  1.39651         1.34951          0.94143   \n1      Iceland     2  7.561  1.30232         1.40223          0.94784   \n2      Denmark     3  7.527  1.32548         1.36058          0.87464   \n3       Norway     4  7.522  1.45900         1.33095          0.88521   \n4       Canada     5  7.427  1.32629         1.32261          0.90563   \n\n   freedom  trust_governement  generosity  year country_code  \n0  0.66557            0.41978     0.29678  2015           CH  \n1  0.62877            0.14145     0.43630  2015           IS  \n2  0.64938            0.48357     0.34139  2015           DK  \n3  0.66973            0.36503     0.34699  2015           NO  \n4  0.63297            0.32957     0.45811  2015           CA  ",
      "text/html": "<div>\n<style scoped>\n    .dataframe tbody tr th:only-of-type {\n        vertical-align: middle;\n    }\n\n    .dataframe tbody tr th {\n        vertical-align: top;\n    }\n\n    .dataframe thead th {\n        text-align: right;\n    }\n</style>\n<table border=\"1\" class=\"dataframe\">\n  <thead>\n    <tr style=\"text-align: right;\">\n      <th></th>\n      <th>country</th>\n      <th>rank</th>\n      <th>score</th>\n      <th>GDP</th>\n      <th>social_support</th>\n      <th>life_expectancy</th>\n      <th>freedom</th>\n      <th>trust_governement</th>\n      <th>generosity</th>\n      <th>year</th>\n      <th>country_code</th>\n    </tr>\n  </thead>\n  <tbody>\n    <tr>\n      <th>0</th>\n      <td>Switzerland</td>\n      <td>1</td>\n      <td>7.587</td>\n      <td>1.39651</td>\n      <td>1.34951</td>\n      <td>0.94143</td>\n      <td>0.66557</td>\n      <td>0.41978</td>\n      <td>0.29678</td>\n      <td>2015</td>\n      <td>CH</td>\n    </tr>\n    <tr>\n      <th>1</th>\n      <td>Iceland</td>\n      <td>2</td>\n      <td>7.561</td>\n      <td>1.30232</td>\n      <td>1.40223</td>\n      <td>0.94784</td>\n      <td>0.62877</td>\n      <td>0.14145</td>\n      <td>0.43630</td>\n      <td>2015</td>\n      <td>IS</td>\n    </tr>\n    <tr>\n      <th>2</th>\n      <td>Denmark</td>\n      <td>3</td>\n      <td>7.527</td>\n      <td>1.32548</td>\n      <td>1.36058</td>\n      <td>0.87464</td>\n      <td>0.64938</td>\n      <td>0.48357</td>\n      <td>0.34139</td>\n      <td>2015</td>\n      <td>DK</td>\n    </tr>\n    <tr>\n      <th>3</th>\n      <td>Norway</td>\n      <td>4</td>\n      <td>7.522</td>\n      <td>1.45900</td>\n      <td>1.33095</td>\n      <td>0.88521</td>\n      <td>0.66973</td>\n      <td>0.36503</td>\n      <td>0.34699</td>\n      <td>2015</td>\n      <td>NO</td>\n    </tr>\n    <tr>\n      <th>4</th>\n      <td>Canada</td>\n      <td>5</td>\n      <td>7.427</td>\n      <td>1.32629</td>\n      <td>1.32261</td>\n      <td>0.90563</td>\n      <td>0.63297</td>\n      <td>0.32957</td>\n      <td>0.45811</td>\n      <td>2015</td>\n      <td>CA</td>\n    </tr>\n  </tbody>\n</table>\n</div>"
     },
     "metadata": {},
     "execution_count": 12
    }
   ],
   "source": [
    "f = open('../Data/happiness.csv','w',encoding='utf-8')\n",
    "happy_df.to_csv(f)\n",
    "f.close()\n",
    "happy_df.head()"
   ]
  },
  {
   "cell_type": "code",
   "execution_count": null,
   "metadata": {},
   "outputs": [],
   "source": []
  }
 ]
}