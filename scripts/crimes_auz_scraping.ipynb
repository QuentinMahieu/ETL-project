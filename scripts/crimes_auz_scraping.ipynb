{
 "metadata": {
  "language_info": {
   "codemirror_mode": {
    "name": "ipython",
    "version": 3
   },
   "file_extension": ".py",
   "mimetype": "text/x-python",
   "name": "python",
   "nbconvert_exporter": "python",
   "pygments_lexer": "ipython3",
   "version": "3.6.10-final"
  },
  "orig_nbformat": 2,
  "kernelspec": {
   "name": "python_defaultSpec_1605669835801",
   "display_name": "Python 3.6.10 64-bit ('PythonDataNew': conda)"
  }
 },
 "nbformat": 4,
 "nbformat_minor": 2,
 "cells": [
  {
   "cell_type": "code",
   "execution_count": 5,
   "metadata": {},
   "outputs": [],
   "source": [
    "import pandas as pd\n",
    "import re\n",
    "from functions import store"
   ]
  },
  {
   "cell_type": "code",
   "execution_count": 6,
   "metadata": {
    "tags": []
   },
   "outputs": [
    {
     "output_type": "stream",
     "name": "stdout",
     "text": "['Contents', 'Table_1', 'Table_2', 'Table_3', 'Table_4', 'Table_5', 'Table_6', 'Table_7', 'Table_8', 'Table_9', 'Table_10', 'Table_11', 'Table_12', 'Table_13']\n"
    }
   ],
   "source": [
    "file = '../Resources/auz_stats_crime.xls'\n",
    "xls = pd.ExcelFile(file)\n",
    "# Now you can list all sheets in the file\n",
    "print(xls.sheet_names)"
   ]
  },
  {
   "cell_type": "code",
   "execution_count": 7,
   "metadata": {
    "tags": []
   },
   "outputs": [
    {
     "output_type": "execute_result",
     "data": {
      "text/plain": "    Year  Males  Females  Indigenous  Non_Indigenous  Sentenced  Unsentenced  \\\n0   2009  27195     2127        7387           21554      22923         6391   \n1   2010  27469     2231        7584           21827      23333         6369   \n2   2011  27079     2030        7655           21423      22382         6724   \n3   2012  27185     2201        7984           21268      22510         6873   \n4   2013  28423     2346        8430           22218      23335         7375   \n5   2014  31201     2589        9265           24456      25513         8213   \n6   2015  33256     2876        9885           26214      26163         9898   \n7   2016  35745     3094       10596           28216      26649        12111   \n8   2017  37905     3299       11307           29870      28199        12911   \n9   2018  39343     3625       11849           31095      29030        13856   \n10  2019  39538     3494       11866           31133      28721        14210   \n\n    Prior imprisonment  No_prior_imprisonment  Total  Imprisonment rate  \n0                16268                  13050  29315              176.0  \n1                16202                  13459  29700              175.0  \n2                15898                  13204  29107              168.8  \n3                16072                  13305  29380              167.4  \n4                17798                  12951  30773              172.2  \n5                19780                  14005  33789              185.6  \n6                20856                  15266  36134              195.8  \n7                21827                  17011  38845              207.5  \n8                23268                  17932  41202              215.9  \n9                24375                  18591  42974              221.4  \n10               24907                  18115  43028              218.6  ",
      "text/html": "<div>\n<style scoped>\n    .dataframe tbody tr th:only-of-type {\n        vertical-align: middle;\n    }\n\n    .dataframe tbody tr th {\n        vertical-align: top;\n    }\n\n    .dataframe thead th {\n        text-align: right;\n    }\n</style>\n<table border=\"1\" class=\"dataframe\">\n  <thead>\n    <tr style=\"text-align: right;\">\n      <th></th>\n      <th>Year</th>\n      <th>Males</th>\n      <th>Females</th>\n      <th>Indigenous</th>\n      <th>Non_Indigenous</th>\n      <th>Sentenced</th>\n      <th>Unsentenced</th>\n      <th>Prior imprisonment</th>\n      <th>No_prior_imprisonment</th>\n      <th>Total</th>\n      <th>Imprisonment rate</th>\n    </tr>\n  </thead>\n  <tbody>\n    <tr>\n      <th>0</th>\n      <td>2009</td>\n      <td>27195</td>\n      <td>2127</td>\n      <td>7387</td>\n      <td>21554</td>\n      <td>22923</td>\n      <td>6391</td>\n      <td>16268</td>\n      <td>13050</td>\n      <td>29315</td>\n      <td>176.0</td>\n    </tr>\n    <tr>\n      <th>1</th>\n      <td>2010</td>\n      <td>27469</td>\n      <td>2231</td>\n      <td>7584</td>\n      <td>21827</td>\n      <td>23333</td>\n      <td>6369</td>\n      <td>16202</td>\n      <td>13459</td>\n      <td>29700</td>\n      <td>175.0</td>\n    </tr>\n    <tr>\n      <th>2</th>\n      <td>2011</td>\n      <td>27079</td>\n      <td>2030</td>\n      <td>7655</td>\n      <td>21423</td>\n      <td>22382</td>\n      <td>6724</td>\n      <td>15898</td>\n      <td>13204</td>\n      <td>29107</td>\n      <td>168.8</td>\n    </tr>\n    <tr>\n      <th>3</th>\n      <td>2012</td>\n      <td>27185</td>\n      <td>2201</td>\n      <td>7984</td>\n      <td>21268</td>\n      <td>22510</td>\n      <td>6873</td>\n      <td>16072</td>\n      <td>13305</td>\n      <td>29380</td>\n      <td>167.4</td>\n    </tr>\n    <tr>\n      <th>4</th>\n      <td>2013</td>\n      <td>28423</td>\n      <td>2346</td>\n      <td>8430</td>\n      <td>22218</td>\n      <td>23335</td>\n      <td>7375</td>\n      <td>17798</td>\n      <td>12951</td>\n      <td>30773</td>\n      <td>172.2</td>\n    </tr>\n    <tr>\n      <th>5</th>\n      <td>2014</td>\n      <td>31201</td>\n      <td>2589</td>\n      <td>9265</td>\n      <td>24456</td>\n      <td>25513</td>\n      <td>8213</td>\n      <td>19780</td>\n      <td>14005</td>\n      <td>33789</td>\n      <td>185.6</td>\n    </tr>\n    <tr>\n      <th>6</th>\n      <td>2015</td>\n      <td>33256</td>\n      <td>2876</td>\n      <td>9885</td>\n      <td>26214</td>\n      <td>26163</td>\n      <td>9898</td>\n      <td>20856</td>\n      <td>15266</td>\n      <td>36134</td>\n      <td>195.8</td>\n    </tr>\n    <tr>\n      <th>7</th>\n      <td>2016</td>\n      <td>35745</td>\n      <td>3094</td>\n      <td>10596</td>\n      <td>28216</td>\n      <td>26649</td>\n      <td>12111</td>\n      <td>21827</td>\n      <td>17011</td>\n      <td>38845</td>\n      <td>207.5</td>\n    </tr>\n    <tr>\n      <th>8</th>\n      <td>2017</td>\n      <td>37905</td>\n      <td>3299</td>\n      <td>11307</td>\n      <td>29870</td>\n      <td>28199</td>\n      <td>12911</td>\n      <td>23268</td>\n      <td>17932</td>\n      <td>41202</td>\n      <td>215.9</td>\n    </tr>\n    <tr>\n      <th>9</th>\n      <td>2018</td>\n      <td>39343</td>\n      <td>3625</td>\n      <td>11849</td>\n      <td>31095</td>\n      <td>29030</td>\n      <td>13856</td>\n      <td>24375</td>\n      <td>18591</td>\n      <td>42974</td>\n      <td>221.4</td>\n    </tr>\n    <tr>\n      <th>10</th>\n      <td>2019</td>\n      <td>39538</td>\n      <td>3494</td>\n      <td>11866</td>\n      <td>31133</td>\n      <td>28721</td>\n      <td>14210</td>\n      <td>24907</td>\n      <td>18115</td>\n      <td>43028</td>\n      <td>218.6</td>\n    </tr>\n  </tbody>\n</table>\n</div>"
     },
     "metadata": {},
     "execution_count": 7
    }
   ],
   "source": [
    "#evolution of prisoners crime per gender\n",
    "df = pd.read_excel(file, sheet_name=\"Table_2\",skiprows=5,nrows=11,header=0)\n",
    "prison_gender_df = df.rename({'Aboriginal and Torres Strait Islander':'Indigenous',\n",
    "            'no.':'Total','Non-Indigenous':'Non_Indigenous',\n",
    "            'No prior imprisonment':'No_prior_imprisonment' },axis=1).copy()\n",
    "prison_gender_df"
   ]
  },
  {
   "cell_type": "code",
   "execution_count": 8,
   "metadata": {
    "tags": []
   },
   "outputs": [
    {
     "output_type": "execute_result",
     "data": {
      "text/plain": "     Homicide and related offences Acts intended to cause injury  \\\n2010                          2811                          5803   \n2011                          2831                          5595   \n2012                          2837                          5777   \n2013                          2833                          6251   \n2014                          2876                          7072   \n\n     Sexual assault and related offences  \\\n2010                                3709   \n2011                                3666   \n2012                                3577   \n2013                                3517   \n2014                                3694   \n\n     Dangerous or negligent acts endangering persons  \\\n2010                                             688   \n2011                                             661   \n2012                                             734   \n2013                                             764   \n2014                                             926   \n\n     Abduction, harassment and other offences against the person  \\\n2010                                                333            \n2011                                                325            \n2012                                                355            \n2013                                                404            \n2014                                                434            \n\n     Robbery, extortion and related offences Unlawful entry with intent  \\\n2010                                    2879                       3374   \n2011                                    2797                       3244   \n2012                                    2922                       3357   \n2013                                    3000                       3613   \n2014                                    3158                       3970   \n\n     Theft and related offences Fraud, deception and related offences  \\\n2010                       1272                                   843   \n2011                       1120                                   747   \n2012                       1186                                   765   \n2013                       1230                                   737   \n2014                       1379                                   771   \n\n     Illicit drug offences  \\\n2010                  3233   \n2011                  3294   \n2012                  3409   \n2013                  3630   \n2014                  4032   \n\n     Prohibited and regulated weapons and explosives offences  \\\n2010                                                219         \n2011                                                204         \n2012                                                258         \n2013                                                305         \n2014                                                409         \n\n     Property damage and environmental pollution Public order offences  \\\n2010                                         316                   202   \n2011                                         373                   203   \n2012                                         395                   192   \n2013                                         390                   194   \n2014                                         449                   232   \n\n     Traffic and vehicle regulatory offences  \\\n2010                                    1172   \n2011                                     961   \n2012                                     880   \n2013                                     785   \n2014                                     813   \n\n     Offences against justice procedures, gov't security and operations  \\\n2010                                               2656                   \n2011                                               2920                   \n2012                                               2644                   \n2013                                               2969                   \n2014                                               3420                   \n\n     Miscellaneous offences  Total  \n2010                    154  29700  \n2011                    153  29107  \n2012                     91  29380  \n2013                     75  30773  \n2014                     86  33789  ",
      "text/html": "<div>\n<style scoped>\n    .dataframe tbody tr th:only-of-type {\n        vertical-align: middle;\n    }\n\n    .dataframe tbody tr th {\n        vertical-align: top;\n    }\n\n    .dataframe thead th {\n        text-align: right;\n    }\n</style>\n<table border=\"1\" class=\"dataframe\">\n  <thead>\n    <tr style=\"text-align: right;\">\n      <th></th>\n      <th>Homicide and related offences</th>\n      <th>Acts intended to cause injury</th>\n      <th>Sexual assault and related offences</th>\n      <th>Dangerous or negligent acts endangering persons</th>\n      <th>Abduction, harassment and other offences against the person</th>\n      <th>Robbery, extortion and related offences</th>\n      <th>Unlawful entry with intent</th>\n      <th>Theft and related offences</th>\n      <th>Fraud, deception and related offences</th>\n      <th>Illicit drug offences</th>\n      <th>Prohibited and regulated weapons and explosives offences</th>\n      <th>Property damage and environmental pollution</th>\n      <th>Public order offences</th>\n      <th>Traffic and vehicle regulatory offences</th>\n      <th>Offences against justice procedures, gov't security and operations</th>\n      <th>Miscellaneous offences</th>\n      <th>Total</th>\n    </tr>\n  </thead>\n  <tbody>\n    <tr>\n      <th>2010</th>\n      <td>2811</td>\n      <td>5803</td>\n      <td>3709</td>\n      <td>688</td>\n      <td>333</td>\n      <td>2879</td>\n      <td>3374</td>\n      <td>1272</td>\n      <td>843</td>\n      <td>3233</td>\n      <td>219</td>\n      <td>316</td>\n      <td>202</td>\n      <td>1172</td>\n      <td>2656</td>\n      <td>154</td>\n      <td>29700</td>\n    </tr>\n    <tr>\n      <th>2011</th>\n      <td>2831</td>\n      <td>5595</td>\n      <td>3666</td>\n      <td>661</td>\n      <td>325</td>\n      <td>2797</td>\n      <td>3244</td>\n      <td>1120</td>\n      <td>747</td>\n      <td>3294</td>\n      <td>204</td>\n      <td>373</td>\n      <td>203</td>\n      <td>961</td>\n      <td>2920</td>\n      <td>153</td>\n      <td>29107</td>\n    </tr>\n    <tr>\n      <th>2012</th>\n      <td>2837</td>\n      <td>5777</td>\n      <td>3577</td>\n      <td>734</td>\n      <td>355</td>\n      <td>2922</td>\n      <td>3357</td>\n      <td>1186</td>\n      <td>765</td>\n      <td>3409</td>\n      <td>258</td>\n      <td>395</td>\n      <td>192</td>\n      <td>880</td>\n      <td>2644</td>\n      <td>91</td>\n      <td>29380</td>\n    </tr>\n    <tr>\n      <th>2013</th>\n      <td>2833</td>\n      <td>6251</td>\n      <td>3517</td>\n      <td>764</td>\n      <td>404</td>\n      <td>3000</td>\n      <td>3613</td>\n      <td>1230</td>\n      <td>737</td>\n      <td>3630</td>\n      <td>305</td>\n      <td>390</td>\n      <td>194</td>\n      <td>785</td>\n      <td>2969</td>\n      <td>75</td>\n      <td>30773</td>\n    </tr>\n    <tr>\n      <th>2014</th>\n      <td>2876</td>\n      <td>7072</td>\n      <td>3694</td>\n      <td>926</td>\n      <td>434</td>\n      <td>3158</td>\n      <td>3970</td>\n      <td>1379</td>\n      <td>771</td>\n      <td>4032</td>\n      <td>409</td>\n      <td>449</td>\n      <td>232</td>\n      <td>813</td>\n      <td>3420</td>\n      <td>86</td>\n      <td>33789</td>\n    </tr>\n  </tbody>\n</table>\n</div>"
     },
     "metadata": {},
     "execution_count": 8
    }
   ],
   "source": [
    "#evolution of prisoners_crime per type\n",
    "df = pd.read_excel(file, sheet_name=\"Table_3\",skiprows=4,nrows=18,header=0)\n",
    "prisoners_types_df = df.T.copy()\n",
    "prisoners_types_df = prisoners_types_df.rename(\n",
    "        columns=prisoners_types_df.iloc[0]).iloc[1:,1:]\n",
    "for i in range(len(prisoners_types_df.columns)-1):\n",
    "    c = prisoners_types_df.columns.str.split(' ')[i][1:]\n",
    "    s = ' '\n",
    "    col = s.join(c)\n",
    "    prisoners_types_df = prisoners_types_df.rename(columns={prisoners_types_df.columns[i]:col})\n",
    "prisoners_types_df.head()"
   ]
  },
  {
   "cell_type": "code",
   "execution_count": 9,
   "metadata": {
    "tags": []
   },
   "outputs": [
    {
     "output_type": "execute_result",
     "data": {
      "text/plain": "     Age  count gender  Imprisonment_rate  prop_total\n0     18    211      M              132.6        0.49\n1     19    489      M              293.0        1.14\n2  20–24   4795      M              530.5       11.14\n3  25–29   7122      M              745.3       16.55\n4  30–34   7108      M              764.0       16.52",
      "text/html": "<div>\n<style scoped>\n    .dataframe tbody tr th:only-of-type {\n        vertical-align: middle;\n    }\n\n    .dataframe tbody tr th {\n        vertical-align: top;\n    }\n\n    .dataframe thead th {\n        text-align: right;\n    }\n</style>\n<table border=\"1\" class=\"dataframe\">\n  <thead>\n    <tr style=\"text-align: right;\">\n      <th></th>\n      <th>Age</th>\n      <th>count</th>\n      <th>gender</th>\n      <th>Imprisonment_rate</th>\n      <th>prop_total</th>\n    </tr>\n  </thead>\n  <tbody>\n    <tr>\n      <th>0</th>\n      <td>18</td>\n      <td>211</td>\n      <td>M</td>\n      <td>132.6</td>\n      <td>0.49</td>\n    </tr>\n    <tr>\n      <th>1</th>\n      <td>19</td>\n      <td>489</td>\n      <td>M</td>\n      <td>293.0</td>\n      <td>1.14</td>\n    </tr>\n    <tr>\n      <th>2</th>\n      <td>20–24</td>\n      <td>4795</td>\n      <td>M</td>\n      <td>530.5</td>\n      <td>11.14</td>\n    </tr>\n    <tr>\n      <th>3</th>\n      <td>25–29</td>\n      <td>7122</td>\n      <td>M</td>\n      <td>745.3</td>\n      <td>16.55</td>\n    </tr>\n    <tr>\n      <th>4</th>\n      <td>30–34</td>\n      <td>7108</td>\n      <td>M</td>\n      <td>764.0</td>\n      <td>16.52</td>\n    </tr>\n  </tbody>\n</table>\n</div>"
     },
     "metadata": {},
     "execution_count": 9
    }
   ],
   "source": [
    "#prisoners by age and sex\n",
    "df = pd.read_excel(file, sheet_name=\"Table_4\",skiprows=5,nrows=12,header=0)\n",
    "df1 = df.iloc[:,0:4].rename({'Age ':'Age','no.': 'count',\n",
    "        '%':'gender','Imprisonment rate':'Imprisonment_rate'},axis=1)\n",
    "df1['gender'] = 'M'\n",
    "df2 = df.iloc[:,[0,4,5,6]].rename({'Age ':'Age','no..1': 'count',\n",
    "        '%.1':'gender','Imprisonment rate.1':'Imprisonment_rate'},axis=1)\n",
    "df2['gender'] = 'F'\n",
    "age_gender_df = pd.concat([df1,df2])\n",
    "for age in age_gender_df['Age']:\n",
    "    new_age = re.sub('\\s+\\w+','',age)\n",
    "    age_gender_df['Age'] = age_gender_df['Age'].replace(age,new_age)\n",
    "age_gender_df['Age'] = age_gender_df['Age'].str.replace('65','65+')\n",
    "age_gender_df['prop_total'] = round((age_gender_df['count']/age_gender_df['count'].sum())*100,2)\n",
    "age_gender_df.head()"
   ]
  },
  {
   "cell_type": "code",
   "execution_count": 10,
   "metadata": {
    "tags": []
   },
   "outputs": [
    {
     "output_type": "execute_result",
     "data": {
      "text/plain": "     Age  Homicide and related offences  Acts intended to cause injury  \\\n0     18                             12                             57   \n1     19                             24                            157   \n2  20–24                            219                           1459   \n3  25–29                            395                           2060   \n4  30–34                            444                           1912   \n\n   Sexual assault and related offences  \\\n0                                   20   \n1                                   29   \n2                                  358   \n3                                  518   \n4                                  654   \n\n   Dangerous or negligent acts endangering persons  \\\n0                                                9   \n1                                               28   \n2                                              301   \n3                                              403   \n4                                              358   \n\n   Abduction, harassment and other offences against the person  \\\n0                                                  0             \n1                                                  8             \n2                                                 61             \n3                                                135             \n4                                                120             \n\n   Robbery, extortion and related offences  Unlawful entry with intent  \\\n0                                       45                          49   \n1                                       85                          91   \n2                                      704                         666   \n3                                      723                         806   \n4                                      562                         804   \n\n   Theft and related offences  Fraud, deception and related offences  \\\n0                           7                                      4   \n1                          20                                      6   \n2                         206                                     54   \n3                         327                                    108   \n4                         321                                    157   \n\n   Illicit drug offences  \\\n0                      9   \n1                     29   \n2                    534   \n3                   1201   \n4                   1354   \n\n   Prohibited and regulated weapons and explosives offences  \\\n0                                                  7          \n1                                                  4          \n2                                                114          \n3                                                185          \n4                                                176          \n\n   Property damage and environmental pollution  Public order offences  \\\n0                                            3                      0   \n1                                           13                      7   \n2                                           77                     28   \n3                                          123                     34   \n4                                           99                     34   \n\n   Traffic and vehicle regulatory offences  \\\n0                                        0   \n1                                        0   \n2                                       42   \n3                                      111   \n4                                      107   \n\n   Offences against justice procedures, gov't security and operations  \\\n0                                                  5                    \n1                                                 26                    \n2                                                436                    \n3                                                619                    \n4                                                629                    \n\n   Miscellaneous offences  Total  prop_total  \n0                       0    225        0.52  \n1                       0    533        1.24  \n2                       7   5283       12.28  \n3                      13   7763       18.04  \n4                      14   7756       18.03  ",
      "text/html": "<div>\n<style scoped>\n    .dataframe tbody tr th:only-of-type {\n        vertical-align: middle;\n    }\n\n    .dataframe tbody tr th {\n        vertical-align: top;\n    }\n\n    .dataframe thead th {\n        text-align: right;\n    }\n</style>\n<table border=\"1\" class=\"dataframe\">\n  <thead>\n    <tr style=\"text-align: right;\">\n      <th></th>\n      <th>Age</th>\n      <th>Homicide and related offences</th>\n      <th>Acts intended to cause injury</th>\n      <th>Sexual assault and related offences</th>\n      <th>Dangerous or negligent acts endangering persons</th>\n      <th>Abduction, harassment and other offences against the person</th>\n      <th>Robbery, extortion and related offences</th>\n      <th>Unlawful entry with intent</th>\n      <th>Theft and related offences</th>\n      <th>Fraud, deception and related offences</th>\n      <th>Illicit drug offences</th>\n      <th>Prohibited and regulated weapons and explosives offences</th>\n      <th>Property damage and environmental pollution</th>\n      <th>Public order offences</th>\n      <th>Traffic and vehicle regulatory offences</th>\n      <th>Offences against justice procedures, gov't security and operations</th>\n      <th>Miscellaneous offences</th>\n      <th>Total</th>\n      <th>prop_total</th>\n    </tr>\n  </thead>\n  <tbody>\n    <tr>\n      <th>0</th>\n      <td>18</td>\n      <td>12</td>\n      <td>57</td>\n      <td>20</td>\n      <td>9</td>\n      <td>0</td>\n      <td>45</td>\n      <td>49</td>\n      <td>7</td>\n      <td>4</td>\n      <td>9</td>\n      <td>7</td>\n      <td>3</td>\n      <td>0</td>\n      <td>0</td>\n      <td>5</td>\n      <td>0</td>\n      <td>225</td>\n      <td>0.52</td>\n    </tr>\n    <tr>\n      <th>1</th>\n      <td>19</td>\n      <td>24</td>\n      <td>157</td>\n      <td>29</td>\n      <td>28</td>\n      <td>8</td>\n      <td>85</td>\n      <td>91</td>\n      <td>20</td>\n      <td>6</td>\n      <td>29</td>\n      <td>4</td>\n      <td>13</td>\n      <td>7</td>\n      <td>0</td>\n      <td>26</td>\n      <td>0</td>\n      <td>533</td>\n      <td>1.24</td>\n    </tr>\n    <tr>\n      <th>2</th>\n      <td>20–24</td>\n      <td>219</td>\n      <td>1459</td>\n      <td>358</td>\n      <td>301</td>\n      <td>61</td>\n      <td>704</td>\n      <td>666</td>\n      <td>206</td>\n      <td>54</td>\n      <td>534</td>\n      <td>114</td>\n      <td>77</td>\n      <td>28</td>\n      <td>42</td>\n      <td>436</td>\n      <td>7</td>\n      <td>5283</td>\n      <td>12.28</td>\n    </tr>\n    <tr>\n      <th>3</th>\n      <td>25–29</td>\n      <td>395</td>\n      <td>2060</td>\n      <td>518</td>\n      <td>403</td>\n      <td>135</td>\n      <td>723</td>\n      <td>806</td>\n      <td>327</td>\n      <td>108</td>\n      <td>1201</td>\n      <td>185</td>\n      <td>123</td>\n      <td>34</td>\n      <td>111</td>\n      <td>619</td>\n      <td>13</td>\n      <td>7763</td>\n      <td>18.04</td>\n    </tr>\n    <tr>\n      <th>4</th>\n      <td>30–34</td>\n      <td>444</td>\n      <td>1912</td>\n      <td>654</td>\n      <td>358</td>\n      <td>120</td>\n      <td>562</td>\n      <td>804</td>\n      <td>321</td>\n      <td>157</td>\n      <td>1354</td>\n      <td>176</td>\n      <td>99</td>\n      <td>34</td>\n      <td>107</td>\n      <td>629</td>\n      <td>14</td>\n      <td>7756</td>\n      <td>18.03</td>\n    </tr>\n  </tbody>\n</table>\n</div>"
     },
     "metadata": {},
     "execution_count": 10
    }
   ],
   "source": [
    "#prisoners by age and crime\n",
    "df = pd.read_excel(file, sheet_name=\"Table_6\",skiprows=4,nrows=12,header=0)\n",
    "age_crime_df = df.copy()\n",
    "for i in range(1,len(age_crime_df.columns)-1):\n",
    "    c = age_crime_df.columns.str.split(' ')[i][1:]\n",
    "    s = ' '\n",
    "    col = s.join(c)\n",
    "    age_crime_df = age_crime_df.rename(columns={age_crime_df.columns[i]:col})\n",
    "age_crime_df = age_crime_df.rename(columns={'Age ':'Age'})\n",
    "for age in age_crime_df['Age']:\n",
    "   new_age = re.sub('\\s+\\w+','',age)\n",
    "   age_crime_df['Age'] = age_crime_df['Age'].replace(age,new_age)\n",
    "age_crime_df['Age'] = age_crime_df['Age'].str.replace('65','65+')\n",
    "age_crime_df['prop_total'] = round((age_crime_df['Total']/age_crime_df['Total'].sum())*100,2)\n",
    "age_crime_df.head()"
   ]
  },
  {
   "cell_type": "code",
   "execution_count": 11,
   "metadata": {
    "tags": []
   },
   "outputs": [
    {
     "output_type": "execute_result",
     "data": {
      "text/plain": "          Country  Homicide and related offences  \\\n0       Australia                           2540   \n1     New Zealand                             88   \n2         Vietnam                             42   \n3  United Kingdom                             90   \n4           China                             39   \n\n   Acts intended to cause injury  Sexual assault and related offences  \\\n0                           8634                                 4482   \n1                            269                                  148   \n2                             39                                   17   \n3                             61                                  194   \n4                             21                                   33   \n\n   Dangerous or negligent acts endangering persons  \\\n0                                             1546   \n1                                               48   \n2                                                4   \n3                                               15   \n4                                                0   \n\n   Abduction, harassment and other offences against the person  \\\n0                                                500             \n1                                                 15             \n2                                                  0             \n3                                                  5             \n4                                                  4             \n\n   Robbery, extortion and related offences  Unlawful entry with intent  \\\n0                                     2638                        3771   \n1                                      124                          90   \n2                                       16                          20   \n3                                       27                          28   \n4                                        3                           9   \n\n   Theft and related offences  Fraud, deception and related offences  \\\n0                        1322                                    714   \n1                          30                                     23   \n2                          37                                      8   \n3                          14                                     22   \n4                           8                                      9   \n\n   Illicit drug offences  \\\n0                   4130   \n1                    188   \n2                    668   \n3                    112   \n4                    184   \n\n   Prohibited and regulated weapons and explosives offences  \\\n0                                                742          \n1                                                 17          \n2                                                  6          \n3                                                  3          \n4                                                  0          \n\n   Property damage and environmental pollution  Public order offences  \\\n0                                          520                    167   \n1                                            8                      6   \n2                                            6                      0   \n3                                            7                      3   \n4                                            0                      0   \n\n   Traffic and vehicle regulatory offences  \\\n0                                      500   \n1                                       11   \n2                                        3   \n3                                        3   \n4                                        0   \n\n   Offences against justice procedures, gov't security and operations  \\\n0                                               2890                    \n1                                                 32                    \n2                                                 31                    \n3                                                 21                    \n4                                                 10                    \n\n   Miscellaneous offences  Total  prop_total  \n0                      42  35228       82.92  \n1                       0   1107        2.61  \n2                       4    904        2.13  \n3                       3    621        1.46  \n4                       6    334        0.79  ",
      "text/html": "<div>\n<style scoped>\n    .dataframe tbody tr th:only-of-type {\n        vertical-align: middle;\n    }\n\n    .dataframe tbody tr th {\n        vertical-align: top;\n    }\n\n    .dataframe thead th {\n        text-align: right;\n    }\n</style>\n<table border=\"1\" class=\"dataframe\">\n  <thead>\n    <tr style=\"text-align: right;\">\n      <th></th>\n      <th>Country</th>\n      <th>Homicide and related offences</th>\n      <th>Acts intended to cause injury</th>\n      <th>Sexual assault and related offences</th>\n      <th>Dangerous or negligent acts endangering persons</th>\n      <th>Abduction, harassment and other offences against the person</th>\n      <th>Robbery, extortion and related offences</th>\n      <th>Unlawful entry with intent</th>\n      <th>Theft and related offences</th>\n      <th>Fraud, deception and related offences</th>\n      <th>Illicit drug offences</th>\n      <th>Prohibited and regulated weapons and explosives offences</th>\n      <th>Property damage and environmental pollution</th>\n      <th>Public order offences</th>\n      <th>Traffic and vehicle regulatory offences</th>\n      <th>Offences against justice procedures, gov't security and operations</th>\n      <th>Miscellaneous offences</th>\n      <th>Total</th>\n      <th>prop_total</th>\n    </tr>\n  </thead>\n  <tbody>\n    <tr>\n      <th>0</th>\n      <td>Australia</td>\n      <td>2540</td>\n      <td>8634</td>\n      <td>4482</td>\n      <td>1546</td>\n      <td>500</td>\n      <td>2638</td>\n      <td>3771</td>\n      <td>1322</td>\n      <td>714</td>\n      <td>4130</td>\n      <td>742</td>\n      <td>520</td>\n      <td>167</td>\n      <td>500</td>\n      <td>2890</td>\n      <td>42</td>\n      <td>35228</td>\n      <td>82.92</td>\n    </tr>\n    <tr>\n      <th>1</th>\n      <td>New Zealand</td>\n      <td>88</td>\n      <td>269</td>\n      <td>148</td>\n      <td>48</td>\n      <td>15</td>\n      <td>124</td>\n      <td>90</td>\n      <td>30</td>\n      <td>23</td>\n      <td>188</td>\n      <td>17</td>\n      <td>8</td>\n      <td>6</td>\n      <td>11</td>\n      <td>32</td>\n      <td>0</td>\n      <td>1107</td>\n      <td>2.61</td>\n    </tr>\n    <tr>\n      <th>2</th>\n      <td>Vietnam</td>\n      <td>42</td>\n      <td>39</td>\n      <td>17</td>\n      <td>4</td>\n      <td>0</td>\n      <td>16</td>\n      <td>20</td>\n      <td>37</td>\n      <td>8</td>\n      <td>668</td>\n      <td>6</td>\n      <td>6</td>\n      <td>0</td>\n      <td>3</td>\n      <td>31</td>\n      <td>4</td>\n      <td>904</td>\n      <td>2.13</td>\n    </tr>\n    <tr>\n      <th>3</th>\n      <td>United Kingdom</td>\n      <td>90</td>\n      <td>61</td>\n      <td>194</td>\n      <td>15</td>\n      <td>5</td>\n      <td>27</td>\n      <td>28</td>\n      <td>14</td>\n      <td>22</td>\n      <td>112</td>\n      <td>3</td>\n      <td>7</td>\n      <td>3</td>\n      <td>3</td>\n      <td>21</td>\n      <td>3</td>\n      <td>621</td>\n      <td>1.46</td>\n    </tr>\n    <tr>\n      <th>4</th>\n      <td>China</td>\n      <td>39</td>\n      <td>21</td>\n      <td>33</td>\n      <td>0</td>\n      <td>4</td>\n      <td>3</td>\n      <td>9</td>\n      <td>8</td>\n      <td>9</td>\n      <td>184</td>\n      <td>0</td>\n      <td>0</td>\n      <td>0</td>\n      <td>0</td>\n      <td>10</td>\n      <td>6</td>\n      <td>334</td>\n      <td>0.79</td>\n    </tr>\n  </tbody>\n</table>\n</div>"
     },
     "metadata": {},
     "execution_count": 11
    }
   ],
   "source": [
    "#prisoners by origin\n",
    "df = pd.read_excel(file, sheet_name=\"Table_7\",skiprows=4,nrows=12,header=0)\n",
    "origin_df = df.copy()\n",
    "for i in range(1,len(origin_df.columns)-1):\n",
    "    c = origin_df.columns.str.split(' ')[i][1:]\n",
    "    s = ' '\n",
    "    col = s.join(c)\n",
    "    origin_df = origin_df.rename(columns={origin_df.columns[i]:col})\n",
    "origin_df = origin_df.rename(columns={'Selected country of birth':'Country'})\n",
    "origin_df['prop_total'] = round((origin_df['Total']/origin_df['Total'].sum())*100,2)\n",
    "origin_df.head()"
   ]
  },
  {
   "cell_type": "code",
   "execution_count": 12,
   "metadata": {},
   "outputs": [],
   "source": [
    "file2 = '../Resources/offenders_australia.xls'\n",
    "df = pd.read_excel(file2, sheet_name=\"Table 1\",skiprows=5,nrows=52,header=0)\n",
    "df = df.T.reset_index()\n",
    "df = df.rename(columns=df.iloc[0]).iloc[1:,:]"
   ]
  },
  {
   "cell_type": "code",
   "execution_count": 13,
   "metadata": {},
   "outputs": [],
   "source": [
    "crime_types_df = df.iloc[0:11].dropna(axis=1).rename({'Principal offence':'Year'},axis=1)\n",
    "crime_rate_types_df = df.iloc[11:,:].dropna(axis=1).rename({'Principal offence':'Year'},axis=1)\n",
    "list_year = list(crime_types_df['Year'])\n",
    "crime_rate_types_df['Year'] = list_year"
   ]
  },
  {
   "cell_type": "code",
   "execution_count": 14,
   "metadata": {
    "tags": []
   },
   "outputs": [
    {
     "output_type": "execute_result",
     "data": {
      "text/plain": "       Year 01 Homicide and related offences 011 Murder 012 Attempted Murder  \\\n12  2008–09                              4.4        1.7                  1.2   \n13  2009–10                              4.6        1.7                  1.2   \n14  2010–11                              3.9        1.6                    1   \n15  2011–12                              3.4        1.3                  0.9   \n16  2012–13                              3.6        1.5                  0.9   \n\n   013 Manslaughter and driving causing death  \\\n12                                        1.4   \n13                                        1.7   \n14                                        1.3   \n15                                        1.2   \n16                                        1.3   \n\n   02 Acts intended to cause injury 021 Assault  \\\n12                            384.9       369.6   \n13                              379       362.2   \n14                            364.9       347.5   \n15                            348.6       330.8   \n16                            352.3       332.4   \n\n   029 Other acts intended to cause injury  \\\n12                                    14.6   \n13                                    16.2   \n14                                    17.1   \n15                                    17.6   \n16                                    19.6   \n\n   03 Sexual assault and related offences 031 Sexual assault  ...  \\\n12                                   33.9               26.6  ...   \n13                                   33.6               25.6  ...   \n14                                     30               23.5  ...   \n15                                   30.6               23.4  ...   \n16                                   30.9               22.4  ...   \n\n   12 Property damage and environmental pollution 13 Public order offences  \\\n12                                          117.2                    352.2   \n13                                          110.5                    394.3   \n14                                          103.1                    381.8   \n15                                           93.6                    353.5   \n16                                           90.1                    370.2   \n\n   131 Disorderly conduct 132 Regulated public order offences  \\\n12                  157.2                               110.1   \n13                  163.9                               112.6   \n14                  145.1                               111.1   \n15                  139.4                               103.5   \n16                  136.1                               114.4   \n\n   133 Offensive conduct 15 Offences against justice  \\\n12                  84.5                       139.9   \n13                 117.3                       136.8   \n14                 125.2                       122.9   \n15                 110.4                       116.7   \n16                 119.5                       121.6   \n\n   153 Breach of violence and non-violence orders  \\\n12                                           39.2   \n13                                           41.8   \n14                                           43.2   \n15                                           42.7   \n16                                           46.1   \n\n   156 Offences against justice procedures 16 Miscellaneous offences   Total  \n12                                    80.9                      90.6  2005.7  \n13                                      79                     100.8  2062.2  \n14                                    68.2                     114.7  2005.1  \n15                                    64.9                     124.2  1945.3  \n16                                    65.7                     147.4  1990.7  \n\n[5 rows x 39 columns]",
      "text/html": "<div>\n<style scoped>\n    .dataframe tbody tr th:only-of-type {\n        vertical-align: middle;\n    }\n\n    .dataframe tbody tr th {\n        vertical-align: top;\n    }\n\n    .dataframe thead th {\n        text-align: right;\n    }\n</style>\n<table border=\"1\" class=\"dataframe\">\n  <thead>\n    <tr style=\"text-align: right;\">\n      <th></th>\n      <th>Year</th>\n      <th>01 Homicide and related offences</th>\n      <th>011 Murder</th>\n      <th>012 Attempted Murder</th>\n      <th>013 Manslaughter and driving causing death</th>\n      <th>02 Acts intended to cause injury</th>\n      <th>021 Assault</th>\n      <th>029 Other acts intended to cause injury</th>\n      <th>03 Sexual assault and related offences</th>\n      <th>031 Sexual assault</th>\n      <th>...</th>\n      <th>12 Property damage and environmental pollution</th>\n      <th>13 Public order offences</th>\n      <th>131 Disorderly conduct</th>\n      <th>132 Regulated public order offences</th>\n      <th>133 Offensive conduct</th>\n      <th>15 Offences against justice</th>\n      <th>153 Breach of violence and non-violence orders</th>\n      <th>156 Offences against justice procedures</th>\n      <th>16 Miscellaneous offences</th>\n      <th>Total</th>\n    </tr>\n  </thead>\n  <tbody>\n    <tr>\n      <th>12</th>\n      <td>2008–09</td>\n      <td>4.4</td>\n      <td>1.7</td>\n      <td>1.2</td>\n      <td>1.4</td>\n      <td>384.9</td>\n      <td>369.6</td>\n      <td>14.6</td>\n      <td>33.9</td>\n      <td>26.6</td>\n      <td>...</td>\n      <td>117.2</td>\n      <td>352.2</td>\n      <td>157.2</td>\n      <td>110.1</td>\n      <td>84.5</td>\n      <td>139.9</td>\n      <td>39.2</td>\n      <td>80.9</td>\n      <td>90.6</td>\n      <td>2005.7</td>\n    </tr>\n    <tr>\n      <th>13</th>\n      <td>2009–10</td>\n      <td>4.6</td>\n      <td>1.7</td>\n      <td>1.2</td>\n      <td>1.7</td>\n      <td>379</td>\n      <td>362.2</td>\n      <td>16.2</td>\n      <td>33.6</td>\n      <td>25.6</td>\n      <td>...</td>\n      <td>110.5</td>\n      <td>394.3</td>\n      <td>163.9</td>\n      <td>112.6</td>\n      <td>117.3</td>\n      <td>136.8</td>\n      <td>41.8</td>\n      <td>79</td>\n      <td>100.8</td>\n      <td>2062.2</td>\n    </tr>\n    <tr>\n      <th>14</th>\n      <td>2010–11</td>\n      <td>3.9</td>\n      <td>1.6</td>\n      <td>1</td>\n      <td>1.3</td>\n      <td>364.9</td>\n      <td>347.5</td>\n      <td>17.1</td>\n      <td>30</td>\n      <td>23.5</td>\n      <td>...</td>\n      <td>103.1</td>\n      <td>381.8</td>\n      <td>145.1</td>\n      <td>111.1</td>\n      <td>125.2</td>\n      <td>122.9</td>\n      <td>43.2</td>\n      <td>68.2</td>\n      <td>114.7</td>\n      <td>2005.1</td>\n    </tr>\n    <tr>\n      <th>15</th>\n      <td>2011–12</td>\n      <td>3.4</td>\n      <td>1.3</td>\n      <td>0.9</td>\n      <td>1.2</td>\n      <td>348.6</td>\n      <td>330.8</td>\n      <td>17.6</td>\n      <td>30.6</td>\n      <td>23.4</td>\n      <td>...</td>\n      <td>93.6</td>\n      <td>353.5</td>\n      <td>139.4</td>\n      <td>103.5</td>\n      <td>110.4</td>\n      <td>116.7</td>\n      <td>42.7</td>\n      <td>64.9</td>\n      <td>124.2</td>\n      <td>1945.3</td>\n    </tr>\n    <tr>\n      <th>16</th>\n      <td>2012–13</td>\n      <td>3.6</td>\n      <td>1.5</td>\n      <td>0.9</td>\n      <td>1.3</td>\n      <td>352.3</td>\n      <td>332.4</td>\n      <td>19.6</td>\n      <td>30.9</td>\n      <td>22.4</td>\n      <td>...</td>\n      <td>90.1</td>\n      <td>370.2</td>\n      <td>136.1</td>\n      <td>114.4</td>\n      <td>119.5</td>\n      <td>121.6</td>\n      <td>46.1</td>\n      <td>65.7</td>\n      <td>147.4</td>\n      <td>1990.7</td>\n    </tr>\n  </tbody>\n</table>\n<p>5 rows × 39 columns</p>\n</div>"
     },
     "metadata": {},
     "execution_count": 14
    }
   ],
   "source": [
    "crime_rate_types_df.head()"
   ]
  },
  {
   "cell_type": "code",
   "execution_count": 15,
   "metadata": {
    "tags": []
   },
   "outputs": [
    {
     "output_type": "execute_result",
     "data": {
      "text/plain": "      Year 01 Homicide and related offences 011 Murder 012 Attempted Murder  \\\n1  2008–09                              816        318                  232   \n2  2009–10                              880        326                  227   \n3  2010–11                              757        303                  192   \n4  2011–12                              661        261                  168   \n5  2012–13                              728        296                  173   \n\n  013 Manslaughter and driving causing death 02 Acts intended to cause injury  \\\n1                                        260                            72069   \n2                                        322                            72280   \n3                                        256                            70573   \n4                                        237                            68476   \n5                                        258                            70371   \n\n  021 Assault 029 Other acts intended to cause injury  \\\n1       69218                                    2728   \n2       69079                                    3082   \n3       67219                                    3317   \n4       64981                                    3449   \n5       66406                                    3913   \n\n  03 Sexual assault and related offences 031 Sexual assault  ...  \\\n1                                   6340               4979  ...   \n2                                   6412               4889  ...   \n3                                   5796               4548  ...   \n4                                   6019               4591  ...   \n5                                   6173               4475  ...   \n\n  12 Property damage and environmental pollution 13 Public order offences  \\\n1                                          21953                    65962   \n2                                          21067                    75200   \n3                                          19937                    73845   \n4                                          18385                    69442   \n5                                          18000                    73940   \n\n  131 Disorderly conduct 132 Regulated public order offences  \\\n1                  29428                               20609   \n2                  31261                               21481   \n3                  28063                               21480   \n4                  27382                               20333   \n5                  27181                               22844   \n\n  133 Offensive conduct 15 Offences against justice  \\\n1                 15831                       26201   \n2                 22363                       26092   \n3                 24226                       23776   \n4                 21691                       22927   \n5                 23876                       24288   \n\n  153 Breach of violence and non-violence orders  \\\n1                                           7332   \n2                                           7970   \n3                                           8348   \n4                                           8383   \n5                                           9218   \n\n  156 Offences against justice procedures 16 Miscellaneous offences   Total  \n1                                   15148                     16957  375593  \n2                                   15067                     19228  393263  \n3                                   13186                     22190  387841  \n4                                   12751                     24397  382098  \n5                                   13123                     29453  397663  \n\n[5 rows x 39 columns]",
      "text/html": "<div>\n<style scoped>\n    .dataframe tbody tr th:only-of-type {\n        vertical-align: middle;\n    }\n\n    .dataframe tbody tr th {\n        vertical-align: top;\n    }\n\n    .dataframe thead th {\n        text-align: right;\n    }\n</style>\n<table border=\"1\" class=\"dataframe\">\n  <thead>\n    <tr style=\"text-align: right;\">\n      <th></th>\n      <th>Year</th>\n      <th>01 Homicide and related offences</th>\n      <th>011 Murder</th>\n      <th>012 Attempted Murder</th>\n      <th>013 Manslaughter and driving causing death</th>\n      <th>02 Acts intended to cause injury</th>\n      <th>021 Assault</th>\n      <th>029 Other acts intended to cause injury</th>\n      <th>03 Sexual assault and related offences</th>\n      <th>031 Sexual assault</th>\n      <th>...</th>\n      <th>12 Property damage and environmental pollution</th>\n      <th>13 Public order offences</th>\n      <th>131 Disorderly conduct</th>\n      <th>132 Regulated public order offences</th>\n      <th>133 Offensive conduct</th>\n      <th>15 Offences against justice</th>\n      <th>153 Breach of violence and non-violence orders</th>\n      <th>156 Offences against justice procedures</th>\n      <th>16 Miscellaneous offences</th>\n      <th>Total</th>\n    </tr>\n  </thead>\n  <tbody>\n    <tr>\n      <th>1</th>\n      <td>2008–09</td>\n      <td>816</td>\n      <td>318</td>\n      <td>232</td>\n      <td>260</td>\n      <td>72069</td>\n      <td>69218</td>\n      <td>2728</td>\n      <td>6340</td>\n      <td>4979</td>\n      <td>...</td>\n      <td>21953</td>\n      <td>65962</td>\n      <td>29428</td>\n      <td>20609</td>\n      <td>15831</td>\n      <td>26201</td>\n      <td>7332</td>\n      <td>15148</td>\n      <td>16957</td>\n      <td>375593</td>\n    </tr>\n    <tr>\n      <th>2</th>\n      <td>2009–10</td>\n      <td>880</td>\n      <td>326</td>\n      <td>227</td>\n      <td>322</td>\n      <td>72280</td>\n      <td>69079</td>\n      <td>3082</td>\n      <td>6412</td>\n      <td>4889</td>\n      <td>...</td>\n      <td>21067</td>\n      <td>75200</td>\n      <td>31261</td>\n      <td>21481</td>\n      <td>22363</td>\n      <td>26092</td>\n      <td>7970</td>\n      <td>15067</td>\n      <td>19228</td>\n      <td>393263</td>\n    </tr>\n    <tr>\n      <th>3</th>\n      <td>2010–11</td>\n      <td>757</td>\n      <td>303</td>\n      <td>192</td>\n      <td>256</td>\n      <td>70573</td>\n      <td>67219</td>\n      <td>3317</td>\n      <td>5796</td>\n      <td>4548</td>\n      <td>...</td>\n      <td>19937</td>\n      <td>73845</td>\n      <td>28063</td>\n      <td>21480</td>\n      <td>24226</td>\n      <td>23776</td>\n      <td>8348</td>\n      <td>13186</td>\n      <td>22190</td>\n      <td>387841</td>\n    </tr>\n    <tr>\n      <th>4</th>\n      <td>2011–12</td>\n      <td>661</td>\n      <td>261</td>\n      <td>168</td>\n      <td>237</td>\n      <td>68476</td>\n      <td>64981</td>\n      <td>3449</td>\n      <td>6019</td>\n      <td>4591</td>\n      <td>...</td>\n      <td>18385</td>\n      <td>69442</td>\n      <td>27382</td>\n      <td>20333</td>\n      <td>21691</td>\n      <td>22927</td>\n      <td>8383</td>\n      <td>12751</td>\n      <td>24397</td>\n      <td>382098</td>\n    </tr>\n    <tr>\n      <th>5</th>\n      <td>2012–13</td>\n      <td>728</td>\n      <td>296</td>\n      <td>173</td>\n      <td>258</td>\n      <td>70371</td>\n      <td>66406</td>\n      <td>3913</td>\n      <td>6173</td>\n      <td>4475</td>\n      <td>...</td>\n      <td>18000</td>\n      <td>73940</td>\n      <td>27181</td>\n      <td>22844</td>\n      <td>23876</td>\n      <td>24288</td>\n      <td>9218</td>\n      <td>13123</td>\n      <td>29453</td>\n      <td>397663</td>\n    </tr>\n  </tbody>\n</table>\n<p>5 rows × 39 columns</p>\n</div>"
     },
     "metadata": {},
     "execution_count": 15
    }
   ],
   "source": [
    "crime_types_df.head()"
   ]
  },
  {
   "cell_type": "code",
   "execution_count": null,
   "metadata": {},
   "outputs": [],
   "source": []
  }
 ]
}