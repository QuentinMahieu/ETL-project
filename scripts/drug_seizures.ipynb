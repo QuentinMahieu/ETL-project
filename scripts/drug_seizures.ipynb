{
 "cells": [
  {
   "cell_type": "code",
   "execution_count": 1,
   "metadata": {},
   "outputs": [],
   "source": [
    "import pandas as pd\n",
    "from functions import country_codes"
   ]
  },
  {
   "cell_type": "code",
   "execution_count": 2,
   "metadata": {},
   "outputs": [
    {
     "output_type": "execute_result",
     "data": {
      "text/plain": "      Unnamed: 0  Region       Sub Region  Country               Drug Group  \\\n0              0  Africa  Northern Africa  Algeria  ATS (excluding ecstasy)   \n1              1     NaN              NaN      NaN                      NaN   \n2              2     NaN              NaN      NaN                  Cocaine   \n3              3     NaN              NaN      NaN                      NaN   \n4              4     NaN              NaN      NaN                      NaN   \n...          ...     ...              ...      ...                      ...   \n4254        4254     NaN              NaN      NaN                      NaN   \n4255        4255     NaN              NaN      NaN                      NaN   \n4256        4256     NaN              NaN    Tonga                  Cocaine   \n4257        4257     NaN              NaN      NaN         Marijuana (herb)   \n4258        4258     NaN              NaN      NaN              Other drugs   \n\n                                 Drug  1980  1981  1982  1983  ...     2009  \\\n0                     Methamphetamine   NaN   NaN   NaN   NaN  ...      NaN   \n1                   Non-specified ATS   NaN   NaN   NaN   NaN  ...      NaN   \n2     Cocaine (base, paste and salts)   NaN   NaN   NaN   NaN  ...  1.02636   \n3                       Cocaine salts   NaN   NaN   NaN   NaN  ...      NaN   \n4                               Crack   NaN   NaN   NaN   NaN  ...  0.04282   \n...                               ...   ...   ...   ...   ...  ...      ...   \n4254                    Cannabis seed   NaN   NaN   NaN   NaN  ...      NaN   \n4255      Non-specified hallucinogens  0.01   NaN   NaN   NaN  ...      NaN   \n4256  Cocaine (base, paste and salts)   NaN   NaN   NaN   NaN  ...      NaN   \n4257                 Marijuana (herb)   NaN   NaN   NaN   NaN  ...      NaN   \n4258                    Cannabis seed   NaN   NaN   NaN   1.5  ...      NaN   \n\n         2010       2011      2012      2013      2014        2015       2016  \\\n0         NaN        NaN    8.0350       NaN       NaN         NaN        NaN   \n1         NaN        NaN       NaN       NaN       NaN  159.490250  268.10650   \n2         NaN        NaN       NaN       NaN       NaN         NaN        NaN   \n3     1.17772  10.901023  182.8567  3.790487  1.245626   88.287395   59.09941   \n4         NaN   0.005700       NaN       NaN       NaN    0.048300    0.02300   \n...       ...        ...       ...       ...       ...         ...        ...   \n4254      NaN        NaN       NaN       NaN       NaN         NaN        NaN   \n4255      NaN        NaN       NaN       NaN       NaN         NaN        NaN   \n4256      NaN        NaN       NaN       NaN       NaN         NaN        NaN   \n4257      NaN        NaN       NaN       NaN       NaN         NaN        NaN   \n4258      NaN        NaN       NaN       NaN       NaN         NaN        NaN   \n\n            2017        2018  \n0            NaN         NaN  \n1     300.448000  451.960750  \n2            NaN         NaN  \n3       6.279407  671.887093  \n4       0.631200    0.000300  \n...          ...         ...  \n4254         NaN         NaN  \n4255         NaN         NaN  \n4256         NaN         NaN  \n4257         NaN         NaN  \n4258         NaN         NaN  \n\n[4259 rows x 45 columns]",
      "text/html": "<div>\n<style scoped>\n    .dataframe tbody tr th:only-of-type {\n        vertical-align: middle;\n    }\n\n    .dataframe tbody tr th {\n        vertical-align: top;\n    }\n\n    .dataframe thead th {\n        text-align: right;\n    }\n</style>\n<table border=\"1\" class=\"dataframe\">\n  <thead>\n    <tr style=\"text-align: right;\">\n      <th></th>\n      <th>Unnamed: 0</th>\n      <th>Region</th>\n      <th>Sub Region</th>\n      <th>Country</th>\n      <th>Drug Group</th>\n      <th>Drug</th>\n      <th>1980</th>\n      <th>1981</th>\n      <th>1982</th>\n      <th>1983</th>\n      <th>...</th>\n      <th>2009</th>\n      <th>2010</th>\n      <th>2011</th>\n      <th>2012</th>\n      <th>2013</th>\n      <th>2014</th>\n      <th>2015</th>\n      <th>2016</th>\n      <th>2017</th>\n      <th>2018</th>\n    </tr>\n  </thead>\n  <tbody>\n    <tr>\n      <th>0</th>\n      <td>0</td>\n      <td>Africa</td>\n      <td>Northern Africa</td>\n      <td>Algeria</td>\n      <td>ATS (excluding ecstasy)</td>\n      <td>Methamphetamine</td>\n      <td>NaN</td>\n      <td>NaN</td>\n      <td>NaN</td>\n      <td>NaN</td>\n      <td>...</td>\n      <td>NaN</td>\n      <td>NaN</td>\n      <td>NaN</td>\n      <td>8.0350</td>\n      <td>NaN</td>\n      <td>NaN</td>\n      <td>NaN</td>\n      <td>NaN</td>\n      <td>NaN</td>\n      <td>NaN</td>\n    </tr>\n    <tr>\n      <th>1</th>\n      <td>1</td>\n      <td>NaN</td>\n      <td>NaN</td>\n      <td>NaN</td>\n      <td>NaN</td>\n      <td>Non-specified ATS</td>\n      <td>NaN</td>\n      <td>NaN</td>\n      <td>NaN</td>\n      <td>NaN</td>\n      <td>...</td>\n      <td>NaN</td>\n      <td>NaN</td>\n      <td>NaN</td>\n      <td>NaN</td>\n      <td>NaN</td>\n      <td>NaN</td>\n      <td>159.490250</td>\n      <td>268.10650</td>\n      <td>300.448000</td>\n      <td>451.960750</td>\n    </tr>\n    <tr>\n      <th>2</th>\n      <td>2</td>\n      <td>NaN</td>\n      <td>NaN</td>\n      <td>NaN</td>\n      <td>Cocaine</td>\n      <td>Cocaine (base, paste and salts)</td>\n      <td>NaN</td>\n      <td>NaN</td>\n      <td>NaN</td>\n      <td>NaN</td>\n      <td>...</td>\n      <td>1.02636</td>\n      <td>NaN</td>\n      <td>NaN</td>\n      <td>NaN</td>\n      <td>NaN</td>\n      <td>NaN</td>\n      <td>NaN</td>\n      <td>NaN</td>\n      <td>NaN</td>\n      <td>NaN</td>\n    </tr>\n    <tr>\n      <th>3</th>\n      <td>3</td>\n      <td>NaN</td>\n      <td>NaN</td>\n      <td>NaN</td>\n      <td>NaN</td>\n      <td>Cocaine salts</td>\n      <td>NaN</td>\n      <td>NaN</td>\n      <td>NaN</td>\n      <td>NaN</td>\n      <td>...</td>\n      <td>NaN</td>\n      <td>1.17772</td>\n      <td>10.901023</td>\n      <td>182.8567</td>\n      <td>3.790487</td>\n      <td>1.245626</td>\n      <td>88.287395</td>\n      <td>59.09941</td>\n      <td>6.279407</td>\n      <td>671.887093</td>\n    </tr>\n    <tr>\n      <th>4</th>\n      <td>4</td>\n      <td>NaN</td>\n      <td>NaN</td>\n      <td>NaN</td>\n      <td>NaN</td>\n      <td>Crack</td>\n      <td>NaN</td>\n      <td>NaN</td>\n      <td>NaN</td>\n      <td>NaN</td>\n      <td>...</td>\n      <td>0.04282</td>\n      <td>NaN</td>\n      <td>0.005700</td>\n      <td>NaN</td>\n      <td>NaN</td>\n      <td>NaN</td>\n      <td>0.048300</td>\n      <td>0.02300</td>\n      <td>0.631200</td>\n      <td>0.000300</td>\n    </tr>\n    <tr>\n      <th>...</th>\n      <td>...</td>\n      <td>...</td>\n      <td>...</td>\n      <td>...</td>\n      <td>...</td>\n      <td>...</td>\n      <td>...</td>\n      <td>...</td>\n      <td>...</td>\n      <td>...</td>\n      <td>...</td>\n      <td>...</td>\n      <td>...</td>\n      <td>...</td>\n      <td>...</td>\n      <td>...</td>\n      <td>...</td>\n      <td>...</td>\n      <td>...</td>\n      <td>...</td>\n      <td>...</td>\n    </tr>\n    <tr>\n      <th>4254</th>\n      <td>4254</td>\n      <td>NaN</td>\n      <td>NaN</td>\n      <td>NaN</td>\n      <td>NaN</td>\n      <td>Cannabis seed</td>\n      <td>NaN</td>\n      <td>NaN</td>\n      <td>NaN</td>\n      <td>NaN</td>\n      <td>...</td>\n      <td>NaN</td>\n      <td>NaN</td>\n      <td>NaN</td>\n      <td>NaN</td>\n      <td>NaN</td>\n      <td>NaN</td>\n      <td>NaN</td>\n      <td>NaN</td>\n      <td>NaN</td>\n      <td>NaN</td>\n    </tr>\n    <tr>\n      <th>4255</th>\n      <td>4255</td>\n      <td>NaN</td>\n      <td>NaN</td>\n      <td>NaN</td>\n      <td>NaN</td>\n      <td>Non-specified hallucinogens</td>\n      <td>0.01</td>\n      <td>NaN</td>\n      <td>NaN</td>\n      <td>NaN</td>\n      <td>...</td>\n      <td>NaN</td>\n      <td>NaN</td>\n      <td>NaN</td>\n      <td>NaN</td>\n      <td>NaN</td>\n      <td>NaN</td>\n      <td>NaN</td>\n      <td>NaN</td>\n      <td>NaN</td>\n      <td>NaN</td>\n    </tr>\n    <tr>\n      <th>4256</th>\n      <td>4256</td>\n      <td>NaN</td>\n      <td>NaN</td>\n      <td>Tonga</td>\n      <td>Cocaine</td>\n      <td>Cocaine (base, paste and salts)</td>\n      <td>NaN</td>\n      <td>NaN</td>\n      <td>NaN</td>\n      <td>NaN</td>\n      <td>...</td>\n      <td>NaN</td>\n      <td>NaN</td>\n      <td>NaN</td>\n      <td>NaN</td>\n      <td>NaN</td>\n      <td>NaN</td>\n      <td>NaN</td>\n      <td>NaN</td>\n      <td>NaN</td>\n      <td>NaN</td>\n    </tr>\n    <tr>\n      <th>4257</th>\n      <td>4257</td>\n      <td>NaN</td>\n      <td>NaN</td>\n      <td>NaN</td>\n      <td>Marijuana (herb)</td>\n      <td>Marijuana (herb)</td>\n      <td>NaN</td>\n      <td>NaN</td>\n      <td>NaN</td>\n      <td>NaN</td>\n      <td>...</td>\n      <td>NaN</td>\n      <td>NaN</td>\n      <td>NaN</td>\n      <td>NaN</td>\n      <td>NaN</td>\n      <td>NaN</td>\n      <td>NaN</td>\n      <td>NaN</td>\n      <td>NaN</td>\n      <td>NaN</td>\n    </tr>\n    <tr>\n      <th>4258</th>\n      <td>4258</td>\n      <td>NaN</td>\n      <td>NaN</td>\n      <td>NaN</td>\n      <td>Other drugs</td>\n      <td>Cannabis seed</td>\n      <td>NaN</td>\n      <td>NaN</td>\n      <td>NaN</td>\n      <td>1.5</td>\n      <td>...</td>\n      <td>NaN</td>\n      <td>NaN</td>\n      <td>NaN</td>\n      <td>NaN</td>\n      <td>NaN</td>\n      <td>NaN</td>\n      <td>NaN</td>\n      <td>NaN</td>\n      <td>NaN</td>\n      <td>NaN</td>\n    </tr>\n  </tbody>\n</table>\n<p>4259 rows × 45 columns</p>\n</div>"
     },
     "metadata": {},
     "execution_count": 2
    }
   ],
   "source": [
    "df = pd.read_csv('../Resources/seizure-table.csv')\n",
    "df"
   ]
  },
  {
   "cell_type": "code",
   "execution_count": 3,
   "metadata": {},
   "outputs": [
    {
     "output_type": "execute_result",
     "data": {
      "text/plain": "      Country      2008     2009     2010       2011      2012      2013  \\\n0     Algeria       NaN      NaN      NaN        NaN    8.0350       NaN   \n1         NaN       NaN      NaN      NaN        NaN       NaN       NaN   \n2         NaN  0.716418  1.02636      NaN        NaN       NaN       NaN   \n3         NaN       NaN      NaN  1.17772  10.901023  182.8567  3.790487   \n4         NaN  0.067000  0.04282      NaN   0.005700       NaN       NaN   \n...       ...       ...      ...      ...        ...       ...       ...   \n4254      NaN       NaN      NaN      NaN        NaN       NaN       NaN   \n4255      NaN       NaN      NaN      NaN        NaN       NaN       NaN   \n4256    Tonga       NaN      NaN      NaN        NaN       NaN       NaN   \n4257      NaN       NaN      NaN      NaN        NaN       NaN       NaN   \n4258      NaN       NaN      NaN      NaN        NaN       NaN       NaN   \n\n          2014        2015       2016        2017        2018  \n0          NaN         NaN        NaN         NaN         NaN  \n1          NaN  159.490250  268.10650  300.448000  451.960750  \n2          NaN         NaN        NaN         NaN         NaN  \n3     1.245626   88.287395   59.09941    6.279407  671.887093  \n4          NaN    0.048300    0.02300    0.631200    0.000300  \n...        ...         ...        ...         ...         ...  \n4254       NaN         NaN        NaN         NaN         NaN  \n4255       NaN         NaN        NaN         NaN         NaN  \n4256       NaN         NaN        NaN         NaN         NaN  \n4257       NaN         NaN        NaN         NaN         NaN  \n4258       NaN         NaN        NaN         NaN         NaN  \n\n[4259 rows x 12 columns]",
      "text/html": "<div>\n<style scoped>\n    .dataframe tbody tr th:only-of-type {\n        vertical-align: middle;\n    }\n\n    .dataframe tbody tr th {\n        vertical-align: top;\n    }\n\n    .dataframe thead th {\n        text-align: right;\n    }\n</style>\n<table border=\"1\" class=\"dataframe\">\n  <thead>\n    <tr style=\"text-align: right;\">\n      <th></th>\n      <th>Country</th>\n      <th>2008</th>\n      <th>2009</th>\n      <th>2010</th>\n      <th>2011</th>\n      <th>2012</th>\n      <th>2013</th>\n      <th>2014</th>\n      <th>2015</th>\n      <th>2016</th>\n      <th>2017</th>\n      <th>2018</th>\n    </tr>\n  </thead>\n  <tbody>\n    <tr>\n      <th>0</th>\n      <td>Algeria</td>\n      <td>NaN</td>\n      <td>NaN</td>\n      <td>NaN</td>\n      <td>NaN</td>\n      <td>8.0350</td>\n      <td>NaN</td>\n      <td>NaN</td>\n      <td>NaN</td>\n      <td>NaN</td>\n      <td>NaN</td>\n      <td>NaN</td>\n    </tr>\n    <tr>\n      <th>1</th>\n      <td>NaN</td>\n      <td>NaN</td>\n      <td>NaN</td>\n      <td>NaN</td>\n      <td>NaN</td>\n      <td>NaN</td>\n      <td>NaN</td>\n      <td>NaN</td>\n      <td>159.490250</td>\n      <td>268.10650</td>\n      <td>300.448000</td>\n      <td>451.960750</td>\n    </tr>\n    <tr>\n      <th>2</th>\n      <td>NaN</td>\n      <td>0.716418</td>\n      <td>1.02636</td>\n      <td>NaN</td>\n      <td>NaN</td>\n      <td>NaN</td>\n      <td>NaN</td>\n      <td>NaN</td>\n      <td>NaN</td>\n      <td>NaN</td>\n      <td>NaN</td>\n      <td>NaN</td>\n    </tr>\n    <tr>\n      <th>3</th>\n      <td>NaN</td>\n      <td>NaN</td>\n      <td>NaN</td>\n      <td>1.17772</td>\n      <td>10.901023</td>\n      <td>182.8567</td>\n      <td>3.790487</td>\n      <td>1.245626</td>\n      <td>88.287395</td>\n      <td>59.09941</td>\n      <td>6.279407</td>\n      <td>671.887093</td>\n    </tr>\n    <tr>\n      <th>4</th>\n      <td>NaN</td>\n      <td>0.067000</td>\n      <td>0.04282</td>\n      <td>NaN</td>\n      <td>0.005700</td>\n      <td>NaN</td>\n      <td>NaN</td>\n      <td>NaN</td>\n      <td>0.048300</td>\n      <td>0.02300</td>\n      <td>0.631200</td>\n      <td>0.000300</td>\n    </tr>\n    <tr>\n      <th>...</th>\n      <td>...</td>\n      <td>...</td>\n      <td>...</td>\n      <td>...</td>\n      <td>...</td>\n      <td>...</td>\n      <td>...</td>\n      <td>...</td>\n      <td>...</td>\n      <td>...</td>\n      <td>...</td>\n      <td>...</td>\n    </tr>\n    <tr>\n      <th>4254</th>\n      <td>NaN</td>\n      <td>NaN</td>\n      <td>NaN</td>\n      <td>NaN</td>\n      <td>NaN</td>\n      <td>NaN</td>\n      <td>NaN</td>\n      <td>NaN</td>\n      <td>NaN</td>\n      <td>NaN</td>\n      <td>NaN</td>\n      <td>NaN</td>\n    </tr>\n    <tr>\n      <th>4255</th>\n      <td>NaN</td>\n      <td>NaN</td>\n      <td>NaN</td>\n      <td>NaN</td>\n      <td>NaN</td>\n      <td>NaN</td>\n      <td>NaN</td>\n      <td>NaN</td>\n      <td>NaN</td>\n      <td>NaN</td>\n      <td>NaN</td>\n      <td>NaN</td>\n    </tr>\n    <tr>\n      <th>4256</th>\n      <td>Tonga</td>\n      <td>NaN</td>\n      <td>NaN</td>\n      <td>NaN</td>\n      <td>NaN</td>\n      <td>NaN</td>\n      <td>NaN</td>\n      <td>NaN</td>\n      <td>NaN</td>\n      <td>NaN</td>\n      <td>NaN</td>\n      <td>NaN</td>\n    </tr>\n    <tr>\n      <th>4257</th>\n      <td>NaN</td>\n      <td>NaN</td>\n      <td>NaN</td>\n      <td>NaN</td>\n      <td>NaN</td>\n      <td>NaN</td>\n      <td>NaN</td>\n      <td>NaN</td>\n      <td>NaN</td>\n      <td>NaN</td>\n      <td>NaN</td>\n      <td>NaN</td>\n    </tr>\n    <tr>\n      <th>4258</th>\n      <td>NaN</td>\n      <td>NaN</td>\n      <td>NaN</td>\n      <td>NaN</td>\n      <td>NaN</td>\n      <td>NaN</td>\n      <td>NaN</td>\n      <td>NaN</td>\n      <td>NaN</td>\n      <td>NaN</td>\n      <td>NaN</td>\n      <td>NaN</td>\n    </tr>\n  </tbody>\n</table>\n<p>4259 rows × 12 columns</p>\n</div>"
     },
     "metadata": {},
     "execution_count": 3
    }
   ],
   "source": [
    "df = df.drop(columns=['Unnamed: 0','Drug Group','Drug','Region','Sub Region','1980','1981','1982','1983','1984','1985','1986','1987','1988','1989','1990','1991','1992','1993','1994','1995','1996','1997','1998','1999','2000','2001','2002','2003','2004','2005','2006','2007'])\n",
    "df"
   ]
  },
  {
   "cell_type": "code",
   "execution_count": 4,
   "metadata": {},
   "outputs": [
    {
     "output_type": "execute_result",
     "data": {
      "text/plain": "   Country      2008     2009     2010       2011      2012      2013  \\\n0  Algeria       NaN      NaN      NaN        NaN    8.0350       NaN   \n1      NaN       NaN      NaN      NaN        NaN       NaN       NaN   \n2      NaN  0.716418  1.02636      NaN        NaN       NaN       NaN   \n3      NaN       NaN      NaN  1.17772  10.901023  182.8567  3.790487   \n4      NaN  0.067000  0.04282      NaN   0.005700       NaN       NaN   \n\n       2014        2015       2016        2017        2018     quantity  \n0       NaN         NaN        NaN         NaN         NaN     8.035000  \n1       NaN  159.490250  268.10650  300.448000  451.960750  1180.005500  \n2       NaN         NaN        NaN         NaN         NaN     1.742778  \n3  1.245626   88.287395   59.09941    6.279407  671.887093  1025.524861  \n4       NaN    0.048300    0.02300    0.631200    0.000300     0.818320  ",
      "text/html": "<div>\n<style scoped>\n    .dataframe tbody tr th:only-of-type {\n        vertical-align: middle;\n    }\n\n    .dataframe tbody tr th {\n        vertical-align: top;\n    }\n\n    .dataframe thead th {\n        text-align: right;\n    }\n</style>\n<table border=\"1\" class=\"dataframe\">\n  <thead>\n    <tr style=\"text-align: right;\">\n      <th></th>\n      <th>Country</th>\n      <th>2008</th>\n      <th>2009</th>\n      <th>2010</th>\n      <th>2011</th>\n      <th>2012</th>\n      <th>2013</th>\n      <th>2014</th>\n      <th>2015</th>\n      <th>2016</th>\n      <th>2017</th>\n      <th>2018</th>\n      <th>quantity</th>\n    </tr>\n  </thead>\n  <tbody>\n    <tr>\n      <th>0</th>\n      <td>Algeria</td>\n      <td>NaN</td>\n      <td>NaN</td>\n      <td>NaN</td>\n      <td>NaN</td>\n      <td>8.0350</td>\n      <td>NaN</td>\n      <td>NaN</td>\n      <td>NaN</td>\n      <td>NaN</td>\n      <td>NaN</td>\n      <td>NaN</td>\n      <td>8.035000</td>\n    </tr>\n    <tr>\n      <th>1</th>\n      <td>NaN</td>\n      <td>NaN</td>\n      <td>NaN</td>\n      <td>NaN</td>\n      <td>NaN</td>\n      <td>NaN</td>\n      <td>NaN</td>\n      <td>NaN</td>\n      <td>159.490250</td>\n      <td>268.10650</td>\n      <td>300.448000</td>\n      <td>451.960750</td>\n      <td>1180.005500</td>\n    </tr>\n    <tr>\n      <th>2</th>\n      <td>NaN</td>\n      <td>0.716418</td>\n      <td>1.02636</td>\n      <td>NaN</td>\n      <td>NaN</td>\n      <td>NaN</td>\n      <td>NaN</td>\n      <td>NaN</td>\n      <td>NaN</td>\n      <td>NaN</td>\n      <td>NaN</td>\n      <td>NaN</td>\n      <td>1.742778</td>\n    </tr>\n    <tr>\n      <th>3</th>\n      <td>NaN</td>\n      <td>NaN</td>\n      <td>NaN</td>\n      <td>1.17772</td>\n      <td>10.901023</td>\n      <td>182.8567</td>\n      <td>3.790487</td>\n      <td>1.245626</td>\n      <td>88.287395</td>\n      <td>59.09941</td>\n      <td>6.279407</td>\n      <td>671.887093</td>\n      <td>1025.524861</td>\n    </tr>\n    <tr>\n      <th>4</th>\n      <td>NaN</td>\n      <td>0.067000</td>\n      <td>0.04282</td>\n      <td>NaN</td>\n      <td>0.005700</td>\n      <td>NaN</td>\n      <td>NaN</td>\n      <td>NaN</td>\n      <td>0.048300</td>\n      <td>0.02300</td>\n      <td>0.631200</td>\n      <td>0.000300</td>\n      <td>0.818320</td>\n    </tr>\n  </tbody>\n</table>\n</div>"
     },
     "metadata": {},
     "execution_count": 4
    }
   ],
   "source": [
    "df['quantity'] = df.sum(axis=1)\n",
    "df.head(5)"
   ]
  },
  {
   "cell_type": "code",
   "execution_count": 5,
   "metadata": {},
   "outputs": [
    {
     "output_type": "execute_result",
     "data": {
      "text/plain": "      Country     quantity\n0     Algeria     8.035000\n1         NaN  1180.005500\n2         NaN     1.742778\n3         NaN  1025.524861\n4         NaN     0.818320\n...       ...          ...\n4254      NaN     0.000000\n4255      NaN     0.000000\n4256    Tonga     0.000000\n4257      NaN     0.000000\n4258      NaN     0.000000\n\n[4259 rows x 2 columns]",
      "text/html": "<div>\n<style scoped>\n    .dataframe tbody tr th:only-of-type {\n        vertical-align: middle;\n    }\n\n    .dataframe tbody tr th {\n        vertical-align: top;\n    }\n\n    .dataframe thead th {\n        text-align: right;\n    }\n</style>\n<table border=\"1\" class=\"dataframe\">\n  <thead>\n    <tr style=\"text-align: right;\">\n      <th></th>\n      <th>Country</th>\n      <th>quantity</th>\n    </tr>\n  </thead>\n  <tbody>\n    <tr>\n      <th>0</th>\n      <td>Algeria</td>\n      <td>8.035000</td>\n    </tr>\n    <tr>\n      <th>1</th>\n      <td>NaN</td>\n      <td>1180.005500</td>\n    </tr>\n    <tr>\n      <th>2</th>\n      <td>NaN</td>\n      <td>1.742778</td>\n    </tr>\n    <tr>\n      <th>3</th>\n      <td>NaN</td>\n      <td>1025.524861</td>\n    </tr>\n    <tr>\n      <th>4</th>\n      <td>NaN</td>\n      <td>0.818320</td>\n    </tr>\n    <tr>\n      <th>...</th>\n      <td>...</td>\n      <td>...</td>\n    </tr>\n    <tr>\n      <th>4254</th>\n      <td>NaN</td>\n      <td>0.000000</td>\n    </tr>\n    <tr>\n      <th>4255</th>\n      <td>NaN</td>\n      <td>0.000000</td>\n    </tr>\n    <tr>\n      <th>4256</th>\n      <td>Tonga</td>\n      <td>0.000000</td>\n    </tr>\n    <tr>\n      <th>4257</th>\n      <td>NaN</td>\n      <td>0.000000</td>\n    </tr>\n    <tr>\n      <th>4258</th>\n      <td>NaN</td>\n      <td>0.000000</td>\n    </tr>\n  </tbody>\n</table>\n<p>4259 rows × 2 columns</p>\n</div>"
     },
     "metadata": {},
     "execution_count": 5
    }
   ],
   "source": [
    "df = df.drop(columns=['2008','2009','2010','2011','2012','2013','2014','2015','2016','2017','2018'])\n",
    "df"
   ]
  },
  {
   "cell_type": "code",
   "execution_count": 6,
   "metadata": {},
   "outputs": [
    {
     "output_type": "execute_result",
     "data": {
      "text/plain": "    Country      quantity\n0   Algeria  8.035000e+00\n1   Algeria  1.180005e+03\n2   Algeria  1.742778e+00\n3   Algeria  1.025525e+03\n4   Algeria  8.183200e-01\n5   Algeria  6.691966e+01\n6   Algeria  1.060205e+06\n7   Algeria  2.120946e+01\n8   Algeria  0.000000e+00\n9   Algeria  3.474700e+01\n10  Algeria  5.892902e+01\n11  Algeria  0.000000e+00\n12  Algeria  0.000000e+00\n13  Algeria  3.008200e+03\n14  Algeria  5.863149e+01\n15  Algeria  1.015028e+01\n16  Algeria  3.089000e-02\n17  Algeria  2.620740e+00\n18  Algeria  0.000000e+00\n19  Algeria  0.000000e+00",
      "text/html": "<div>\n<style scoped>\n    .dataframe tbody tr th:only-of-type {\n        vertical-align: middle;\n    }\n\n    .dataframe tbody tr th {\n        vertical-align: top;\n    }\n\n    .dataframe thead th {\n        text-align: right;\n    }\n</style>\n<table border=\"1\" class=\"dataframe\">\n  <thead>\n    <tr style=\"text-align: right;\">\n      <th></th>\n      <th>Country</th>\n      <th>quantity</th>\n    </tr>\n  </thead>\n  <tbody>\n    <tr>\n      <th>0</th>\n      <td>Algeria</td>\n      <td>8.035000e+00</td>\n    </tr>\n    <tr>\n      <th>1</th>\n      <td>Algeria</td>\n      <td>1.180005e+03</td>\n    </tr>\n    <tr>\n      <th>2</th>\n      <td>Algeria</td>\n      <td>1.742778e+00</td>\n    </tr>\n    <tr>\n      <th>3</th>\n      <td>Algeria</td>\n      <td>1.025525e+03</td>\n    </tr>\n    <tr>\n      <th>4</th>\n      <td>Algeria</td>\n      <td>8.183200e-01</td>\n    </tr>\n    <tr>\n      <th>5</th>\n      <td>Algeria</td>\n      <td>6.691966e+01</td>\n    </tr>\n    <tr>\n      <th>6</th>\n      <td>Algeria</td>\n      <td>1.060205e+06</td>\n    </tr>\n    <tr>\n      <th>7</th>\n      <td>Algeria</td>\n      <td>2.120946e+01</td>\n    </tr>\n    <tr>\n      <th>8</th>\n      <td>Algeria</td>\n      <td>0.000000e+00</td>\n    </tr>\n    <tr>\n      <th>9</th>\n      <td>Algeria</td>\n      <td>3.474700e+01</td>\n    </tr>\n    <tr>\n      <th>10</th>\n      <td>Algeria</td>\n      <td>5.892902e+01</td>\n    </tr>\n    <tr>\n      <th>11</th>\n      <td>Algeria</td>\n      <td>0.000000e+00</td>\n    </tr>\n    <tr>\n      <th>12</th>\n      <td>Algeria</td>\n      <td>0.000000e+00</td>\n    </tr>\n    <tr>\n      <th>13</th>\n      <td>Algeria</td>\n      <td>3.008200e+03</td>\n    </tr>\n    <tr>\n      <th>14</th>\n      <td>Algeria</td>\n      <td>5.863149e+01</td>\n    </tr>\n    <tr>\n      <th>15</th>\n      <td>Algeria</td>\n      <td>1.015028e+01</td>\n    </tr>\n    <tr>\n      <th>16</th>\n      <td>Algeria</td>\n      <td>3.089000e-02</td>\n    </tr>\n    <tr>\n      <th>17</th>\n      <td>Algeria</td>\n      <td>2.620740e+00</td>\n    </tr>\n    <tr>\n      <th>18</th>\n      <td>Algeria</td>\n      <td>0.000000e+00</td>\n    </tr>\n    <tr>\n      <th>19</th>\n      <td>Algeria</td>\n      <td>0.000000e+00</td>\n    </tr>\n  </tbody>\n</table>\n</div>"
     },
     "metadata": {},
     "execution_count": 6
    }
   ],
   "source": [
    "df = df.ffill()\n",
    "df.head(20)"
   ]
  },
  {
   "cell_type": "code",
   "execution_count": 7,
   "metadata": {},
   "outputs": [
    {
     "output_type": "execute_result",
     "data": {
      "text/plain": "                                        quantity\nCountry                                         \nAfghanistan                         3.902369e+06\nAlbania                             6.653025e+05\nAlgeria                             1.074963e+06\nAndorra                             1.466822e+02\nAngola                              1.722212e+04\n...                                          ...\nVenezuela (Bolivarian Republic of)  7.564213e+05\nViet Nam                            5.243914e+04\nYemen                               4.044972e+04\nZambia                              5.671450e+05\nZimbabwe                            1.164928e+02\n\n[195 rows x 1 columns]",
      "text/html": "<div>\n<style scoped>\n    .dataframe tbody tr th:only-of-type {\n        vertical-align: middle;\n    }\n\n    .dataframe tbody tr th {\n        vertical-align: top;\n    }\n\n    .dataframe thead th {\n        text-align: right;\n    }\n</style>\n<table border=\"1\" class=\"dataframe\">\n  <thead>\n    <tr style=\"text-align: right;\">\n      <th></th>\n      <th>quantity</th>\n    </tr>\n    <tr>\n      <th>Country</th>\n      <th></th>\n    </tr>\n  </thead>\n  <tbody>\n    <tr>\n      <th>Afghanistan</th>\n      <td>3.902369e+06</td>\n    </tr>\n    <tr>\n      <th>Albania</th>\n      <td>6.653025e+05</td>\n    </tr>\n    <tr>\n      <th>Algeria</th>\n      <td>1.074963e+06</td>\n    </tr>\n    <tr>\n      <th>Andorra</th>\n      <td>1.466822e+02</td>\n    </tr>\n    <tr>\n      <th>Angola</th>\n      <td>1.722212e+04</td>\n    </tr>\n    <tr>\n      <th>...</th>\n      <td>...</td>\n    </tr>\n    <tr>\n      <th>Venezuela (Bolivarian Republic of)</th>\n      <td>7.564213e+05</td>\n    </tr>\n    <tr>\n      <th>Viet Nam</th>\n      <td>5.243914e+04</td>\n    </tr>\n    <tr>\n      <th>Yemen</th>\n      <td>4.044972e+04</td>\n    </tr>\n    <tr>\n      <th>Zambia</th>\n      <td>5.671450e+05</td>\n    </tr>\n    <tr>\n      <th>Zimbabwe</th>\n      <td>1.164928e+02</td>\n    </tr>\n  </tbody>\n</table>\n<p>195 rows × 1 columns</p>\n</div>"
     },
     "metadata": {},
     "execution_count": 7
    }
   ],
   "source": [
    "df_country = df.groupby(['Country']).sum()\n",
    "df_country"
   ]
  },
  {
   "cell_type": "code",
   "execution_count": 8,
   "metadata": {},
   "outputs": [
    {
     "output_type": "execute_result",
     "data": {
      "text/plain": "                                Country      quantity\n0                           Afghanistan  3.902369e+06\n1                               Albania  6.653025e+05\n2                               Algeria  1.074963e+06\n3                               Andorra  1.466822e+02\n4                                Angola  1.722212e+04\n..                                  ...           ...\n190  Venezuela (Bolivarian Republic of)  7.564213e+05\n191                            Viet Nam  5.243914e+04\n192                               Yemen  4.044972e+04\n193                              Zambia  5.671450e+05\n194                            Zimbabwe  1.164928e+02\n\n[195 rows x 2 columns]",
      "text/html": "<div>\n<style scoped>\n    .dataframe tbody tr th:only-of-type {\n        vertical-align: middle;\n    }\n\n    .dataframe tbody tr th {\n        vertical-align: top;\n    }\n\n    .dataframe thead th {\n        text-align: right;\n    }\n</style>\n<table border=\"1\" class=\"dataframe\">\n  <thead>\n    <tr style=\"text-align: right;\">\n      <th></th>\n      <th>Country</th>\n      <th>quantity</th>\n    </tr>\n  </thead>\n  <tbody>\n    <tr>\n      <th>0</th>\n      <td>Afghanistan</td>\n      <td>3.902369e+06</td>\n    </tr>\n    <tr>\n      <th>1</th>\n      <td>Albania</td>\n      <td>6.653025e+05</td>\n    </tr>\n    <tr>\n      <th>2</th>\n      <td>Algeria</td>\n      <td>1.074963e+06</td>\n    </tr>\n    <tr>\n      <th>3</th>\n      <td>Andorra</td>\n      <td>1.466822e+02</td>\n    </tr>\n    <tr>\n      <th>4</th>\n      <td>Angola</td>\n      <td>1.722212e+04</td>\n    </tr>\n    <tr>\n      <th>...</th>\n      <td>...</td>\n      <td>...</td>\n    </tr>\n    <tr>\n      <th>190</th>\n      <td>Venezuela (Bolivarian Republic of)</td>\n      <td>7.564213e+05</td>\n    </tr>\n    <tr>\n      <th>191</th>\n      <td>Viet Nam</td>\n      <td>5.243914e+04</td>\n    </tr>\n    <tr>\n      <th>192</th>\n      <td>Yemen</td>\n      <td>4.044972e+04</td>\n    </tr>\n    <tr>\n      <th>193</th>\n      <td>Zambia</td>\n      <td>5.671450e+05</td>\n    </tr>\n    <tr>\n      <th>194</th>\n      <td>Zimbabwe</td>\n      <td>1.164928e+02</td>\n    </tr>\n  </tbody>\n</table>\n<p>195 rows × 2 columns</p>\n</div>"
     },
     "metadata": {},
     "execution_count": 8
    }
   ],
   "source": [
    "df_country = df_country.reset_index()\n",
    "df_country"
   ]
  },
  {
   "cell_type": "code",
   "execution_count": 9,
   "metadata": {},
   "outputs": [
    {
     "output_type": "execute_result",
     "data": {
      "text/plain": "                                Country    quantity\n0                           Afghanistan  3902368.61\n1                               Albania   665302.52\n2                               Algeria  1074963.04\n3                               Andorra      146.68\n4                                Angola    17222.12\n..                                  ...         ...\n190  Venezuela (Bolivarian Republic of)   756421.30\n191                            Viet Nam    52439.14\n192                               Yemen    40449.72\n193                              Zambia   567144.98\n194                            Zimbabwe      116.49\n\n[195 rows x 2 columns]",
      "text/html": "<div>\n<style scoped>\n    .dataframe tbody tr th:only-of-type {\n        vertical-align: middle;\n    }\n\n    .dataframe tbody tr th {\n        vertical-align: top;\n    }\n\n    .dataframe thead th {\n        text-align: right;\n    }\n</style>\n<table border=\"1\" class=\"dataframe\">\n  <thead>\n    <tr style=\"text-align: right;\">\n      <th></th>\n      <th>Country</th>\n      <th>quantity</th>\n    </tr>\n  </thead>\n  <tbody>\n    <tr>\n      <th>0</th>\n      <td>Afghanistan</td>\n      <td>3902368.61</td>\n    </tr>\n    <tr>\n      <th>1</th>\n      <td>Albania</td>\n      <td>665302.52</td>\n    </tr>\n    <tr>\n      <th>2</th>\n      <td>Algeria</td>\n      <td>1074963.04</td>\n    </tr>\n    <tr>\n      <th>3</th>\n      <td>Andorra</td>\n      <td>146.68</td>\n    </tr>\n    <tr>\n      <th>4</th>\n      <td>Angola</td>\n      <td>17222.12</td>\n    </tr>\n    <tr>\n      <th>...</th>\n      <td>...</td>\n      <td>...</td>\n    </tr>\n    <tr>\n      <th>190</th>\n      <td>Venezuela (Bolivarian Republic of)</td>\n      <td>756421.30</td>\n    </tr>\n    <tr>\n      <th>191</th>\n      <td>Viet Nam</td>\n      <td>52439.14</td>\n    </tr>\n    <tr>\n      <th>192</th>\n      <td>Yemen</td>\n      <td>40449.72</td>\n    </tr>\n    <tr>\n      <th>193</th>\n      <td>Zambia</td>\n      <td>567144.98</td>\n    </tr>\n    <tr>\n      <th>194</th>\n      <td>Zimbabwe</td>\n      <td>116.49</td>\n    </tr>\n  </tbody>\n</table>\n<p>195 rows × 2 columns</p>\n</div>"
     },
     "metadata": {},
     "execution_count": 9
    }
   ],
   "source": [
    "df_country['quantity'] = df_country['quantity'].map(\"{:.2f}\".format)\n",
    "df_country"
   ]
  },
  {
   "cell_type": "code",
   "execution_count": 10,
   "metadata": {},
   "outputs": [],
   "source": [
    "df_country['quantity'] = df_country['quantity'].astype(float)\n",
    "df_country = df_country.rename({'Country':'country'},axis=1)"
   ]
  },
  {
   "cell_type": "code",
   "execution_count": 11,
   "metadata": {},
   "outputs": [
    {
     "output_type": "execute_result",
     "data": {
      "text/plain": "                                country    quantity\n0                           Afghanistan  3902368.61\n1                               Albania   665302.52\n2                               Algeria  1074963.04\n3                               Andorra      146.68\n4                                Angola    17222.12\n..                                  ...         ...\n190  Venezuela (Bolivarian Republic of)   756421.30\n191                            Viet Nam    52439.14\n192                               Yemen    40449.72\n193                              Zambia   567144.98\n194                            Zimbabwe      116.49\n\n[195 rows x 2 columns]",
      "text/html": "<div>\n<style scoped>\n    .dataframe tbody tr th:only-of-type {\n        vertical-align: middle;\n    }\n\n    .dataframe tbody tr th {\n        vertical-align: top;\n    }\n\n    .dataframe thead th {\n        text-align: right;\n    }\n</style>\n<table border=\"1\" class=\"dataframe\">\n  <thead>\n    <tr style=\"text-align: right;\">\n      <th></th>\n      <th>country</th>\n      <th>quantity</th>\n    </tr>\n  </thead>\n  <tbody>\n    <tr>\n      <th>0</th>\n      <td>Afghanistan</td>\n      <td>3902368.61</td>\n    </tr>\n    <tr>\n      <th>1</th>\n      <td>Albania</td>\n      <td>665302.52</td>\n    </tr>\n    <tr>\n      <th>2</th>\n      <td>Algeria</td>\n      <td>1074963.04</td>\n    </tr>\n    <tr>\n      <th>3</th>\n      <td>Andorra</td>\n      <td>146.68</td>\n    </tr>\n    <tr>\n      <th>4</th>\n      <td>Angola</td>\n      <td>17222.12</td>\n    </tr>\n    <tr>\n      <th>...</th>\n      <td>...</td>\n      <td>...</td>\n    </tr>\n    <tr>\n      <th>190</th>\n      <td>Venezuela (Bolivarian Republic of)</td>\n      <td>756421.30</td>\n    </tr>\n    <tr>\n      <th>191</th>\n      <td>Viet Nam</td>\n      <td>52439.14</td>\n    </tr>\n    <tr>\n      <th>192</th>\n      <td>Yemen</td>\n      <td>40449.72</td>\n    </tr>\n    <tr>\n      <th>193</th>\n      <td>Zambia</td>\n      <td>567144.98</td>\n    </tr>\n    <tr>\n      <th>194</th>\n      <td>Zimbabwe</td>\n      <td>116.49</td>\n    </tr>\n  </tbody>\n</table>\n<p>195 rows × 2 columns</p>\n</div>"
     },
     "metadata": {},
     "execution_count": 11
    }
   ],
   "source": [
    "df_country"
   ]
  },
  {
   "cell_type": "code",
   "execution_count": 12,
   "metadata": {
    "tags": []
   },
   "outputs": [
    {
     "output_type": "stream",
     "name": "stdout",
     "text": "cabo verde not found\ncongo not found\nczechia not found\nczechoslovakia not found\nrussian federation not found\nussr not found\nviet nam not found\n"
    }
   ],
   "source": [
    "drug_seizure_df = country_codes(df_country,'Country')\n",
    "drug_seizure_df['country'] = drug_seizure_df['country'].str.normalize('NFKD').\\\n",
    "        str.encode('ascii', errors='ignore').str.decode('utf-8')"
   ]
  },
  {
   "cell_type": "code",
   "execution_count": 16,
   "metadata": {},
   "outputs": [
    {
     "output_type": "execute_result",
     "data": {
      "text/plain": "Empty DataFrame\nColumns: [country, quantity, country_code]\nIndex: []",
      "text/html": "<div>\n<style scoped>\n    .dataframe tbody tr th:only-of-type {\n        vertical-align: middle;\n    }\n\n    .dataframe tbody tr th {\n        vertical-align: top;\n    }\n\n    .dataframe thead th {\n        text-align: right;\n    }\n</style>\n<table border=\"1\" class=\"dataframe\">\n  <thead>\n    <tr style=\"text-align: right;\">\n      <th></th>\n      <th>country</th>\n      <th>quantity</th>\n      <th>country_code</th>\n    </tr>\n  </thead>\n  <tbody>\n  </tbody>\n</table>\n</div>"
     },
     "metadata": {},
     "execution_count": 16
    }
   ],
   "source": [
    "drug_seizure_df[drug_seizure_df['country_code']=='UK']"
   ]
  },
  {
   "cell_type": "code",
   "execution_count": 14,
   "metadata": {},
   "outputs": [],
   "source": [
    "df_country['country_code'][191] = \"VN\"\n",
    "df_country['country_code'][172] = \"SY\"\n",
    "df_country['country_code'][147] = \"MD\"\n",
    "df_country['country_code'][146] = \"KR\"\n",
    "df_country['country_code'][149] = \"RU\"\n",
    "df_country['country_code'][54] = \"CD\"\n",
    "df_country['country_code'][45] = \"CG\"\n",
    "df_country['country_code'][51] = \"CZ\"\n",
    "df_country['country_code'][52] = \"CZ\"\n",
    "df_country['country_code'][167] = \"PS\"\n",
    "df_country['country_code'][182] = \"SU\"\n",
    "df_country['country_code'][102] = \"LAK\"\n",
    "df_country['country_code'][65] = \"DE\"\n",
    "df_country['country_code'][73] = \"DE\"\n",
    "df_country['country_code'][43] = \"CC\"\n",
    "df_country['country_code'][31] = \"CV\""
   ]
  },
  {
   "cell_type": "code",
   "execution_count": 17,
   "metadata": {},
   "outputs": [],
   "source": [
    "#for SQL\n",
    "del drug_seizure_df['country']\n",
    "drug_seizure_df = drug_seizure_df.iloc[:,[1,0]]\n",
    "drug_seizure_df.to_csv(\"../SQL/Data/drug_seizures.csv\")"
   ]
  },
  {
   "cell_type": "code",
   "execution_count": 18,
   "metadata": {},
   "outputs": [],
   "source": [
    "import sqlite3\n",
    "path = '/Users/quentinmahieu/Desktop/School/Monash/Projects_Monash/13.ETL_project/SQL/crime.db'\n",
    "conn = sqlite3.connect(path)\n",
    "drug_seizure_df.to_sql('drug_seizures', con = conn)"
   ]
  },
  {
   "cell_type": "code",
   "execution_count": null,
   "metadata": {},
   "outputs": [],
   "source": []
  }
 ],
 "metadata": {
  "kernelspec": {
   "display_name": "Python 3",
   "language": "python",
   "name": "python3"
  },
  "language_info": {
   "codemirror_mode": {
    "name": "ipython",
    "version": 3
   },
   "file_extension": ".py",
   "mimetype": "text/x-python",
   "name": "python",
   "nbconvert_exporter": "python",
   "pygments_lexer": "ipython3",
   "version": "3.6.10-final"
  },
  "varInspector": {
   "cols": {
    "lenName": 16,
    "lenType": 16,
    "lenVar": 40
   },
   "kernels_config": {
    "python": {
     "delete_cmd_postfix": "",
     "delete_cmd_prefix": "del ",
     "library": "var_list.py",
     "varRefreshCmd": "print(var_dic_list())"
    },
    "r": {
     "delete_cmd_postfix": ") ",
     "delete_cmd_prefix": "rm(",
     "library": "var_list.r",
     "varRefreshCmd": "cat(var_dic_list()) "
    }
   },
   "types_to_exclude": [
    "module",
    "function",
    "builtin_function_or_method",
    "instance",
    "_Feature"
   ],
   "window_display": false
  }
 },
 "nbformat": 4,
 "nbformat_minor": 4
}