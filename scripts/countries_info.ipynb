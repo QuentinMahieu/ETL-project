{
 "metadata": {
  "language_info": {
   "codemirror_mode": {
    "name": "ipython",
    "version": 3
   },
   "file_extension": ".py",
   "mimetype": "text/x-python",
   "name": "python",
   "nbconvert_exporter": "python",
   "pygments_lexer": "ipython3",
   "version": "3.6.10-final"
  },
  "orig_nbformat": 2,
  "kernelspec": {
   "name": "python_defaultSpec_1605918248151",
   "display_name": "Python 3.6.10 64-bit ('PythonDataNew': conda)"
  }
 },
 "nbformat": 4,
 "nbformat_minor": 2,
 "cells": [
  {
   "cell_type": "code",
   "execution_count": 1,
   "metadata": {},
   "outputs": [],
   "source": [
    "import pandas as pd\n",
    "import re\n",
    "from functions import country_codes"
   ]
  },
  {
   "cell_type": "code",
   "execution_count": 2,
   "metadata": {},
   "outputs": [
    {
     "output_type": "execute_result",
     "data": {
      "text/plain": "         country  population  density       size  fert_rate  med_age  \\\n0          China  1439323776    153.0  9388211.0        1.7     38.0   \n1          India  1380004385    464.0  2973190.0        2.2     28.0   \n2  United States   331002651     36.0  9147420.0        1.8     38.0   \n3      Indonesia   273523615    151.0  1811570.0        2.3     30.0   \n4       Pakistan   220892340    287.0   770880.0        3.6     23.0   \n\n   urban_pop (%)  wordl_pop (%)  \n0           61.0          18.47  \n1           35.0          17.70  \n2           83.0           4.25  \n3           56.0           3.51  \n4           35.0           2.83  ",
      "text/html": "<div>\n<style scoped>\n    .dataframe tbody tr th:only-of-type {\n        vertical-align: middle;\n    }\n\n    .dataframe tbody tr th {\n        vertical-align: top;\n    }\n\n    .dataframe thead th {\n        text-align: right;\n    }\n</style>\n<table border=\"1\" class=\"dataframe\">\n  <thead>\n    <tr style=\"text-align: right;\">\n      <th></th>\n      <th>country</th>\n      <th>population</th>\n      <th>density</th>\n      <th>size</th>\n      <th>fert_rate</th>\n      <th>med_age</th>\n      <th>urban_pop (%)</th>\n      <th>wordl_pop (%)</th>\n    </tr>\n  </thead>\n  <tbody>\n    <tr>\n      <th>0</th>\n      <td>China</td>\n      <td>1439323776</td>\n      <td>153.0</td>\n      <td>9388211.0</td>\n      <td>1.7</td>\n      <td>38.0</td>\n      <td>61.0</td>\n      <td>18.47</td>\n    </tr>\n    <tr>\n      <th>1</th>\n      <td>India</td>\n      <td>1380004385</td>\n      <td>464.0</td>\n      <td>2973190.0</td>\n      <td>2.2</td>\n      <td>28.0</td>\n      <td>35.0</td>\n      <td>17.70</td>\n    </tr>\n    <tr>\n      <th>2</th>\n      <td>United States</td>\n      <td>331002651</td>\n      <td>36.0</td>\n      <td>9147420.0</td>\n      <td>1.8</td>\n      <td>38.0</td>\n      <td>83.0</td>\n      <td>4.25</td>\n    </tr>\n    <tr>\n      <th>3</th>\n      <td>Indonesia</td>\n      <td>273523615</td>\n      <td>151.0</td>\n      <td>1811570.0</td>\n      <td>2.3</td>\n      <td>30.0</td>\n      <td>56.0</td>\n      <td>3.51</td>\n    </tr>\n    <tr>\n      <th>4</th>\n      <td>Pakistan</td>\n      <td>220892340</td>\n      <td>287.0</td>\n      <td>770880.0</td>\n      <td>3.6</td>\n      <td>23.0</td>\n      <td>35.0</td>\n      <td>2.83</td>\n    </tr>\n  </tbody>\n</table>\n</div>"
     },
     "metadata": {},
     "execution_count": 2
    }
   ],
   "source": [
    "df = pd.read_csv('../Resources/pop_worldometer_data.csv')\n",
    "countries_info_df = df.iloc[:,[0,1,4,5,7,8,9,10]]\n",
    "columns = ['country','population','density', 'size',\n",
    "        'fert_rate','med_age','urban_pop (%)','wordl_pop (%)']\n",
    "for i,col in enumerate(countries_info_df.columns):\n",
    "    countries_info_df = countries_info_df.rename({col:columns[i]},axis=1)\n",
    "countries_info_df.head()"
   ]
  },
  {
   "cell_type": "code",
   "execution_count": 3,
   "metadata": {
    "tags": []
   },
   "outputs": [
    {
     "output_type": "stream",
     "name": "stdout",
     "text": "dr congo not found\ncongo not found\n"
    }
   ],
   "source": [
    "countries_info_df = country_codes(countries_info_df,'country')"
   ]
  },
  {
   "cell_type": "code",
   "execution_count": 4,
   "metadata": {},
   "outputs": [],
   "source": [
    "countries_info_df['country_code'][15] = 'CD'\n",
    "countries_info_df['country_code'][116] = 'CG'\n",
    "countries_info_df['country_code'][195] = 'VC'\n",
    "countries_info_df['country_code'][214] = 'TS'"
   ]
  },
  {
   "cell_type": "code",
   "execution_count": 7,
   "metadata": {},
   "outputs": [],
   "source": [
    "f = open('../Data/country_info.csv','w',encoding='utf-8')\n",
    "countries_info_df.to_csv(f)\n",
    "f.close()"
   ]
  },
  {
   "cell_type": "code",
   "execution_count": null,
   "metadata": {},
   "outputs": [],
   "source": []
  }
 ]
}